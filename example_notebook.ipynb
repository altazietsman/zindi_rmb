{
 "cells": [
  {
   "cell_type": "markdown",
   "metadata": {},
   "source": [
    "# Example Notebook\n",
    "\n",
    "This notebook acts as an example on how to use the predict function. The rmse for each month will also be calculated and displayed.\n",
    "\n",
    "Ensure that PYTHONPATH is set to the directory and that all libraries are installed or conda env is activated."
   ]
  },
  {
   "cell_type": "code",
   "execution_count": 1,
   "metadata": {},
   "outputs": [],
   "source": [
    "import predict\n",
    "import pandas as pd\n",
    "from utils.data import get_montly_cpi, id_to_cat\n",
    "from sklearn.metrics import mean_squared_error"
   ]
  },
  {
   "cell_type": "markdown",
   "metadata": {},
   "source": [
    "## Predict for April"
   ]
  },
  {
   "cell_type": "code",
   "execution_count": 2,
   "metadata": {},
   "outputs": [],
   "source": [
    "raw_cpi = pd.read_excel(\"/Users/altasaunders/Alta_projects/zindi_rmb/data/statssa_cpi.xlsx\",\n",
    "        dtype=\"object\",\n",
    "    )\n",
    "monthly_cpi = get_montly_cpi(raw_cpi=raw_cpi)"
   ]
  },
  {
   "cell_type": "code",
   "execution_count": 3,
   "metadata": {},
   "outputs": [
    {
     "name": "stdout",
     "output_type": "stream",
     "text": [
      "September CPI prediction file doesn't exist\n",
      "October CPI prediction file doesn't exist\n",
      "November CPI prediction file doesn't exist\n"
     ]
    }
   ],
   "source": [
    "apr = predict.predict(month='April', train_range=24)\n",
    "apr = pd.DataFrame.from_dict(apr, orient=\"index\").reset_index()"
   ]
  },
  {
   "cell_type": "code",
   "execution_count": 4,
   "metadata": {},
   "outputs": [
    {
     "data": {
      "text/plain": [
       "0.520957898261931"
      ]
     },
     "execution_count": 4,
     "metadata": {},
     "output_type": "execute_result"
    }
   ],
   "source": [
    "apr_actual = monthly_cpi[monthly_cpi['date'] == '2023-04'].drop(['date', 'index'], axis=1).transpose()[75]\n",
    "mean_squared_error(apr[0], apr_actual, squared=False)"
   ]
  },
  {
   "cell_type": "markdown",
   "metadata": {},
   "source": [
    "## Predict for May"
   ]
  },
  {
   "cell_type": "code",
   "execution_count": 5,
   "metadata": {},
   "outputs": [
    {
     "name": "stdout",
     "output_type": "stream",
     "text": [
      "September CPI prediction file exists\n",
      "October CPI prediction file exists\n",
      "November CPI prediction file exists\n"
     ]
    }
   ],
   "source": [
    "may = predict.predict(month='May')\n",
    "may = pd.DataFrame.from_dict(may, orient=\"index\").reset_index()"
   ]
  },
  {
   "cell_type": "code",
   "execution_count": 6,
   "metadata": {},
   "outputs": [
    {
     "data": {
      "text/plain": [
       "0.5707559154878289"
      ]
     },
     "execution_count": 6,
     "metadata": {},
     "output_type": "execute_result"
    }
   ],
   "source": [
    "may_actual = monthly_cpi[monthly_cpi['date'] == '2023-05'].drop(['date', 'index'], axis=1).transpose()[76]\n",
    "mean_squared_error(may[0], may_actual, squared=False)"
   ]
  },
  {
   "cell_type": "markdown",
   "metadata": {},
   "source": [
    "## Predict for June"
   ]
  },
  {
   "cell_type": "code",
   "execution_count": 7,
   "metadata": {},
   "outputs": [
    {
     "name": "stdout",
     "output_type": "stream",
     "text": [
      "September CPI prediction file exists\n",
      "October CPI prediction file exists\n",
      "November CPI prediction file exists\n"
     ]
    }
   ],
   "source": [
    "jun = predict.predict(month='June')\n",
    "jun = pd.DataFrame.from_dict(jun, orient=\"index\").reset_index()"
   ]
  },
  {
   "cell_type": "code",
   "execution_count": 8,
   "metadata": {},
   "outputs": [
    {
     "data": {
      "text/plain": [
       "0.5580999300285354"
      ]
     },
     "execution_count": 8,
     "metadata": {},
     "output_type": "execute_result"
    }
   ],
   "source": [
    "jun_actual = monthly_cpi[monthly_cpi['date'] == '2023-06'].drop(['date', 'index'], axis=1).transpose()[77]\n",
    "mean_squared_error(jun[0], jun_actual, squared=False)"
   ]
  },
  {
   "cell_type": "markdown",
   "metadata": {},
   "source": [
    "## Predict for July"
   ]
  },
  {
   "cell_type": "code",
   "execution_count": 9,
   "metadata": {},
   "outputs": [
    {
     "name": "stdout",
     "output_type": "stream",
     "text": [
      "September CPI prediction file exists\n",
      "October CPI prediction file exists\n",
      "November CPI prediction file exists\n"
     ]
    }
   ],
   "source": [
    "jul = predict.predict(month='July')\n",
    "jul = pd.DataFrame.from_dict(jul, orient=\"index\").reset_index()"
   ]
  },
  {
   "cell_type": "code",
   "execution_count": 10,
   "metadata": {},
   "outputs": [
    {
     "data": {
      "text/plain": [
       "0.37998949409928195"
      ]
     },
     "execution_count": 10,
     "metadata": {},
     "output_type": "execute_result"
    }
   ],
   "source": [
    "jul_actual = monthly_cpi[monthly_cpi['date'] == '2023-07'].drop(['date', 'index'], axis=1).transpose()[78]\n",
    "mean_squared_error(jul[0], jul_actual, squared=False)"
   ]
  },
  {
   "cell_type": "markdown",
   "metadata": {},
   "source": [
    "## Predict for August"
   ]
  },
  {
   "cell_type": "code",
   "execution_count": 11,
   "metadata": {},
   "outputs": [
    {
     "name": "stdout",
     "output_type": "stream",
     "text": [
      "September CPI prediction file exists\n",
      "October CPI prediction file exists\n",
      "November CPI prediction file exists\n"
     ]
    }
   ],
   "source": [
    "aug = predict.predict(month='August')\n",
    "aug = pd.DataFrame.from_dict(aug, orient=\"index\").reset_index()"
   ]
  },
  {
   "cell_type": "code",
   "execution_count": 12,
   "metadata": {},
   "outputs": [
    {
     "data": {
      "text/plain": [
       "0.35915969192815494"
      ]
     },
     "execution_count": 12,
     "metadata": {},
     "output_type": "execute_result"
    }
   ],
   "source": [
    "aug_actual = monthly_cpi[monthly_cpi['date'] == '2023-08'].drop(['date', 'index'], axis=1).transpose()[79]\n",
    "mean_squared_error(aug[0], aug_actual, squared=False)"
   ]
  },
  {
   "cell_type": "markdown",
   "metadata": {},
   "source": [
    "# Predict for September"
   ]
  },
  {
   "cell_type": "code",
   "execution_count": 13,
   "metadata": {},
   "outputs": [
    {
     "name": "stdout",
     "output_type": "stream",
     "text": [
      "September CPI prediction file exists\n",
      "October CPI prediction file exists\n",
      "November CPI prediction file exists\n"
     ]
    }
   ],
   "source": [
    "sep = predict.predict(month='September')\n",
    "sep = pd.DataFrame.from_dict(sep, orient=\"index\").reset_index()"
   ]
  },
  {
   "cell_type": "code",
   "execution_count": null,
   "metadata": {},
   "outputs": [],
   "source": []
  }
 ],
 "metadata": {
  "kernelspec": {
   "display_name": "Python 3.9.16 ('rmb_clean')",
   "language": "python",
   "name": "python3"
  },
  "language_info": {
   "codemirror_mode": {
    "name": "ipython",
    "version": 3
   },
   "file_extension": ".py",
   "mimetype": "text/x-python",
   "name": "python",
   "nbconvert_exporter": "python",
   "pygments_lexer": "ipython3",
   "version": "3.9.16"
  },
  "orig_nbformat": 4,
  "vscode": {
   "interpreter": {
    "hash": "654da939fda5ee06bc8ea56a4640b6483e2634c6d361c4322270f9593bc01c5c"
   }
  }
 },
 "nbformat": 4,
 "nbformat_minor": 2
}
