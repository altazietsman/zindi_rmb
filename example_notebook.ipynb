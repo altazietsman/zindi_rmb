{
 "cells": [
  {
   "cell_type": "markdown",
   "metadata": {},
   "source": [
    "# Example Notebook\n",
    "\n",
    "This notebook acts as an example on how to use the predict function. The rmse for each month will also be calculated and displayed.\n",
    "\n",
    "Ensure that PYTHONPATH is set to the directory and that all libraries are installed or conda env is activated."
   ]
  },
  {
   "cell_type": "code",
   "execution_count": 1,
   "metadata": {},
   "outputs": [],
   "source": [
    "import predict\n",
    "import pandas as pd\n",
    "from utils.data import get_montly_cpi, id_to_cat\n",
    "from sklearn.metrics import mean_squared_error"
   ]
  },
  {
   "cell_type": "markdown",
   "metadata": {},
   "source": [
    "## Predict for April"
   ]
  },
  {
   "cell_type": "code",
   "execution_count": 2,
   "metadata": {},
   "outputs": [],
   "source": [
    "raw_cpi = pd.read_excel(\"/Users/altasaunders/Alta_projects/zindi_rmb/data/statssa_cpi.xlsx\",\n",
    "        dtype=\"object\",\n",
    "    )\n",
    "monthly_cpi = get_montly_cpi(raw_cpi=raw_cpi)"
   ]
  },
  {
   "cell_type": "code",
   "execution_count": 3,
   "metadata": {},
   "outputs": [
    {
     "name": "stdout",
     "output_type": "stream",
     "text": [
      "            y\n",
      "index        \n",
      "2019-11  88.9\n",
      "2019-12  89.1\n",
      "2020-01  90.2\n",
      "2020-02  90.6\n",
      "2020-03  90.8\n"
     ]
    },
    {
     "name": "stderr",
     "output_type": "stream",
     "text": [
      "/opt/miniconda3/envs/zindi_rmb/lib/python3.9/site-packages/statsmodels/tsa/base/tsa_model.py:473: ValueWarning: No frequency information was provided, so inferred frequency MS will be used.\n",
      "  self._init_dates(dates, freq)\n"
     ]
    },
    {
     "ename": "ValueError",
     "evalue": "Only gave one variable to VAR",
     "output_type": "error",
     "traceback": [
      "\u001b[0;31m---------------------------------------------------------------------------\u001b[0m",
      "\u001b[0;31mValueError\u001b[0m                                Traceback (most recent call last)",
      "Cell \u001b[0;32mIn[3], line 1\u001b[0m\n\u001b[0;32m----> 1\u001b[0m apr \u001b[38;5;241m=\u001b[39m \u001b[43mpredict\u001b[49m\u001b[38;5;241;43m.\u001b[39;49m\u001b[43mpredict\u001b[49m\u001b[43m(\u001b[49m\u001b[43mmonth\u001b[49m\u001b[38;5;241;43m=\u001b[39;49m\u001b[38;5;124;43m'\u001b[39;49m\u001b[38;5;124;43mApril\u001b[39;49m\u001b[38;5;124;43m'\u001b[39;49m\u001b[43m,\u001b[49m\u001b[43m \u001b[49m\u001b[43mtrain_range\u001b[49m\u001b[38;5;241;43m=\u001b[39;49m\u001b[38;5;241;43m34\u001b[39;49m\u001b[43m)\u001b[49m\n\u001b[1;32m      2\u001b[0m apr \u001b[38;5;241m=\u001b[39m pd\u001b[38;5;241m.\u001b[39mDataFrame\u001b[38;5;241m.\u001b[39mfrom_dict(apr, orient\u001b[38;5;241m=\u001b[39m\u001b[38;5;124m\"\u001b[39m\u001b[38;5;124mindex\u001b[39m\u001b[38;5;124m\"\u001b[39m)\u001b[38;5;241m.\u001b[39mreset_index()\n",
      "File \u001b[0;32m~/Alta_projects/zindi_rmb/predict.py:46\u001b[0m, in \u001b[0;36mpredict\u001b[0;34m(month, train_range)\u001b[0m\n\u001b[1;32m     42\u001b[0m train_df \u001b[39m=\u001b[39m monthly_cpi[monthly_cpi[\u001b[39m\"\u001b[39m\u001b[39mdate\u001b[39m\u001b[39m\"\u001b[39m] \u001b[39m<\u001b[39m \u001b[39mf\u001b[39m\u001b[39m\"\u001b[39m\u001b[39m2023-\u001b[39m\u001b[39m{\u001b[39;00mmonth_number\u001b[39m}\u001b[39;00m\u001b[39m\"\u001b[39m]\u001b[39m.\u001b[39msort_values(\n\u001b[1;32m     43\u001b[0m     by\u001b[39m=\u001b[39m[\u001b[39m\"\u001b[39m\u001b[39mdate\u001b[39m\u001b[39m\"\u001b[39m]\n\u001b[1;32m     44\u001b[0m )\n\u001b[1;32m     45\u001b[0m model \u001b[39m=\u001b[39m load_models(model_name\u001b[39m=\u001b[39m\u001b[39mstr\u001b[39m(selected_model))\n\u001b[0;32m---> 46\u001b[0m model\u001b[39m.\u001b[39;49mfit(train_df[[\u001b[39m\"\u001b[39;49m\u001b[39mdate\u001b[39;49m\u001b[39m\"\u001b[39;49m, cat_id]])\n\u001b[1;32m     47\u001b[0m pred \u001b[39m=\u001b[39m model\u001b[39m.\u001b[39mpredict(forecast\u001b[39m=\u001b[39m\u001b[39m1\u001b[39m)\n\u001b[1;32m     48\u001b[0m predictions[\u001b[39mstr\u001b[39m(cat)\u001b[39m.\u001b[39mstrip()] \u001b[39m=\u001b[39m pred[\u001b[39m0\u001b[39m]\n",
      "File \u001b[0;32m~/Alta_projects/zindi_rmb/models/Varima.py:81\u001b[0m, in \u001b[0;36mVarima.fit\u001b[0;34m(self, y, X)\u001b[0m\n\u001b[1;32m     78\u001b[0m     data \u001b[39m=\u001b[39m data\u001b[39m.\u001b[39mset_index(\u001b[39m\"\u001b[39m\u001b[39mindex\u001b[39m\u001b[39m\"\u001b[39m)\n\u001b[1;32m     79\u001b[0m \u001b[39mprint\u001b[39m(data\u001b[39m.\u001b[39mhead())\n\u001b[0;32m---> 81\u001b[0m \u001b[39mself\u001b[39m\u001b[39m.\u001b[39mmodel_ \u001b[39m=\u001b[39m VAR(endog\u001b[39m=\u001b[39;49mdata)\u001b[39m.\u001b[39mfit()\n\u001b[1;32m     83\u001b[0m \u001b[39mreturn\u001b[39;00m \u001b[39mself\u001b[39m\u001b[39m.\u001b[39mmodel_\n",
      "File \u001b[0;32m/opt/miniconda3/envs/zindi_rmb/lib/python3.9/site-packages/statsmodels/tsa/vector_ar/var_model.py:553\u001b[0m, in \u001b[0;36mVAR.__init__\u001b[0;34m(self, endog, exog, dates, freq, missing)\u001b[0m\n\u001b[1;32m    551\u001b[0m \u001b[39msuper\u001b[39m()\u001b[39m.\u001b[39m\u001b[39m__init__\u001b[39m(endog, exog, dates, freq, missing\u001b[39m=\u001b[39mmissing)\n\u001b[1;32m    552\u001b[0m \u001b[39mif\u001b[39;00m \u001b[39mself\u001b[39m\u001b[39m.\u001b[39mendog\u001b[39m.\u001b[39mndim \u001b[39m==\u001b[39m \u001b[39m1\u001b[39m:\n\u001b[0;32m--> 553\u001b[0m     \u001b[39mraise\u001b[39;00m \u001b[39mValueError\u001b[39;00m(\u001b[39m\"\u001b[39m\u001b[39mOnly gave one variable to VAR\u001b[39m\u001b[39m\"\u001b[39m)\n\u001b[1;32m    554\u001b[0m \u001b[39mself\u001b[39m\u001b[39m.\u001b[39mneqs \u001b[39m=\u001b[39m \u001b[39mself\u001b[39m\u001b[39m.\u001b[39mendog\u001b[39m.\u001b[39mshape[\u001b[39m1\u001b[39m]\n\u001b[1;32m    555\u001b[0m \u001b[39mself\u001b[39m\u001b[39m.\u001b[39mn_totobs \u001b[39m=\u001b[39m \u001b[39mlen\u001b[39m(endog)\n",
      "\u001b[0;31mValueError\u001b[0m: Only gave one variable to VAR"
     ]
    }
   ],
   "source": [
    "apr = predict.predict(month='April', train_range=34)\n",
    "apr = pd.DataFrame.from_dict(apr, orient=\"index\").reset_index()"
   ]
  },
  {
   "cell_type": "code",
   "execution_count": null,
   "metadata": {},
   "outputs": [
    {
     "data": {
      "text/plain": [
       "0.9493388444133165"
      ]
     },
     "execution_count": 4,
     "metadata": {},
     "output_type": "execute_result"
    }
   ],
   "source": [
    "apr_actual = monthly_cpi[monthly_cpi['date'] == '2023-04'].drop(['date', 'index'], axis=1).transpose()[75]\n",
    "mean_squared_error(apr[0], apr_actual, squared=False)"
   ]
  },
  {
   "cell_type": "markdown",
   "metadata": {},
   "source": [
    "## Predict for May"
   ]
  },
  {
   "cell_type": "code",
   "execution_count": 5,
   "metadata": {},
   "outputs": [],
   "source": [
    "may = predict.predict(month='May')\n",
    "may = pd.DataFrame.from_dict(may, orient=\"index\").reset_index()"
   ]
  },
  {
   "cell_type": "code",
   "execution_count": 6,
   "metadata": {},
   "outputs": [
    {
     "data": {
      "text/plain": [
       "0.7670585144717"
      ]
     },
     "execution_count": 6,
     "metadata": {},
     "output_type": "execute_result"
    }
   ],
   "source": [
    "may_actual = monthly_cpi[monthly_cpi['date'] == '2023-05'].drop(['date', 'index'], axis=1).transpose()[76]\n",
    "mean_squared_error(may[0], may_actual, squared=False)"
   ]
  },
  {
   "cell_type": "markdown",
   "metadata": {},
   "source": [
    "## Predict for June"
   ]
  },
  {
   "cell_type": "code",
   "execution_count": 7,
   "metadata": {},
   "outputs": [],
   "source": [
    "jun = predict.predict(month='June')\n",
    "jun = pd.DataFrame.from_dict(jun, orient=\"index\").reset_index()"
   ]
  },
  {
   "cell_type": "code",
   "execution_count": 8,
   "metadata": {},
   "outputs": [
    {
     "data": {
      "text/plain": [
       "2.4540099052053352"
      ]
     },
     "execution_count": 8,
     "metadata": {},
     "output_type": "execute_result"
    }
   ],
   "source": [
    "jun_actual = monthly_cpi[monthly_cpi['date'] == '2023-06'].drop(['date', 'index'], axis=1).transpose()[77]\n",
    "mean_squared_error(jun[0], jun_actual, squared=False)"
   ]
  },
  {
   "cell_type": "markdown",
   "metadata": {},
   "source": [
    "## Predict for July"
   ]
  },
  {
   "cell_type": "code",
   "execution_count": 9,
   "metadata": {},
   "outputs": [],
   "source": [
    "jul = predict.predict(month='July')\n",
    "jul = pd.DataFrame.from_dict(jul, orient=\"index\").reset_index()"
   ]
  },
  {
   "cell_type": "code",
   "execution_count": 10,
   "metadata": {},
   "outputs": [
    {
     "data": {
      "text/plain": [
       "0.967048895769835"
      ]
     },
     "execution_count": 10,
     "metadata": {},
     "output_type": "execute_result"
    }
   ],
   "source": [
    "jul_actual = monthly_cpi[monthly_cpi['date'] == '2023-07'].drop(['date', 'index'], axis=1).transpose()[78]\n",
    "mean_squared_error(jul[0], jul_actual, squared=False)"
   ]
  },
  {
   "cell_type": "markdown",
   "metadata": {},
   "source": [
    "## Predict for August"
   ]
  },
  {
   "cell_type": "code",
   "execution_count": 17,
   "metadata": {},
   "outputs": [],
   "source": [
    "aug = predict.predict(month='August')\n",
    "aug = pd.DataFrame.from_dict(aug, orient=\"index\").reset_index()"
   ]
  },
  {
   "cell_type": "code",
   "execution_count": null,
   "metadata": {},
   "outputs": [],
   "source": []
  }
 ],
 "metadata": {
  "kernelspec": {
   "display_name": "Python 3.9.16 ('zindi_rmb')",
   "language": "python",
   "name": "python3"
  },
  "language_info": {
   "codemirror_mode": {
    "name": "ipython",
    "version": 3
   },
   "file_extension": ".py",
   "mimetype": "text/x-python",
   "name": "python",
   "nbconvert_exporter": "python",
   "pygments_lexer": "ipython3",
   "version": "3.9.16"
  },
  "orig_nbformat": 4,
  "vscode": {
   "interpreter": {
    "hash": "c64d72df593dea6c761f2df73983bedc3ab4ce00cdb01364b040ea0205292cb4"
   }
  }
 },
 "nbformat": 4,
 "nbformat_minor": 2
}
