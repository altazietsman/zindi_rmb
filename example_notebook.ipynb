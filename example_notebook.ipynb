{
 "cells": [
  {
   "cell_type": "markdown",
   "metadata": {},
   "source": [
    "# Example Notebook\n",
    "\n",
    "This notebook acts as an example on how to use the predict function. The rmse for each month will also be calculated and displayed.\n",
    "\n",
    "Ensure that PYTHONPATH is set to the directory and that all libraries are installed or conda env is activated."
   ]
  },
  {
   "cell_type": "code",
   "execution_count": null,
   "metadata": {},
   "outputs": [],
   "source": [
    "import predict\n",
    "import pandas as pd\n",
    "from utils.data import get_montly_cpi, id_to_cat\n",
    "from sklearn.metrics import mean_squared_error"
   ]
  },
  {
   "cell_type": "markdown",
   "metadata": {},
   "source": [
    "## Predict for April"
   ]
  },
  {
   "cell_type": "code",
   "execution_count": null,
   "metadata": {},
   "outputs": [],
   "source": [
    "raw_cpi = pd.read_excel(\"/Users/altasaunders/Alta_projects/zindi_rmb/data/statssa_cpi.xlsx\",\n",
    "        dtype=\"object\",\n",
    "    )\n",
    "monthly_cpi = get_montly_cpi(raw_cpi=raw_cpi)"
   ]
  },
  {
   "cell_type": "code",
   "execution_count": null,
   "metadata": {},
   "outputs": [],
   "source": [
    "apr = predict.predict(month='April')\n",
    "apr = pd.DataFrame.from_dict(apr, orient=\"index\").reset_index()"
   ]
  },
  {
   "cell_type": "code",
   "execution_count": null,
   "metadata": {},
   "outputs": [],
   "source": [
    "apr_actual = monthly_cpi[monthly_cpi['date'] == '2023-04'].drop(['date', 'index'], axis=1).transpose()[75]\n",
    "mean_squared_error(apr[0], apr_actual, squared=False)"
   ]
  },
  {
   "cell_type": "markdown",
   "metadata": {},
   "source": [
    "## Predict for April"
   ]
  },
  {
   "cell_type": "code",
   "execution_count": null,
   "metadata": {},
   "outputs": [],
   "source": [
    "may = predict.predict(month='May')\n",
    "may = pd.DataFrame.from_dict(may, orient=\"index\").reset_index()"
   ]
  },
  {
   "cell_type": "code",
   "execution_count": null,
   "metadata": {},
   "outputs": [],
   "source": [
    "may_actual = monthly_cpi[monthly_cpi['date'] == '2023-05'].drop(['date', 'index'], axis=1).transpose()[76]\n",
    "mean_squared_error(may[0], may_actual, squared=False)"
   ]
  },
  {
   "cell_type": "markdown",
   "metadata": {},
   "source": [
    "## Predict for June"
   ]
  },
  {
   "cell_type": "code",
   "execution_count": null,
   "metadata": {},
   "outputs": [],
   "source": [
    "jun = predict.predict(month='June')\n",
    "jun = pd.DataFrame.from_dict(jun, orient=\"index\").reset_index()"
   ]
  },
  {
   "cell_type": "code",
   "execution_count": null,
   "metadata": {},
   "outputs": [],
   "source": [
    "jun_actual = monthly_cpi[monthly_cpi['date'] == '2023-06'].drop(['date', 'index'], axis=1).transpose()[77]\n",
    "mean_squared_error(jun[0], jun_actual, squared=False)"
   ]
  },
  {
   "cell_type": "markdown",
   "metadata": {},
   "source": [
    "## Predict for July"
   ]
  },
  {
   "cell_type": "code",
   "execution_count": null,
   "metadata": {},
   "outputs": [],
   "source": [
    "jul = predict.predict(month='July')\n",
    "jul = pd.DataFrame.from_dict(jul, orient=\"index\").reset_index()"
   ]
  },
  {
   "cell_type": "code",
   "execution_count": null,
   "metadata": {},
   "outputs": [],
   "source": [
    "jul_actual = monthly_cpi[monthly_cpi['date'] == '2023-07'].drop(['date', 'index'], axis=1).transpose()[78]\n",
    "mean_squared_error(jul[0], jul_actual, squared=False)"
   ]
  },
  {
   "cell_type": "markdown",
   "metadata": {},
   "source": [
    "## Predict for August"
   ]
  },
  {
   "cell_type": "code",
   "execution_count": null,
   "metadata": {},
   "outputs": [],
   "source": [
    "aug = predict.predict(month='August')\n",
    "aug = pd.DataFrame.from_dict(aug, orient=\"index\").reset_index()"
   ]
  },
  {
   "cell_type": "code",
   "execution_count": null,
   "metadata": {},
   "outputs": [],
   "source": []
  }
 ],
 "metadata": {
  "kernelspec": {
   "display_name": "Python 3.9.16 ('zindi_rmb')",
   "language": "python",
   "name": "python3"
  },
  "language_info": {
   "codemirror_mode": {
    "name": "ipython",
    "version": 3
   },
   "file_extension": ".py",
   "mimetype": "text/x-python",
   "name": "python",
   "nbconvert_exporter": "python",
   "pygments_lexer": "ipython3",
   "version": "3.9.16"
  },
  "orig_nbformat": 4,
  "vscode": {
   "interpreter": {
    "hash": "c64d72df593dea6c761f2df73983bedc3ab4ce00cdb01364b040ea0205292cb4"
   }
  }
 },
 "nbformat": 4,
 "nbformat_minor": 2
}
