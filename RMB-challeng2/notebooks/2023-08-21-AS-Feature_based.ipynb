{
 "cells": [
  {
   "cell_type": "code",
   "execution_count": 19,
   "metadata": {},
   "outputs": [],
   "source": [
    "import pandas as pd\n",
    "import plotnine as pn\n",
    "from plotnine import aes, ggplot\n",
    "import pathlib\n",
    "from datetime import datetime, timedelta\n",
    "from prophet import Prophet"
   ]
  },
  {
   "cell_type": "markdown",
   "metadata": {},
   "source": [
    "# Import Datasets\n",
    "The following datasets are used:\n",
    "- cpi file as supplied by zindi\n",
    "- currency as supplied by zindi\n",
    "- jse data as supplied by zindi\n",
    "-  Monthly credit detail excel released by the reserve bank (https://www.resbank.co.za/en/home/what-we-do/statistics/releases/selected-statistics)\n",
    "- fuel prices pulled from open price engin"
   ]
  },
  {
   "cell_type": "code",
   "execution_count": 20,
   "metadata": {},
   "outputs": [],
   "source": [
    "# get directory path\n",
    "path = str(pathlib.Path().cwd().parent.parent.resolve())"
   ]
  },
  {
   "cell_type": "code",
   "execution_count": 21,
   "metadata": {},
   "outputs": [],
   "source": [
    "cpi = pd.read_csv(path + '/data/cpi.csv')\n",
    "currency = pd.read_csv(path + '/data/currency_data.csv')\n",
    "credit = pd.read_excel(path + '/data/credit.xlsx', header=1)\n",
    "jse = pd.read_csv(path + '/data/jse_indices.csv')\n",
    "fuel = pd.read_csv(path + '/data/fuel_df.csv').drop(['Unnamed: 0'], axis=1)\n",
    "sabor = pd.read_csv(path + '/data/sabor.csv')"
   ]
  },
  {
   "cell_type": "markdown",
   "metadata": {},
   "source": [
    "Change dates to datetime"
   ]
  },
  {
   "cell_type": "code",
   "execution_count": 22,
   "metadata": {},
   "outputs": [
    {
     "name": "stderr",
     "output_type": "stream",
     "text": [
      "/var/folders/gx/c35dzbl95sg3t62y03g1j6s40000gn/T/ipykernel_87955/602859498.py:2: UserWarning: Parsing dates in %d-%m-%Y format when dayfirst=False (the default) was specified. Pass `dayfirst=True` or specify a format to silence this warning.\n"
     ]
    }
   ],
   "source": [
    "# change month to datetime format\n",
    "cpi['Date'] = pd.to_datetime(cpi['Month']).dt.strftime('%Y-%m')\n",
    "currency['Date'] = pd.to_datetime(currency['Date']).dt.strftime('%Y-%m')\n",
    "jse['Date'] = pd.to_datetime(jse['date']).dt.strftime('%Y-%m')\n",
    "credit['date'] = pd.to_datetime(credit['Date'], format='%b, %Y')\n",
    "credit['Date'] = pd.to_datetime(credit['date']).dt.strftime('%Y-%m')\n",
    "fuel['Date'] = pd.to_datetime(fuel['date']).dt.strftime('%Y-%m')\n",
    "sabor['Date'] = pd.to_datetime(sabor['date']).dt.strftime('%Y-%m')"
   ]
  },
  {
   "cell_type": "code",
   "execution_count": 23,
   "metadata": {},
   "outputs": [],
   "source": [
    "# Add June CPI\n",
    "june_cpi = pd.DataFrame({'Category': ['Headline_CPI', 'Food and nonalcoholic beverages', 'Alcoholic beverages and tobacco', \n",
    "                                      'Clothing and footwear', 'Housing and utilities', 'Household contents and services',\n",
    "                                      'Health', 'Transport', 'Communication', 'Recreation and culture', 'Education',\n",
    "                                      'Restaurants and hotels ', 'Miscellaneous goods and services'], \n",
    "                         'Value': [109.8, 118.3, 110.9, 104.3, 105.4, 107.7, 110.8, 112.3, 99.6, 105.3, 110.4, 110.0, 109.6]})\n",
    "june_cpi['Date'] = '2023-06'\n",
    "\n",
    "# Add July CPI\n",
    "july_cpi = pd.DataFrame({'Category': ['Headline_CPI', 'Food and nonalcoholic beverages', 'Alcoholic beverages and tobacco', \n",
    "                                      'Clothing and footwear', 'Housing and utilities', 'Household contents and services',\n",
    "                                      'Health', 'Transport', 'Communication', 'Recreation and culture', 'Education',\n",
    "                                      'Restaurants and hotels ', 'Miscellaneous goods and services'], \n",
    "                         'Value': [110.8, 118.5, 111.5, 104.5, 108.4, 108.2, 110.6, 112.6, 99.5, 105.5, 110.4, 110.0, 109.9]})\n",
    "july_cpi['Date'] = '2023-07'"
   ]
  },
  {
   "cell_type": "code",
   "execution_count": 24,
   "metadata": {},
   "outputs": [],
   "source": [
    "cpi = pd.concat([cpi, june_cpi, july_cpi])\n",
    "cpi['Date'] = pd.to_datetime(cpi['Date']).dt.strftime('%Y-%m')"
   ]
  },
  {
   "cell_type": "markdown",
   "metadata": {},
   "source": [
    "Only select dates from 2022"
   ]
  },
  {
   "cell_type": "code",
   "execution_count": 25,
   "metadata": {},
   "outputs": [],
   "source": [
    "# change month to datetime format\n",
    "cpi_new = cpi[cpi['Date'] > '2018']\n",
    "currency_new = currency[currency['Date'] > '2018']\n",
    "jse_new = jse[jse['Date'] > '2018']\n",
    "credit_new= credit[credit['Date'] > '2018']\n",
    "fuel_new= fuel[fuel['Date'] > '2018']\n",
    "sabor_new= sabor[sabor['Date'] > '2018']"
   ]
  },
  {
   "cell_type": "markdown",
   "metadata": {},
   "source": [
    "In the credit and national excels the commas in values need to be stripped and values turned in to intergers"
   ]
  },
  {
   "cell_type": "code",
   "execution_count": 26,
   "metadata": {},
   "outputs": [],
   "source": [
    "def remove_commas_and_convert_to_float(value):\n",
    "    return float(value.replace(',', ''))"
   ]
  },
  {
   "cell_type": "code",
   "execution_count": 27,
   "metadata": {},
   "outputs": [],
   "source": [
    "credit_new = credit_new.drop(['Share of corporations as a % of total credit',\n",
    "       'Share of corporations as a % of total loans & advances',\n",
    "       'Share of households as a % of total credit',\n",
    "       'Share of households as % of total loans & advances', 'Investments'], axis=1)"
   ]
  },
  {
   "cell_type": "code",
   "execution_count": 28,
   "metadata": {},
   "outputs": [],
   "source": [
    "credit_columns = ['Instalment sale credit', 'Leasing finance',\n",
    "       'Mortgage advances', 'Overdrafts', 'General loans and advances',\n",
    "       'Credit card advances', 'Of which: Total to households',\n",
    "       'Total loans and advances : Households',\n",
    "       'Claims on the domestic private sector',\n",
    "       'Total loans and advances (excl. investments & bills)',\n",
    "       'Bills discounted', 'Instalment sale credit.1', 'Leasing finance.1',\n",
    "       'Mortgage advances.1', 'Overdrafts.1', 'General loans and advances.1',\n",
    "       'Credit card advances.1', 'Of which: Total to corporations',\n",
    "       'Claims on the domestic private sector.1',\n",
    "       'Total loans and advances : Corporations',]"
   ]
  },
  {
   "cell_type": "code",
   "execution_count": 29,
   "metadata": {},
   "outputs": [],
   "source": [
    "credit_new[credit_columns] = credit_new[credit_columns].applymap(remove_commas_and_convert_to_float)\n"
   ]
  },
  {
   "cell_type": "markdown",
   "metadata": {},
   "source": [
    "# Create Features\n",
    "\n",
    "In some of the excel sheets we do not have up to date. We will there use the feature from 2 months ao as the feature for now (ie march is the predictor for July)"
   ]
  },
  {
   "cell_type": "code",
   "execution_count": 30,
   "metadata": {},
   "outputs": [
    {
     "name": "stdout",
     "output_type": "stream",
     "text": [
      "2023-06\n",
      "2023-06\n",
      "2023-06\n",
      "2023-07\n",
      "2023-07\n",
      "2023-06\n"
     ]
    }
   ],
   "source": [
    "print(jse_new['Date'].max())\n",
    "print(credit_new['Date'].max())\n",
    "print(currency_new['Date'].max())\n",
    "print(cpi_new['Date'].max())\n",
    "print(fuel_new['Date'].max())\n",
    "print(sabor_new['Date'].max())"
   ]
  },
  {
   "cell_type": "code",
   "execution_count": 31,
   "metadata": {},
   "outputs": [
    {
     "name": "stderr",
     "output_type": "stream",
     "text": [
      "/var/folders/gx/c35dzbl95sg3t62y03g1j6s40000gn/T/ipykernel_87955/1032560082.py:4: SettingWithCopyWarning: \n",
      "A value is trying to be set on a copy of a slice from a DataFrame.\n",
      "Try using .loc[row_indexer,col_indexer] = value instead\n",
      "\n",
      "See the caveats in the documentation: https://pandas.pydata.org/pandas-docs/stable/user_guide/indexing.html#returning-a-view-versus-a-copy\n",
      "/var/folders/gx/c35dzbl95sg3t62y03g1j6s40000gn/T/ipykernel_87955/1032560082.py:5: SettingWithCopyWarning: \n",
      "A value is trying to be set on a copy of a slice from a DataFrame.\n",
      "Try using .loc[row_indexer,col_indexer] = value instead\n",
      "\n",
      "See the caveats in the documentation: https://pandas.pydata.org/pandas-docs/stable/user_guide/indexing.html#returning-a-view-versus-a-copy\n"
     ]
    }
   ],
   "source": [
    "jse_new['newDate'] = (pd.to_datetime(jse_new['Date']) + pd.DateOffset(months=2)).dt.strftime('%Y-%m')\n",
    "credit_new['newDate'] = (pd.to_datetime(credit_new['Date']) + pd.DateOffset(months=2)).dt.strftime('%Y-%m')\n",
    "currency_new['newDate'] = (pd.to_datetime(currency_new['Date']) + pd.DateOffset(months=2)).dt.strftime('%Y-%m')\n",
    "fuel_new['newDate'] = (pd.to_datetime(fuel_new['Date']) + pd.DateOffset(months=2)).dt.strftime('%Y-%m')\n",
    "sabor_new['newDate'] = (pd.to_datetime(sabor_new['Date']) + pd.DateOffset(months=2)).dt.strftime('%Y-%m')"
   ]
  },
  {
   "cell_type": "code",
   "execution_count": 32,
   "metadata": {},
   "outputs": [],
   "source": [
    "jse_new = jse_new.drop(['Date', 'date'], axis=1)\n",
    "credit_new = credit_new.drop(['Date', 'date'], axis=1)\n",
    "currency_new = currency_new.drop(['Date'], axis=1)\n",
    "fuel_new = fuel_new.drop(['Date', 'date'], axis=1)\n",
    "sabor_new = sabor_new.drop(['Date', 'date'], axis=1)"
   ]
  },
  {
   "cell_type": "markdown",
   "metadata": {},
   "source": [
    "## Get mean per Month for jse and currency"
   ]
  },
  {
   "cell_type": "code",
   "execution_count": 33,
   "metadata": {},
   "outputs": [],
   "source": [
    "credit_mean = credit_new.groupby(['newDate']).mean().reset_index().add_suffix(\"mean\")\n",
    "jse_mean = jse_new.groupby(['newDate']).mean().reset_index().add_suffix(\"mean\")\n",
    "currency_mean = currency_new.groupby(['newDate']).mean().reset_index().add_suffix(\"mean\")\n",
    "fuel_new = fuel_new.groupby(['newDate']).mean().reset_index()\n",
    "sabor_new = sabor_new.groupby(['newDate']).mean().reset_index()\n",
    "\n",
    "\n",
    "jse_std = jse_new.groupby(['newDate']).std().reset_index().add_suffix(\"std\")\n",
    "currency_std = currency_new.groupby(['newDate']).std().reset_index().add_suffix(\"std\")\n",
    "\n",
    "credit_min = credit_new.groupby(['newDate']).min().reset_index().add_suffix(\"min\")\n",
    "jse_min = jse_new.groupby(['newDate']).min().reset_index().add_suffix(\"min\")\n",
    "currency_min = currency_new.groupby(['newDate']).min().reset_index().add_suffix(\"min\")\n",
    "\n",
    "credit_max = credit_new.groupby(['newDate']).max().reset_index().add_suffix(\"max\")\n",
    "jse_max = jse_new.groupby(['newDate']).max().reset_index().add_suffix(\"max\")\n",
    "currency_max = currency_new.groupby(['newDate']).max().reset_index().add_suffix(\"max\")\n"
   ]
  },
  {
   "cell_type": "code",
   "execution_count": 34,
   "metadata": {},
   "outputs": [],
   "source": [
    "credit_new = credit_mean.merge(credit_max, left_on='newDatemean', right_on='newDatemax', how='left').drop(['newDatemax'], axis=1)\n",
    "credit_new = credit_new.merge(credit_min, left_on='newDatemean', right_on='newDatemin', how='left').drop(['newDatemin'], axis=1)\n",
    "credit_new = credit_new.rename(columns={\"newDatemean\": \"newDate\"})"
   ]
  },
  {
   "cell_type": "code",
   "execution_count": 35,
   "metadata": {},
   "outputs": [],
   "source": [
    "jse_new = jse_mean.merge(jse_std, left_on='newDatemean', right_on='newDatestd', how='left').drop(['newDatestd'], axis=1)\n",
    "jse_new = jse_new.merge(jse_max, left_on='newDatemean', right_on='newDatemax', how='left').drop(['newDatemax'], axis=1)\n",
    "jse_new = jse_new.merge(jse_min, left_on='newDatemean', right_on='newDatemin', how='left').drop(['newDatemin'], axis=1)\n",
    "jse_new = jse_new.rename(columns={\"newDatemean\": \"newDate\"})"
   ]
  },
  {
   "cell_type": "code",
   "execution_count": 36,
   "metadata": {},
   "outputs": [],
   "source": [
    "currency_new = currency_mean.merge(currency_std, left_on='newDatemean', right_on='newDatestd', how='left').drop(['newDatestd'], axis=1)\n",
    "currency_new = currency_new.merge(currency_max, left_on='newDatemean', right_on='newDatemax', how='left').drop(['newDatemax'], axis=1)\n",
    "currency_new = currency_new.merge(currency_min, left_on='newDatemean', right_on='newDatemin', how='left').drop(['newDatemin'], axis=1)\n",
    "currency_new = currency_new.rename(columns={\"newDatemean\": \"newDate\"})"
   ]
  },
  {
   "cell_type": "markdown",
   "metadata": {},
   "source": [
    "# Merge data together for features"
   ]
  },
  {
   "cell_type": "code",
   "execution_count": 37,
   "metadata": {},
   "outputs": [],
   "source": [
    "cpi_all = cpi.drop(['Month'], axis=1).merge(jse_new, right_on='newDate', left_on='Date', how='left')\n",
    "cpi_all = cpi_all.drop(['newDate'], axis=1).merge(credit_new, right_on='newDate', left_on='Date', how='left')\n",
    "cpi_all = cpi_all.drop(['newDate'], axis=1).merge(currency_new, right_on='newDate', left_on='Date', how='left')\n",
    "cpi_all = cpi_all.drop(['newDate'], axis=1).merge(fuel_new, right_on='newDate', left_on='Date', how='left')\n",
    "cpi_all = cpi_all.drop(['newDate'], axis=1).merge(sabor_new, right_on='newDate', left_on='Date', how='left')"
   ]
  },
  {
   "cell_type": "code",
   "execution_count": 38,
   "metadata": {},
   "outputs": [
    {
     "data": {
      "text/plain": [
       "(247, 103)"
      ]
     },
     "execution_count": 38,
     "metadata": {},
     "output_type": "execute_result"
    }
   ],
   "source": [
    "cpi_all.shape"
   ]
  },
  {
   "cell_type": "markdown",
   "metadata": {},
   "source": [
    "# Model\n",
    "We will model one index at a time to see what works the best"
   ]
  },
  {
   "cell_type": "code",
   "execution_count": 39,
   "metadata": {},
   "outputs": [],
   "source": [
    "from models.models import HoltWintersWrapper, ProphetWrapper\n",
    "from sklearn.metrics import mean_squared_error"
   ]
  },
  {
   "cell_type": "code",
   "execution_count": 40,
   "metadata": {},
   "outputs": [],
   "source": [
    "feature_columns = list(cpi_all.drop(['Category', 'Date', 'Value', 'newDate'], axis=1).columns)"
   ]
  },
  {
   "cell_type": "code",
   "execution_count": 219,
   "metadata": {},
   "outputs": [],
   "source": [
    "def combined_model(cpi_all, month):\n",
    "\n",
    "    hw_cpi_cat = ['Health', 'Education']\n",
    "    cpi_cat = ['Headline_CPI',\n",
    "                'Food and non-alcoholic beverages',\n",
    "                'Alcoholic beverages and tobacco',\n",
    "                'Clothing and footwear',\n",
    "                'Housing and utilities',\n",
    "                'Household contents and services',\n",
    "                'Transport',\n",
    "                'Communication',\n",
    "                'Recreation and culture',\n",
    "                'Restaurants and hotels ',\n",
    "                'Miscellaneous goods and services']\n",
    "\n",
    "    hw_6_results = []\n",
    "    prophet_multi = []\n",
    "\n",
    "    # fit hw\n",
    "    for cat in hw_cpi_cat:\n",
    "        df = cpi_all[cpi_all['Category'] == cat]\n",
    "\n",
    "        hw_6 = HoltWintersWrapper(seasonal_periods=6, seasonal='additive')\n",
    "\n",
    "        hw_6.fit(y=df[df['Date'] < month].sort_values(by='Date')['Value'].values)\n",
    "\n",
    "        hw_6_results.append(hw_6.predict(forcast=1)[0])\n",
    "\n",
    "    df_hw_results = pd.DataFrame({'cat':hw_cpi_cat, 'pred':hw_6_results})\n",
    "\n",
    "    columns_to_drop = ['Category', 'Percentage Change (From Prior Month)', 'newDate']\n",
    "\n",
    "    df_features = jse_new.merge(credit_new, right_on='newDate', left_on='newDate', how='left')\n",
    "    df_features = df_features.merge(currency_new, right_on='newDate', left_on='newDate', how='left')\n",
    "    df_features = df_features.merge(fuel_new, right_on='newDate', left_on='newDate', how='left')\n",
    "    df_features = df_features.merge(sabor_new, right_on='newDate', left_on='newDate', how='left')\n",
    "\n",
    "    for cat in cpi_cat:\n",
    "        df = cpi_all[cpi_all['Category'] == cat]\n",
    "\n",
    "        # reorder and drop columns\n",
    "        df.insert(0, 'ds', df.pop('Date'))\n",
    "        df.insert(1, 'y', df.pop('Value'))\n",
    "        df = df[['ds', 'y', 'sabor', 'fuel_price', 'USD/ZARmin', 'Credit card advancesmean', 'Total loans and advances : Householdsmean']]\n",
    "\n",
    "        # model\n",
    "        prophet = ProphetWrapper(n_changepoints=2, seasonality_mode=\"multiplicative\")\n",
    "        prophet.fit(df[df['ds'] < month].sort_values(by='ds').sort_values(by='ds'))\n",
    "\n",
    "        df_predict = pd.DataFrame({'ds': [month]})\n",
    "        df_predict['ds'] = pd.to_datetime(df_predict['ds']).dt.strftime('%Y-%m')\n",
    "\n",
    "        df_predict = df_predict.merge(df_features, left_on='ds', right_on='newDate').drop(['newDate'], axis=1)\n",
    "        df_predict_columns = df.drop(['y'], axis=1).columns\n",
    "        prophet_multi.append(prophet.predict(df_predict[df_predict_columns])[0])\n",
    "\n",
    "    df_prophet_results = pd.DataFrame({'cat':cpi_cat, 'pred':prophet_multi})\n",
    "\n",
    "    df_results = pd.concat([df_hw_results, df_prophet_results])\n",
    "\n",
    "    return df_results\n",
    "\n",
    "        "
   ]
  },
  {
   "cell_type": "markdown",
   "metadata": {},
   "source": [
    "## Get April predictions"
   ]
  },
  {
   "cell_type": "code",
   "execution_count": 220,
   "metadata": {},
   "outputs": [],
   "source": [
    "df_results_apr = combined_model(cpi_all=cpi_all, month='2023-04')"
   ]
  },
  {
   "cell_type": "code",
   "execution_count": 221,
   "metadata": {},
   "outputs": [],
   "source": [
    "cpi_apr = cpi_all[cpi_all['Date'] == '2023-04']"
   ]
  },
  {
   "cell_type": "code",
   "execution_count": 222,
   "metadata": {},
   "outputs": [],
   "source": [
    "df_results_apr = df_results_apr.merge(cpi_apr[['Category', 'Value']], left_on='cat', right_on='Category')"
   ]
  },
  {
   "cell_type": "code",
   "execution_count": 223,
   "metadata": {},
   "outputs": [
    {
     "data": {
      "text/html": [
       "<div>\n",
       "<style scoped>\n",
       "    .dataframe tbody tr th:only-of-type {\n",
       "        vertical-align: middle;\n",
       "    }\n",
       "\n",
       "    .dataframe tbody tr th {\n",
       "        vertical-align: top;\n",
       "    }\n",
       "\n",
       "    .dataframe thead th {\n",
       "        text-align: right;\n",
       "    }\n",
       "</style>\n",
       "<table border=\"1\" class=\"dataframe\">\n",
       "  <thead>\n",
       "    <tr style=\"text-align: right;\">\n",
       "      <th></th>\n",
       "      <th>cat</th>\n",
       "      <th>pred</th>\n",
       "      <th>Category</th>\n",
       "      <th>Value</th>\n",
       "    </tr>\n",
       "  </thead>\n",
       "  <tbody>\n",
       "    <tr>\n",
       "      <th>0</th>\n",
       "      <td>Health</td>\n",
       "      <td>110.209853</td>\n",
       "      <td>Health</td>\n",
       "      <td>109.6</td>\n",
       "    </tr>\n",
       "    <tr>\n",
       "      <th>1</th>\n",
       "      <td>Education</td>\n",
       "      <td>110.429876</td>\n",
       "      <td>Education</td>\n",
       "      <td>110.4</td>\n",
       "    </tr>\n",
       "    <tr>\n",
       "      <th>2</th>\n",
       "      <td>Headline_CPI</td>\n",
       "      <td>109.347597</td>\n",
       "      <td>Headline_CPI</td>\n",
       "      <td>109.4</td>\n",
       "    </tr>\n",
       "    <tr>\n",
       "      <th>3</th>\n",
       "      <td>Food and non-alcoholic beverages</td>\n",
       "      <td>117.703469</td>\n",
       "      <td>Food and non-alcoholic beverages</td>\n",
       "      <td>117.4</td>\n",
       "    </tr>\n",
       "    <tr>\n",
       "      <th>4</th>\n",
       "      <td>Alcoholic beverages and tobacco</td>\n",
       "      <td>109.559992</td>\n",
       "      <td>Alcoholic beverages and tobacco</td>\n",
       "      <td>110.2</td>\n",
       "    </tr>\n",
       "    <tr>\n",
       "      <th>5</th>\n",
       "      <td>Clothing and footwear</td>\n",
       "      <td>103.568732</td>\n",
       "      <td>Clothing and footwear</td>\n",
       "      <td>103.7</td>\n",
       "    </tr>\n",
       "    <tr>\n",
       "      <th>6</th>\n",
       "      <td>Housing and utilities</td>\n",
       "      <td>104.599350</td>\n",
       "      <td>Housing and utilities</td>\n",
       "      <td>104.6</td>\n",
       "    </tr>\n",
       "    <tr>\n",
       "      <th>7</th>\n",
       "      <td>Household contents and services</td>\n",
       "      <td>108.159654</td>\n",
       "      <td>Household contents and services</td>\n",
       "      <td>107.7</td>\n",
       "    </tr>\n",
       "    <tr>\n",
       "      <th>8</th>\n",
       "      <td>Transport</td>\n",
       "      <td>112.202267</td>\n",
       "      <td>Transport</td>\n",
       "      <td>113.1</td>\n",
       "    </tr>\n",
       "    <tr>\n",
       "      <th>9</th>\n",
       "      <td>Communication</td>\n",
       "      <td>99.549633</td>\n",
       "      <td>Communication</td>\n",
       "      <td>99.8</td>\n",
       "    </tr>\n",
       "    <tr>\n",
       "      <th>10</th>\n",
       "      <td>Recreation and culture</td>\n",
       "      <td>104.402184</td>\n",
       "      <td>Recreation and culture</td>\n",
       "      <td>104.9</td>\n",
       "    </tr>\n",
       "    <tr>\n",
       "      <th>11</th>\n",
       "      <td>Restaurants and hotels</td>\n",
       "      <td>109.764916</td>\n",
       "      <td>Restaurants and hotels</td>\n",
       "      <td>108.6</td>\n",
       "    </tr>\n",
       "    <tr>\n",
       "      <th>12</th>\n",
       "      <td>Miscellaneous goods and services</td>\n",
       "      <td>108.765817</td>\n",
       "      <td>Miscellaneous goods and services</td>\n",
       "      <td>109.3</td>\n",
       "    </tr>\n",
       "  </tbody>\n",
       "</table>\n",
       "</div>"
      ],
      "text/plain": [
       "                                 cat        pred  \\\n",
       "0                             Health  110.209853   \n",
       "1                          Education  110.429876   \n",
       "2                       Headline_CPI  109.347597   \n",
       "3   Food and non-alcoholic beverages  117.703469   \n",
       "4    Alcoholic beverages and tobacco  109.559992   \n",
       "5              Clothing and footwear  103.568732   \n",
       "6              Housing and utilities  104.599350   \n",
       "7    Household contents and services  108.159654   \n",
       "8                          Transport  112.202267   \n",
       "9                      Communication   99.549633   \n",
       "10            Recreation and culture  104.402184   \n",
       "11           Restaurants and hotels   109.764916   \n",
       "12  Miscellaneous goods and services  108.765817   \n",
       "\n",
       "                            Category  Value  \n",
       "0                             Health  109.6  \n",
       "1                          Education  110.4  \n",
       "2                       Headline_CPI  109.4  \n",
       "3   Food and non-alcoholic beverages  117.4  \n",
       "4    Alcoholic beverages and tobacco  110.2  \n",
       "5              Clothing and footwear  103.7  \n",
       "6              Housing and utilities  104.6  \n",
       "7    Household contents and services  107.7  \n",
       "8                          Transport  113.1  \n",
       "9                      Communication   99.8  \n",
       "10            Recreation and culture  104.9  \n",
       "11           Restaurants and hotels   108.6  \n",
       "12  Miscellaneous goods and services  109.3  "
      ]
     },
     "execution_count": 223,
     "metadata": {},
     "output_type": "execute_result"
    }
   ],
   "source": [
    "df_results_apr"
   ]
  },
  {
   "cell_type": "code",
   "execution_count": 224,
   "metadata": {},
   "outputs": [
    {
     "name": "stdout",
     "output_type": "stream",
     "text": [
      "Apr RMSE prophet multi:  0.545230102679257\n"
     ]
    }
   ],
   "source": [
    "rmse_apr = mean_squared_error(df_results_apr['pred'], df_results_apr['Value'], squared=False)\n",
    "print('Apr RMSE prophet multi: ', rmse_apr)"
   ]
  },
  {
   "cell_type": "code",
   "execution_count": 225,
   "metadata": {},
   "outputs": [],
   "source": [
    "df_results_apr = df_results_apr[['cat', 'pred']]\n",
    "df_results_apr.columns = ['ID', 'Value']\n",
    "\n",
    "month = \"April\"\n",
    "\n",
    "pred_map = {'Headline_CPI': f'{month}_headline CPI',\n",
    "'Alcoholic beverages and tobacco': f'{month}_alcoholic beverages and tobacco',\n",
    "'Clothing and footwear': f'{month}_clothing and footwear',\n",
    "'Communication': f'{month}_communication',\n",
    "'Education': f'{month}_education',\n",
    "'Food and non-alcoholic beverages': f'{month}_food and non-alcoholic beverages',\n",
    "'Health': f'{month}_health',\n",
    "'Household contents and services': f'{month}_household contents and services',\n",
    "'Housing and utilities': f'{month}_housing and utilities',\n",
    "'Miscellaneous goods and services': f'{month}_miscellaneous goods and services',\n",
    "'Recreation and culture': f'{month}_recreation and culture',\n",
    "'Restaurants and hotels ': f'{month}_restaurants and hotels',\n",
    "'Transport': f'{month}_transport'}\n",
    "\n",
    "df_results_apr = df_results_apr.replace(pred_map)\n",
    "\n",
    "df_results_apr.to_csv(path + '/submissions/apr_testing.csv', index=False)"
   ]
  },
  {
   "cell_type": "markdown",
   "metadata": {},
   "source": [
    "## Get May predictions"
   ]
  },
  {
   "cell_type": "code",
   "execution_count": 226,
   "metadata": {},
   "outputs": [],
   "source": [
    "df_results_may = combined_model(cpi_all=cpi_all, month='2023-05')"
   ]
  },
  {
   "cell_type": "code",
   "execution_count": 227,
   "metadata": {},
   "outputs": [],
   "source": [
    "cpi_may = cpi_all[cpi_all['Date'] == '2023-05']"
   ]
  },
  {
   "cell_type": "code",
   "execution_count": 228,
   "metadata": {},
   "outputs": [],
   "source": [
    "df_results_may = df_results_may.merge(cpi_may[['Category', 'Value']], left_on='cat', right_on='Category')"
   ]
  },
  {
   "cell_type": "code",
   "execution_count": 229,
   "metadata": {},
   "outputs": [
    {
     "data": {
      "text/html": [
       "<div>\n",
       "<style scoped>\n",
       "    .dataframe tbody tr th:only-of-type {\n",
       "        vertical-align: middle;\n",
       "    }\n",
       "\n",
       "    .dataframe tbody tr th {\n",
       "        vertical-align: top;\n",
       "    }\n",
       "\n",
       "    .dataframe thead th {\n",
       "        text-align: right;\n",
       "    }\n",
       "</style>\n",
       "<table border=\"1\" class=\"dataframe\">\n",
       "  <thead>\n",
       "    <tr style=\"text-align: right;\">\n",
       "      <th></th>\n",
       "      <th>cat</th>\n",
       "      <th>pred</th>\n",
       "      <th>Category</th>\n",
       "      <th>Value</th>\n",
       "    </tr>\n",
       "  </thead>\n",
       "  <tbody>\n",
       "    <tr>\n",
       "      <th>0</th>\n",
       "      <td>Health</td>\n",
       "      <td>109.876697</td>\n",
       "      <td>Health</td>\n",
       "      <td>110.3</td>\n",
       "    </tr>\n",
       "    <tr>\n",
       "      <th>1</th>\n",
       "      <td>Education</td>\n",
       "      <td>110.429480</td>\n",
       "      <td>Education</td>\n",
       "      <td>110.4</td>\n",
       "    </tr>\n",
       "    <tr>\n",
       "      <th>2</th>\n",
       "      <td>Headline_CPI</td>\n",
       "      <td>110.031253</td>\n",
       "      <td>Headline_CPI</td>\n",
       "      <td>109.6</td>\n",
       "    </tr>\n",
       "    <tr>\n",
       "      <th>3</th>\n",
       "      <td>Food and non-alcoholic beverages</td>\n",
       "      <td>118.403570</td>\n",
       "      <td>Food and non-alcoholic beverages</td>\n",
       "      <td>117.7</td>\n",
       "    </tr>\n",
       "    <tr>\n",
       "      <th>4</th>\n",
       "      <td>Alcoholic beverages and tobacco</td>\n",
       "      <td>110.812285</td>\n",
       "      <td>Alcoholic beverages and tobacco</td>\n",
       "      <td>110.6</td>\n",
       "    </tr>\n",
       "    <tr>\n",
       "      <th>5</th>\n",
       "      <td>Clothing and footwear</td>\n",
       "      <td>104.003263</td>\n",
       "      <td>Clothing and footwear</td>\n",
       "      <td>104.1</td>\n",
       "    </tr>\n",
       "    <tr>\n",
       "      <th>6</th>\n",
       "      <td>Housing and utilities</td>\n",
       "      <td>105.065901</td>\n",
       "      <td>Housing and utilities</td>\n",
       "      <td>104.6</td>\n",
       "    </tr>\n",
       "    <tr>\n",
       "      <th>7</th>\n",
       "      <td>Household contents and services</td>\n",
       "      <td>108.079120</td>\n",
       "      <td>Household contents and services</td>\n",
       "      <td>107.5</td>\n",
       "    </tr>\n",
       "    <tr>\n",
       "      <th>8</th>\n",
       "      <td>Transport</td>\n",
       "      <td>113.660602</td>\n",
       "      <td>Transport</td>\n",
       "      <td>113.3</td>\n",
       "    </tr>\n",
       "    <tr>\n",
       "      <th>9</th>\n",
       "      <td>Communication</td>\n",
       "      <td>99.824732</td>\n",
       "      <td>Communication</td>\n",
       "      <td>99.7</td>\n",
       "    </tr>\n",
       "    <tr>\n",
       "      <th>10</th>\n",
       "      <td>Recreation and culture</td>\n",
       "      <td>105.190287</td>\n",
       "      <td>Recreation and culture</td>\n",
       "      <td>104.8</td>\n",
       "    </tr>\n",
       "    <tr>\n",
       "      <th>11</th>\n",
       "      <td>Restaurants and hotels</td>\n",
       "      <td>109.943967</td>\n",
       "      <td>Restaurants and hotels</td>\n",
       "      <td>110.4</td>\n",
       "    </tr>\n",
       "    <tr>\n",
       "      <th>12</th>\n",
       "      <td>Miscellaneous goods and services</td>\n",
       "      <td>109.818814</td>\n",
       "      <td>Miscellaneous goods and services</td>\n",
       "      <td>109.4</td>\n",
       "    </tr>\n",
       "  </tbody>\n",
       "</table>\n",
       "</div>"
      ],
      "text/plain": [
       "                                 cat        pred  \\\n",
       "0                             Health  109.876697   \n",
       "1                          Education  110.429480   \n",
       "2                       Headline_CPI  110.031253   \n",
       "3   Food and non-alcoholic beverages  118.403570   \n",
       "4    Alcoholic beverages and tobacco  110.812285   \n",
       "5              Clothing and footwear  104.003263   \n",
       "6              Housing and utilities  105.065901   \n",
       "7    Household contents and services  108.079120   \n",
       "8                          Transport  113.660602   \n",
       "9                      Communication   99.824732   \n",
       "10            Recreation and culture  105.190287   \n",
       "11           Restaurants and hotels   109.943967   \n",
       "12  Miscellaneous goods and services  109.818814   \n",
       "\n",
       "                            Category  Value  \n",
       "0                             Health  110.3  \n",
       "1                          Education  110.4  \n",
       "2                       Headline_CPI  109.6  \n",
       "3   Food and non-alcoholic beverages  117.7  \n",
       "4    Alcoholic beverages and tobacco  110.6  \n",
       "5              Clothing and footwear  104.1  \n",
       "6              Housing and utilities  104.6  \n",
       "7    Household contents and services  107.5  \n",
       "8                          Transport  113.3  \n",
       "9                      Communication   99.7  \n",
       "10            Recreation and culture  104.8  \n",
       "11           Restaurants and hotels   110.4  \n",
       "12  Miscellaneous goods and services  109.4  "
      ]
     },
     "execution_count": 229,
     "metadata": {},
     "output_type": "execute_result"
    }
   ],
   "source": [
    "df_results_may"
   ]
  },
  {
   "cell_type": "code",
   "execution_count": 230,
   "metadata": {},
   "outputs": [
    {
     "name": "stdout",
     "output_type": "stream",
     "text": [
      "May RMSE prophet multo:  0.4065991493974815\n"
     ]
    }
   ],
   "source": [
    "rmse_may = mean_squared_error(df_results_may['pred'], df_results_may['Value'], squared=False)\n",
    "print('May RMSE prophet multo: ', rmse_may)"
   ]
  },
  {
   "cell_type": "code",
   "execution_count": 231,
   "metadata": {},
   "outputs": [],
   "source": [
    "df_results_may = df_results_may[['cat', 'pred']]\n",
    "df_results_may.columns = ['ID', 'Value']\n",
    "\n",
    "month = \"May\"\n",
    "\n",
    "pred_map = {'Headline_CPI': f'{month}_headline CPI',\n",
    "'Alcoholic beverages and tobacco': f'{month}_alcoholic beverages and tobacco',\n",
    "'Clothing and footwear': f'{month}_clothing and footwear',\n",
    "'Communication': f'{month}_communication',\n",
    "'Education': f'{month}_education',\n",
    "'Food and non-alcoholic beverages': f'{month}_food and non-alcoholic beverages',\n",
    "'Health': f'{month}_health',\n",
    "'Household contents and services': f'{month}_household contents and services',\n",
    "'Housing and utilities': f'{month}_housing and utilities',\n",
    "'Miscellaneous goods and services': f'{month}_miscellaneous goods and services',\n",
    "'Recreation and culture': f'{month}_recreation and culture',\n",
    "'Restaurants and hotels ': f'{month}_restaurants and hotels',\n",
    "'Transport': f'{month}_transport'}\n",
    "\n",
    "df_results_may = df_results_may.replace(pred_map)\n",
    "\n",
    "df_results_may.to_csv(path + '/submissions/may_testing.csv', index=False)"
   ]
  },
  {
   "cell_type": "markdown",
   "metadata": {},
   "source": [
    "## Get June predictions"
   ]
  },
  {
   "cell_type": "code",
   "execution_count": 232,
   "metadata": {},
   "outputs": [],
   "source": [
    "df_results_june = combined_model(cpi_all=cpi_all, month='2023-06')"
   ]
  },
  {
   "cell_type": "code",
   "execution_count": 233,
   "metadata": {},
   "outputs": [],
   "source": [
    "cpi_june = cpi_all[cpi_all['Date'] == '2023-06']"
   ]
  },
  {
   "cell_type": "code",
   "execution_count": 234,
   "metadata": {},
   "outputs": [],
   "source": [
    "df_results_june = df_results_june.merge(cpi_june[['Category', 'Value']], left_on='cat', right_on='Category')"
   ]
  },
  {
   "cell_type": "code",
   "execution_count": 235,
   "metadata": {},
   "outputs": [
    {
     "data": {
      "text/html": [
       "<div>\n",
       "<style scoped>\n",
       "    .dataframe tbody tr th:only-of-type {\n",
       "        vertical-align: middle;\n",
       "    }\n",
       "\n",
       "    .dataframe tbody tr th {\n",
       "        vertical-align: top;\n",
       "    }\n",
       "\n",
       "    .dataframe thead th {\n",
       "        text-align: right;\n",
       "    }\n",
       "</style>\n",
       "<table border=\"1\" class=\"dataframe\">\n",
       "  <thead>\n",
       "    <tr style=\"text-align: right;\">\n",
       "      <th></th>\n",
       "      <th>cat</th>\n",
       "      <th>pred</th>\n",
       "      <th>Category</th>\n",
       "      <th>Value</th>\n",
       "    </tr>\n",
       "  </thead>\n",
       "  <tbody>\n",
       "    <tr>\n",
       "      <th>0</th>\n",
       "      <td>Health</td>\n",
       "      <td>110.531513</td>\n",
       "      <td>Health</td>\n",
       "      <td>110.8</td>\n",
       "    </tr>\n",
       "    <tr>\n",
       "      <th>1</th>\n",
       "      <td>Education</td>\n",
       "      <td>110.429396</td>\n",
       "      <td>Education</td>\n",
       "      <td>110.4</td>\n",
       "    </tr>\n",
       "    <tr>\n",
       "      <th>2</th>\n",
       "      <td>Headline_CPI</td>\n",
       "      <td>110.912339</td>\n",
       "      <td>Headline_CPI</td>\n",
       "      <td>109.8</td>\n",
       "    </tr>\n",
       "    <tr>\n",
       "      <th>3</th>\n",
       "      <td>Alcoholic beverages and tobacco</td>\n",
       "      <td>109.615373</td>\n",
       "      <td>Alcoholic beverages and tobacco</td>\n",
       "      <td>110.9</td>\n",
       "    </tr>\n",
       "    <tr>\n",
       "      <th>4</th>\n",
       "      <td>Clothing and footwear</td>\n",
       "      <td>104.835264</td>\n",
       "      <td>Clothing and footwear</td>\n",
       "      <td>104.3</td>\n",
       "    </tr>\n",
       "    <tr>\n",
       "      <th>5</th>\n",
       "      <td>Housing and utilities</td>\n",
       "      <td>105.721261</td>\n",
       "      <td>Housing and utilities</td>\n",
       "      <td>105.4</td>\n",
       "    </tr>\n",
       "    <tr>\n",
       "      <th>6</th>\n",
       "      <td>Household contents and services</td>\n",
       "      <td>108.622318</td>\n",
       "      <td>Household contents and services</td>\n",
       "      <td>107.7</td>\n",
       "    </tr>\n",
       "    <tr>\n",
       "      <th>7</th>\n",
       "      <td>Transport</td>\n",
       "      <td>111.335199</td>\n",
       "      <td>Transport</td>\n",
       "      <td>112.3</td>\n",
       "    </tr>\n",
       "    <tr>\n",
       "      <th>8</th>\n",
       "      <td>Communication</td>\n",
       "      <td>100.267649</td>\n",
       "      <td>Communication</td>\n",
       "      <td>99.6</td>\n",
       "    </tr>\n",
       "    <tr>\n",
       "      <th>9</th>\n",
       "      <td>Recreation and culture</td>\n",
       "      <td>105.263956</td>\n",
       "      <td>Recreation and culture</td>\n",
       "      <td>105.3</td>\n",
       "    </tr>\n",
       "    <tr>\n",
       "      <th>10</th>\n",
       "      <td>Restaurants and hotels</td>\n",
       "      <td>110.457069</td>\n",
       "      <td>Restaurants and hotels</td>\n",
       "      <td>110.0</td>\n",
       "    </tr>\n",
       "    <tr>\n",
       "      <th>11</th>\n",
       "      <td>Miscellaneous goods and services</td>\n",
       "      <td>110.207804</td>\n",
       "      <td>Miscellaneous goods and services</td>\n",
       "      <td>109.6</td>\n",
       "    </tr>\n",
       "  </tbody>\n",
       "</table>\n",
       "</div>"
      ],
      "text/plain": [
       "                                 cat        pred  \\\n",
       "0                             Health  110.531513   \n",
       "1                          Education  110.429396   \n",
       "2                       Headline_CPI  110.912339   \n",
       "3    Alcoholic beverages and tobacco  109.615373   \n",
       "4              Clothing and footwear  104.835264   \n",
       "5              Housing and utilities  105.721261   \n",
       "6    Household contents and services  108.622318   \n",
       "7                          Transport  111.335199   \n",
       "8                      Communication  100.267649   \n",
       "9             Recreation and culture  105.263956   \n",
       "10           Restaurants and hotels   110.457069   \n",
       "11  Miscellaneous goods and services  110.207804   \n",
       "\n",
       "                            Category  Value  \n",
       "0                             Health  110.8  \n",
       "1                          Education  110.4  \n",
       "2                       Headline_CPI  109.8  \n",
       "3    Alcoholic beverages and tobacco  110.9  \n",
       "4              Clothing and footwear  104.3  \n",
       "5              Housing and utilities  105.4  \n",
       "6    Household contents and services  107.7  \n",
       "7                          Transport  112.3  \n",
       "8                      Communication   99.6  \n",
       "9             Recreation and culture  105.3  \n",
       "10           Restaurants and hotels   110.0  \n",
       "11  Miscellaneous goods and services  109.6  "
      ]
     },
     "execution_count": 235,
     "metadata": {},
     "output_type": "execute_result"
    }
   ],
   "source": [
    "df_results_june"
   ]
  },
  {
   "cell_type": "code",
   "execution_count": 236,
   "metadata": {},
   "outputs": [
    {
     "name": "stdout",
     "output_type": "stream",
     "text": [
      "June RMSE prophet multo:  0.7163061751305073\n"
     ]
    }
   ],
   "source": [
    "rmse_June = mean_squared_error(df_results_june['pred'], df_results_june['Value'], squared=False)\n",
    "print('June RMSE prophet multo: ', rmse_June)"
   ]
  },
  {
   "cell_type": "code",
   "execution_count": 237,
   "metadata": {},
   "outputs": [],
   "source": [
    "df_results_june = df_results_june[['cat', 'pred']]\n",
    "df_results_june.columns = ['ID', 'Value']\n",
    "\n",
    "month = \"June\"\n",
    "\n",
    "pred_map = {'Headline_CPI': f'{month}_headline CPI',\n",
    "'Alcoholic beverages and tobacco': f'{month}_alcoholic beverages and tobacco',\n",
    "'Clothing and footwear': f'{month}_clothing and footwear',\n",
    "'Communication': f'{month}_communication',\n",
    "'Education': f'{month}_education',\n",
    "'Food and non-alcoholic beverages': f'{month}_food and non-alcoholic beverages',\n",
    "'Health': f'{month}_health',\n",
    "'Household contents and services': f'{month}_household contents and services',\n",
    "'Housing and utilities': f'{month}_housing and utilities',\n",
    "'Miscellaneous goods and services': f'{month}_miscellaneous goods and services',\n",
    "'Recreation and culture': f'{month}_recreation and culture',\n",
    "'Restaurants and hotels ': f'{month}_restaurants and hotels',\n",
    "'Transport': f'{month}_transport'}\n",
    "\n",
    "df_results_june = df_results_june.replace(pred_map)\n",
    "\n",
    "df_results_june.to_csv(path + '/submissions/june_testing.csv', index=False)"
   ]
  },
  {
   "cell_type": "markdown",
   "metadata": {},
   "source": [
    "# Get predictions for July"
   ]
  },
  {
   "cell_type": "code",
   "execution_count": 238,
   "metadata": {},
   "outputs": [],
   "source": [
    "df_results_july = combined_model(cpi_all=cpi_all, month='2023-07')"
   ]
  },
  {
   "cell_type": "code",
   "execution_count": 239,
   "metadata": {},
   "outputs": [],
   "source": [
    "cpi_july = cpi_all[cpi_all['Date'] == '2023-07']"
   ]
  },
  {
   "cell_type": "code",
   "execution_count": 240,
   "metadata": {},
   "outputs": [],
   "source": [
    "df_results_july = df_results_july.merge(cpi_july[['Category', 'Value']], left_on='cat', right_on='Category')"
   ]
  },
  {
   "cell_type": "code",
   "execution_count": 241,
   "metadata": {},
   "outputs": [
    {
     "data": {
      "text/html": [
       "<div>\n",
       "<style scoped>\n",
       "    .dataframe tbody tr th:only-of-type {\n",
       "        vertical-align: middle;\n",
       "    }\n",
       "\n",
       "    .dataframe tbody tr th {\n",
       "        vertical-align: top;\n",
       "    }\n",
       "\n",
       "    .dataframe thead th {\n",
       "        text-align: right;\n",
       "    }\n",
       "</style>\n",
       "<table border=\"1\" class=\"dataframe\">\n",
       "  <thead>\n",
       "    <tr style=\"text-align: right;\">\n",
       "      <th></th>\n",
       "      <th>cat</th>\n",
       "      <th>pred</th>\n",
       "      <th>Category</th>\n",
       "      <th>Value</th>\n",
       "    </tr>\n",
       "  </thead>\n",
       "  <tbody>\n",
       "    <tr>\n",
       "      <th>0</th>\n",
       "      <td>Health</td>\n",
       "      <td>110.634871</td>\n",
       "      <td>Health</td>\n",
       "      <td>110.6</td>\n",
       "    </tr>\n",
       "    <tr>\n",
       "      <th>1</th>\n",
       "      <td>Education</td>\n",
       "      <td>110.429234</td>\n",
       "      <td>Education</td>\n",
       "      <td>110.4</td>\n",
       "    </tr>\n",
       "    <tr>\n",
       "      <th>2</th>\n",
       "      <td>Headline_CPI</td>\n",
       "      <td>110.369112</td>\n",
       "      <td>Headline_CPI</td>\n",
       "      <td>110.8</td>\n",
       "    </tr>\n",
       "    <tr>\n",
       "      <th>3</th>\n",
       "      <td>Alcoholic beverages and tobacco</td>\n",
       "      <td>111.389341</td>\n",
       "      <td>Alcoholic beverages and tobacco</td>\n",
       "      <td>111.5</td>\n",
       "    </tr>\n",
       "    <tr>\n",
       "      <th>4</th>\n",
       "      <td>Clothing and footwear</td>\n",
       "      <td>104.638093</td>\n",
       "      <td>Clothing and footwear</td>\n",
       "      <td>104.5</td>\n",
       "    </tr>\n",
       "    <tr>\n",
       "      <th>5</th>\n",
       "      <td>Housing and utilities</td>\n",
       "      <td>106.008393</td>\n",
       "      <td>Housing and utilities</td>\n",
       "      <td>108.4</td>\n",
       "    </tr>\n",
       "    <tr>\n",
       "      <th>6</th>\n",
       "      <td>Household contents and services</td>\n",
       "      <td>107.985726</td>\n",
       "      <td>Household contents and services</td>\n",
       "      <td>108.2</td>\n",
       "    </tr>\n",
       "    <tr>\n",
       "      <th>7</th>\n",
       "      <td>Transport</td>\n",
       "      <td>112.864867</td>\n",
       "      <td>Transport</td>\n",
       "      <td>112.6</td>\n",
       "    </tr>\n",
       "    <tr>\n",
       "      <th>8</th>\n",
       "      <td>Communication</td>\n",
       "      <td>99.460605</td>\n",
       "      <td>Communication</td>\n",
       "      <td>99.5</td>\n",
       "    </tr>\n",
       "    <tr>\n",
       "      <th>9</th>\n",
       "      <td>Recreation and culture</td>\n",
       "      <td>105.782768</td>\n",
       "      <td>Recreation and culture</td>\n",
       "      <td>105.5</td>\n",
       "    </tr>\n",
       "    <tr>\n",
       "      <th>10</th>\n",
       "      <td>Restaurants and hotels</td>\n",
       "      <td>110.580507</td>\n",
       "      <td>Restaurants and hotels</td>\n",
       "      <td>110.0</td>\n",
       "    </tr>\n",
       "    <tr>\n",
       "      <th>11</th>\n",
       "      <td>Miscellaneous goods and services</td>\n",
       "      <td>109.690902</td>\n",
       "      <td>Miscellaneous goods and services</td>\n",
       "      <td>109.9</td>\n",
       "    </tr>\n",
       "  </tbody>\n",
       "</table>\n",
       "</div>"
      ],
      "text/plain": [
       "                                 cat        pred  \\\n",
       "0                             Health  110.634871   \n",
       "1                          Education  110.429234   \n",
       "2                       Headline_CPI  110.369112   \n",
       "3    Alcoholic beverages and tobacco  111.389341   \n",
       "4              Clothing and footwear  104.638093   \n",
       "5              Housing and utilities  106.008393   \n",
       "6    Household contents and services  107.985726   \n",
       "7                          Transport  112.864867   \n",
       "8                      Communication   99.460605   \n",
       "9             Recreation and culture  105.782768   \n",
       "10           Restaurants and hotels   110.580507   \n",
       "11  Miscellaneous goods and services  109.690902   \n",
       "\n",
       "                            Category  Value  \n",
       "0                             Health  110.6  \n",
       "1                          Education  110.4  \n",
       "2                       Headline_CPI  110.8  \n",
       "3    Alcoholic beverages and tobacco  111.5  \n",
       "4              Clothing and footwear  104.5  \n",
       "5              Housing and utilities  108.4  \n",
       "6    Household contents and services  108.2  \n",
       "7                          Transport  112.6  \n",
       "8                      Communication   99.5  \n",
       "9             Recreation and culture  105.5  \n",
       "10           Restaurants and hotels   110.0  \n",
       "11  Miscellaneous goods and services  109.9  "
      ]
     },
     "execution_count": 241,
     "metadata": {},
     "output_type": "execute_result"
    }
   ],
   "source": [
    "df_results_july"
   ]
  },
  {
   "cell_type": "code",
   "execution_count": 242,
   "metadata": {},
   "outputs": [
    {
     "name": "stdout",
     "output_type": "stream",
     "text": [
      "July RMSE prophet multo:  0.7369488890412335\n"
     ]
    }
   ],
   "source": [
    "rmse_July = mean_squared_error(df_results_july['pred'], df_results_july['Value'], squared=False)\n",
    "print('July RMSE prophet multo: ', rmse_July)"
   ]
  },
  {
   "cell_type": "code",
   "execution_count": 243,
   "metadata": {},
   "outputs": [],
   "source": [
    "df_results_july = df_results_july[['cat', 'pred']]\n",
    "df_results_july.columns = ['ID', 'Value']\n",
    "\n",
    "month = \"July\"\n",
    "\n",
    "pred_map = {'Headline_CPI': f'{month}_headline CPI',\n",
    "'Alcoholic beverages and tobacco': f'{month}_alcoholic beverages and tobacco',\n",
    "'Clothing and footwear': f'{month}_clothing and footwear',\n",
    "'Communication': f'{month}_communication',\n",
    "'Education': f'{month}_education',\n",
    "'Food and non-alcoholic beverages': f'{month}_food and non-alcoholic beverages',\n",
    "'Health': f'{month}_health',\n",
    "'Household contents and services': f'{month}_household contents and services',\n",
    "'Housing and utilities': f'{month}_housing and utilities',\n",
    "'Miscellaneous goods and services': f'{month}_miscellaneous goods and services',\n",
    "'Recreation and culture': f'{month}_recreation and culture',\n",
    "'Restaurants and hotels ': f'{month}_restaurants and hotels',\n",
    "'Transport': f'{month}_transport'}\n",
    "\n",
    "df_results_july = df_results_july.replace(pred_map)\n",
    "\n",
    "df_results_july.to_csv(path + '/submissions/july_testing.csv', index=False)"
   ]
  },
  {
   "cell_type": "markdown",
   "metadata": {},
   "source": [
    "# Get August submission"
   ]
  },
  {
   "cell_type": "code",
   "execution_count": 244,
   "metadata": {},
   "outputs": [],
   "source": [
    "df_results_aug = combined_model(cpi_all=cpi_all, month='2023-08')"
   ]
  },
  {
   "cell_type": "code",
   "execution_count": 245,
   "metadata": {},
   "outputs": [],
   "source": [
    "df_results_aug.columns = ['ID', 'Value']"
   ]
  },
  {
   "cell_type": "code",
   "execution_count": 246,
   "metadata": {},
   "outputs": [],
   "source": [
    "month = 'August'"
   ]
  },
  {
   "cell_type": "code",
   "execution_count": 247,
   "metadata": {},
   "outputs": [],
   "source": [
    "pred_map = {'Headline_CPI': f'{month}_headline CPI',\n",
    "'Alcoholic beverages and tobacco': f'{month}_alcoholic beverages and tobacco',\n",
    "'Clothing and footwear': f'{month}_clothing and footwear',\n",
    "'Communication': f'{month}_communication',\n",
    "'Education': f'{month}_education',\n",
    "'Food and non-alcoholic beverages': f'{month}_food and non-alcoholic beverages',\n",
    "'Health': f'{month}_health',\n",
    "'Household contents and services': f'{month}_household contents and services',\n",
    "'Housing and utilities': f'{month}_housing and utilities',\n",
    "'Miscellaneous goods and services': f'{month}_miscellaneous goods and services',\n",
    "'Recreation and culture': f'{month}_recreation and culture',\n",
    "'Restaurants and hotels ': f'{month}_restaurants and hotels',\n",
    "'Transport': f'{month}_transport'}"
   ]
  },
  {
   "cell_type": "code",
   "execution_count": 248,
   "metadata": {},
   "outputs": [],
   "source": [
    "df_results_aug = df_results_aug.replace(pred_map)"
   ]
  },
  {
   "cell_type": "code",
   "execution_count": 249,
   "metadata": {},
   "outputs": [],
   "source": [
    "df_results_aug.to_csv(path + '/submissions/2023-08-21_multi_aug.csv', index=False)"
   ]
  }
 ],
 "metadata": {
  "kernelspec": {
   "display_name": "Python 3.9.16 ('zindi_rmb')",
   "language": "python",
   "name": "python3"
  },
  "language_info": {
   "codemirror_mode": {
    "name": "ipython",
    "version": 3
   },
   "file_extension": ".py",
   "mimetype": "text/x-python",
   "name": "python",
   "nbconvert_exporter": "python",
   "pygments_lexer": "ipython3",
   "version": "3.9.16"
  },
  "orig_nbformat": 4,
  "vscode": {
   "interpreter": {
    "hash": "c64d72df593dea6c761f2df73983bedc3ab4ce00cdb01364b040ea0205292cb4"
   }
  }
 },
 "nbformat": 4,
 "nbformat_minor": 2
}
