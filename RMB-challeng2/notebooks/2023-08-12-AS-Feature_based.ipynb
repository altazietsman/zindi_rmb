{
 "cells": [
  {
   "cell_type": "code",
   "execution_count": 359,
   "metadata": {},
   "outputs": [],
   "source": [
    "import pandas as pd\n",
    "import plotnine as pn\n",
    "from plotnine import aes, ggplot\n",
    "import pathlib\n",
    "from datetime import datetime\n",
    "from prophet import Prophet"
   ]
  },
  {
   "cell_type": "markdown",
   "metadata": {},
   "source": [
    "# Import Datasets\n",
    "The following datasets are used:\n",
    "- cpi file as supplied by zindi\n",
    "- currency as supplied by zindi\n",
    "- jse data as supplied by zindi\n",
    "-  Monthly credit detail excel released by the reserve bank (https://www.resbank.co.za/en/home/what-we-do/statistics/releases/selected-statistics)\n",
    "- fuel prices pulled from open price engin"
   ]
  },
  {
   "cell_type": "code",
   "execution_count": 2,
   "metadata": {},
   "outputs": [],
   "source": [
    "# get directory path\n",
    "path = str(pathlib.Path().cwd().parent.parent.resolve())"
   ]
  },
  {
   "cell_type": "code",
   "execution_count": 3,
   "metadata": {},
   "outputs": [],
   "source": [
    "cpi = pd.read_csv(path + '/data/cpi.csv')\n",
    "currency = pd.read_csv(path + '/data/currency_data.csv')\n",
    "credit = pd.read_excel(path + '/data/credit.xlsx', header=1)\n",
    "jse = pd.read_csv(path + '/data/jse_indices.csv')\n",
    "fuel = pd.read_csv(path + '/data/fuel_df.csv').drop(['Unnamed: 0'], axis=1)\n",
    "sabor = pd.read_csv(path + '/data/sabor.csv')"
   ]
  },
  {
   "cell_type": "markdown",
   "metadata": {},
   "source": [
    "Change dates to datetime"
   ]
  },
  {
   "cell_type": "code",
   "execution_count": 4,
   "metadata": {},
   "outputs": [
    {
     "name": "stderr",
     "output_type": "stream",
     "text": [
      "/var/folders/gx/c35dzbl95sg3t62y03g1j6s40000gn/T/ipykernel_73039/602859498.py:2: UserWarning: Parsing dates in %d-%m-%Y format when dayfirst=False (the default) was specified. Pass `dayfirst=True` or specify a format to silence this warning.\n"
     ]
    }
   ],
   "source": [
    "# change month to datetime format\n",
    "cpi['Date'] = pd.to_datetime(cpi['Month']).dt.strftime('%Y-%m')\n",
    "currency['Date'] = pd.to_datetime(currency['Date']).dt.strftime('%Y-%m')\n",
    "jse['Date'] = pd.to_datetime(jse['date']).dt.strftime('%Y-%m')\n",
    "credit['date'] = pd.to_datetime(credit['Date'], format='%b, %Y')\n",
    "credit['Date'] = pd.to_datetime(credit['date']).dt.strftime('%Y-%m')\n",
    "fuel['Date'] = pd.to_datetime(fuel['date']).dt.strftime('%Y-%m')\n",
    "sabor['Date'] = pd.to_datetime(sabor['date']).dt.strftime('%Y-%m')"
   ]
  },
  {
   "cell_type": "markdown",
   "metadata": {},
   "source": [
    "Only select dates from 2022"
   ]
  },
  {
   "cell_type": "code",
   "execution_count": 5,
   "metadata": {},
   "outputs": [],
   "source": [
    "# change month to datetime format\n",
    "cpi_new = cpi[cpi['Date'] > '2018']\n",
    "currency_new = currency[currency['Date'] > '2018']\n",
    "jse_new = jse[jse['Date'] > '2018']\n",
    "credit_new= credit[credit['Date'] > '2018']\n",
    "fuel_new= fuel[fuel['Date'] > '2018']\n",
    "sabor_new= sabor[sabor['Date'] > '2018']"
   ]
  },
  {
   "cell_type": "code",
   "execution_count": 6,
   "metadata": {},
   "outputs": [],
   "source": [
    "# Add June CPI\n",
    "june_cpi = pd.DataFrame({'Category': ['Headline_CPI', 'Food and nonalcoholic beverages', 'Alcoholic beverages and tobacco', \n",
    "                                      'Clothing and footwear', 'Housing and utilities', 'Household contents and services',\n",
    "                                      'Health', 'Transport', 'Communication', 'Recreation and culture', 'Education',\n",
    "                                      'Restaurants and hotels ', 'Miscellaneous goods and services'], \n",
    "                         'Value': [109.8, 118.3, 110.9, 104.3, 105.4, 107.7, 110.8, 112.3, 99.6, 105.3, 110.4, 110.0, 109.6]})\n",
    "june_cpi['Date'] = '2023-06'"
   ]
  },
  {
   "cell_type": "code",
   "execution_count": 7,
   "metadata": {},
   "outputs": [],
   "source": [
    "cpi_new = pd.concat([cpi_new, june_cpi])\n",
    "cpi_new['Date'] = pd.to_datetime(cpi_new['Date']).dt.strftime('%Y-%m')"
   ]
  },
  {
   "cell_type": "markdown",
   "metadata": {},
   "source": [
    "In the credit and national excels the commas in values need to be stripped and values turned in to intergers"
   ]
  },
  {
   "cell_type": "code",
   "execution_count": 8,
   "metadata": {},
   "outputs": [],
   "source": [
    "def remove_commas_and_convert_to_float(value):\n",
    "    return float(value.replace(',', ''))"
   ]
  },
  {
   "cell_type": "code",
   "execution_count": 9,
   "metadata": {},
   "outputs": [],
   "source": [
    "credit_new = credit_new.drop(['Share of corporations as a % of total credit',\n",
    "       'Share of corporations as a % of total loans & advances',\n",
    "       'Share of households as a % of total credit',\n",
    "       'Share of households as % of total loans & advances', 'Investments'], axis=1)"
   ]
  },
  {
   "cell_type": "code",
   "execution_count": 10,
   "metadata": {},
   "outputs": [],
   "source": [
    "credit_columns = ['Instalment sale credit', 'Leasing finance',\n",
    "       'Mortgage advances', 'Overdrafts', 'General loans and advances',\n",
    "       'Credit card advances', 'Of which: Total to households',\n",
    "       'Total loans and advances : Households',\n",
    "       'Claims on the domestic private sector',\n",
    "       'Total loans and advances (excl. investments & bills)',\n",
    "       'Bills discounted', 'Instalment sale credit.1', 'Leasing finance.1',\n",
    "       'Mortgage advances.1', 'Overdrafts.1', 'General loans and advances.1',\n",
    "       'Credit card advances.1', 'Of which: Total to corporations',\n",
    "       'Claims on the domestic private sector.1',\n",
    "       'Total loans and advances : Corporations',]"
   ]
  },
  {
   "cell_type": "code",
   "execution_count": 11,
   "metadata": {},
   "outputs": [],
   "source": [
    "credit_new[credit_columns] = credit_new[credit_columns].applymap(remove_commas_and_convert_to_float)\n"
   ]
  },
  {
   "cell_type": "markdown",
   "metadata": {},
   "source": [
    "# Create Features\n",
    "\n",
    "In some of the excel sheets we do not have up to date. We will there use the feature from 2 months ao as the feature for now (ie march is the predictor for July)"
   ]
  },
  {
   "cell_type": "code",
   "execution_count": 12,
   "metadata": {},
   "outputs": [
    {
     "name": "stdout",
     "output_type": "stream",
     "text": [
      "2023-06\n",
      "2023-06\n",
      "2023-06\n",
      "2023-06\n",
      "2023-07\n",
      "2023-06\n"
     ]
    }
   ],
   "source": [
    "print(jse_new['Date'].max())\n",
    "print(credit_new['Date'].max())\n",
    "print(currency_new['Date'].max())\n",
    "print(cpi_new['Date'].max())\n",
    "print(fuel_new['Date'].max())\n",
    "print(sabor_new['Date'].max())"
   ]
  },
  {
   "cell_type": "code",
   "execution_count": 13,
   "metadata": {},
   "outputs": [
    {
     "name": "stderr",
     "output_type": "stream",
     "text": [
      "/var/folders/gx/c35dzbl95sg3t62y03g1j6s40000gn/T/ipykernel_73039/1032560082.py:4: SettingWithCopyWarning: \n",
      "A value is trying to be set on a copy of a slice from a DataFrame.\n",
      "Try using .loc[row_indexer,col_indexer] = value instead\n",
      "\n",
      "See the caveats in the documentation: https://pandas.pydata.org/pandas-docs/stable/user_guide/indexing.html#returning-a-view-versus-a-copy\n",
      "/var/folders/gx/c35dzbl95sg3t62y03g1j6s40000gn/T/ipykernel_73039/1032560082.py:5: SettingWithCopyWarning: \n",
      "A value is trying to be set on a copy of a slice from a DataFrame.\n",
      "Try using .loc[row_indexer,col_indexer] = value instead\n",
      "\n",
      "See the caveats in the documentation: https://pandas.pydata.org/pandas-docs/stable/user_guide/indexing.html#returning-a-view-versus-a-copy\n"
     ]
    }
   ],
   "source": [
    "jse_new['newDate'] = (pd.to_datetime(jse_new['Date']) + pd.DateOffset(months=2)).dt.strftime('%Y-%m')\n",
    "credit_new['newDate'] = (pd.to_datetime(credit_new['Date']) + pd.DateOffset(months=2)).dt.strftime('%Y-%m')\n",
    "currency_new['newDate'] = (pd.to_datetime(currency_new['Date']) + pd.DateOffset(months=2)).dt.strftime('%Y-%m')\n",
    "fuel_new['newDate'] = (pd.to_datetime(fuel_new['Date']) + pd.DateOffset(months=2)).dt.strftime('%Y-%m')\n",
    "sabor_new['newDate'] = (pd.to_datetime(sabor_new['Date']) + pd.DateOffset(months=2)).dt.strftime('%Y-%m')"
   ]
  },
  {
   "cell_type": "code",
   "execution_count": 14,
   "metadata": {},
   "outputs": [],
   "source": [
    "jse_new = jse_new.drop(['Date', 'date'], axis=1)\n",
    "credit_new = credit_new.drop(['Date', 'date'], axis=1)\n",
    "currency_new = currency_new.drop(['Date'], axis=1)\n",
    "fuel_new = fuel_new.drop(['Date', 'date'], axis=1)\n",
    "sabor_new = sabor_new.drop(['Date', 'date'], axis=1)"
   ]
  },
  {
   "cell_type": "markdown",
   "metadata": {},
   "source": [
    "## Get mean per Month for jse and currency"
   ]
  },
  {
   "cell_type": "code",
   "execution_count": 15,
   "metadata": {},
   "outputs": [],
   "source": [
    "credit_mean = credit_new.groupby(['newDate']).mean().reset_index().add_suffix(\"mean\")\n",
    "jse_mean = jse_new.groupby(['newDate']).mean().reset_index().add_suffix(\"mean\")\n",
    "currency_mean = currency_new.groupby(['newDate']).mean().reset_index().add_suffix(\"mean\")\n",
    "fuel_new = fuel_new.groupby(['newDate']).mean().reset_index()\n",
    "sabor_new = sabor_new.groupby(['newDate']).mean().reset_index()\n",
    "\n",
    "\n",
    "jse_std = jse_new.groupby(['newDate']).std().reset_index().add_suffix(\"std\")\n",
    "currency_std = currency_new.groupby(['newDate']).std().reset_index().add_suffix(\"std\")\n",
    "\n",
    "credit_min = credit_new.groupby(['newDate']).min().reset_index().add_suffix(\"min\")\n",
    "jse_min = jse_new.groupby(['newDate']).min().reset_index().add_suffix(\"min\")\n",
    "currency_min = currency_new.groupby(['newDate']).min().reset_index().add_suffix(\"min\")\n",
    "\n",
    "credit_max = credit_new.groupby(['newDate']).max().reset_index().add_suffix(\"max\")\n",
    "jse_max = jse_new.groupby(['newDate']).max().reset_index().add_suffix(\"max\")\n",
    "currency_max = currency_new.groupby(['newDate']).max().reset_index().add_suffix(\"max\")\n"
   ]
  },
  {
   "cell_type": "code",
   "execution_count": 16,
   "metadata": {},
   "outputs": [],
   "source": [
    "credit_new = credit_mean.merge(credit_max, left_on='newDatemean', right_on='newDatemax', how='left').drop(['newDatemax'], axis=1)\n",
    "credit_new = credit_new.merge(credit_min, left_on='newDatemean', right_on='newDatemin', how='left').drop(['newDatemin'], axis=1)\n",
    "credit_new = credit_new.rename(columns={\"newDatemean\": \"newDate\"})"
   ]
  },
  {
   "cell_type": "code",
   "execution_count": 17,
   "metadata": {},
   "outputs": [],
   "source": [
    "jse_new = jse_mean.merge(jse_std, left_on='newDatemean', right_on='newDatestd', how='left').drop(['newDatestd'], axis=1)\n",
    "jse_new = jse_new.merge(jse_max, left_on='newDatemean', right_on='newDatemax', how='left').drop(['newDatemax'], axis=1)\n",
    "jse_new = jse_new.merge(jse_min, left_on='newDatemean', right_on='newDatemin', how='left').drop(['newDatemin'], axis=1)\n",
    "jse_new = jse_new.rename(columns={\"newDatemean\": \"newDate\"})"
   ]
  },
  {
   "cell_type": "code",
   "execution_count": 18,
   "metadata": {},
   "outputs": [],
   "source": [
    "currency_new = currency_mean.merge(currency_std, left_on='newDatemean', right_on='newDatestd', how='left').drop(['newDatestd'], axis=1)\n",
    "currency_new = currency_new.merge(currency_max, left_on='newDatemean', right_on='newDatemax', how='left').drop(['newDatemax'], axis=1)\n",
    "currency_new = currency_new.merge(currency_min, left_on='newDatemean', right_on='newDatemin', how='left').drop(['newDatemin'], axis=1)\n",
    "currency_new = currency_new.rename(columns={\"newDatemean\": \"newDate\"})"
   ]
  },
  {
   "cell_type": "markdown",
   "metadata": {},
   "source": [
    "# Merge data together for features"
   ]
  },
  {
   "cell_type": "code",
   "execution_count": 19,
   "metadata": {},
   "outputs": [],
   "source": [
    "cpi_all = cpi.drop(['Month'], axis=1).merge(jse_new, right_on='newDate', left_on='Date', how='left')\n",
    "cpi_all = cpi_all.drop(['newDate'], axis=1).merge(credit_new, right_on='newDate', left_on='Date', how='left')\n",
    "cpi_all = cpi_all.drop(['newDate'], axis=1).merge(currency_new, right_on='newDate', left_on='Date', how='left')\n",
    "cpi_all = cpi_all.drop(['newDate'], axis=1).merge(fuel_new, right_on='newDate', left_on='Date', how='left')\n",
    "cpi_all = cpi_all.drop(['newDate'], axis=1).merge(sabor_new, right_on='newDate', left_on='Date', how='left')"
   ]
  },
  {
   "cell_type": "code",
   "execution_count": 20,
   "metadata": {},
   "outputs": [
    {
     "data": {
      "text/plain": [
       "(221, 103)"
      ]
     },
     "execution_count": 20,
     "metadata": {},
     "output_type": "execute_result"
    }
   ],
   "source": [
    "cpi_all.shape"
   ]
  },
  {
   "cell_type": "markdown",
   "metadata": {},
   "source": [
    "# Model\n",
    "We will model one index at a time to see what works the best"
   ]
  },
  {
   "cell_type": "code",
   "execution_count": 21,
   "metadata": {},
   "outputs": [],
   "source": [
    "from models.models import HoltWintersWrapper, ProphetWrapper\n",
    "from sklearn.metrics import mean_squared_error"
   ]
  },
  {
   "cell_type": "code",
   "execution_count": 25,
   "metadata": {},
   "outputs": [],
   "source": [
    "feature_columns = list(cpi_all.drop(['Category', 'Date', 'Value', 'newDate'], axis=1).columns)"
   ]
  },
  {
   "cell_type": "code",
   "execution_count": 329,
   "metadata": {},
   "outputs": [
    {
     "data": {
      "text/plain": [
       "['Percentage Change (From Prior Month)',\n",
       " 'Top 40 Indexmean',\n",
       " 'Mid Cap Indexmean',\n",
       " 'Small Cap Indexmean',\n",
       " 'All-Share Indexmean',\n",
       " 'Large Cap Indexmean',\n",
       " 'Fin 15 Indexmean',\n",
       " 'Top 40 Indexstd',\n",
       " 'Mid Cap Indexstd',\n",
       " 'Small Cap Indexstd',\n",
       " 'All-Share Indexstd',\n",
       " 'Large Cap Indexstd',\n",
       " 'Fin 15 Indexstd',\n",
       " 'Top 40 Indexmax',\n",
       " 'Mid Cap Indexmax',\n",
       " 'Small Cap Indexmax',\n",
       " 'All-Share Indexmax',\n",
       " 'Large Cap Indexmax',\n",
       " 'Fin 15 Indexmax',\n",
       " 'Top 40 Indexmin',\n",
       " 'Mid Cap Indexmin',\n",
       " 'Small Cap Indexmin',\n",
       " 'All-Share Indexmin',\n",
       " 'Large Cap Indexmin',\n",
       " 'Fin 15 Indexmin',\n",
       " 'Instalment sale creditmean',\n",
       " 'Leasing financemean',\n",
       " 'Mortgage advancesmean',\n",
       " 'Overdraftsmean',\n",
       " 'General loans and advancesmean',\n",
       " 'Credit card advancesmean',\n",
       " 'Of which: Total to householdsmean',\n",
       " 'Total loans and advances : Householdsmean',\n",
       " 'Claims on the domestic private sectormean',\n",
       " 'Total loans and advances (excl. investments & bills)mean',\n",
       " 'Bills discountedmean',\n",
       " 'Instalment sale credit.1mean',\n",
       " 'Leasing finance.1mean',\n",
       " 'Mortgage advances.1mean',\n",
       " 'Overdrafts.1mean',\n",
       " 'General loans and advances.1mean',\n",
       " 'Credit card advances.1mean',\n",
       " 'Of which: Total to corporationsmean',\n",
       " 'Claims on the domestic private sector.1mean',\n",
       " 'Total loans and advances : Corporationsmean',\n",
       " 'Instalment sale creditmax',\n",
       " 'Leasing financemax',\n",
       " 'Mortgage advancesmax',\n",
       " 'Overdraftsmax',\n",
       " 'General loans and advancesmax',\n",
       " 'Credit card advancesmax',\n",
       " 'Of which: Total to householdsmax',\n",
       " 'Total loans and advances : Householdsmax',\n",
       " 'Claims on the domestic private sectormax',\n",
       " 'Total loans and advances (excl. investments & bills)max',\n",
       " 'Bills discountedmax',\n",
       " 'Instalment sale credit.1max',\n",
       " 'Leasing finance.1max',\n",
       " 'Mortgage advances.1max',\n",
       " 'Overdrafts.1max',\n",
       " 'General loans and advances.1max',\n",
       " 'Credit card advances.1max',\n",
       " 'Of which: Total to corporationsmax',\n",
       " 'Claims on the domestic private sector.1max',\n",
       " 'Total loans and advances : Corporationsmax',\n",
       " 'Instalment sale creditmin',\n",
       " 'Leasing financemin',\n",
       " 'Mortgage advancesmin',\n",
       " 'Overdraftsmin',\n",
       " 'General loans and advancesmin',\n",
       " 'Credit card advancesmin',\n",
       " 'Of which: Total to householdsmin',\n",
       " 'Total loans and advances : Householdsmin',\n",
       " 'Claims on the domestic private sectormin',\n",
       " 'Total loans and advances (excl. investments & bills)min',\n",
       " 'Bills discountedmin',\n",
       " 'Instalment sale credit.1min',\n",
       " 'Leasing finance.1min',\n",
       " 'Mortgage advances.1min',\n",
       " 'Overdrafts.1min',\n",
       " 'General loans and advances.1min',\n",
       " 'Credit card advances.1min',\n",
       " 'Of which: Total to corporationsmin',\n",
       " 'Claims on the domestic private sector.1min',\n",
       " 'Total loans and advances : Corporationsmin',\n",
       " 'USD/ZARmean',\n",
       " 'GBP/ZARmean',\n",
       " 'EUR/ZARmean',\n",
       " 'USD/ZARstd',\n",
       " 'GBP/ZARstd',\n",
       " 'EUR/ZARstd',\n",
       " 'USD/ZARmax',\n",
       " 'GBP/ZARmax',\n",
       " 'EUR/ZARmax',\n",
       " 'USD/ZARmin',\n",
       " 'GBP/ZARmin',\n",
       " 'EUR/ZARmin',\n",
       " 'fuel_price',\n",
       " 'sabor']"
      ]
     },
     "execution_count": 329,
     "metadata": {},
     "output_type": "execute_result"
    }
   ],
   "source": [
    "feature_columns"
   ]
  },
  {
   "cell_type": "code",
   "execution_count": 342,
   "metadata": {},
   "outputs": [],
   "source": [
    "def combined_model(cpi_all, month):\n",
    "\n",
    "    hw_cpi_cat = ['Health', 'Education']\n",
    "    cpi_cat = ['Headline_CPI',\n",
    "                'Food and non-alcoholic beverages',\n",
    "                'Alcoholic beverages and tobacco',\n",
    "                'Clothing and footwear',\n",
    "                'Housing and utilities',\n",
    "                'Household contents and services',\n",
    "                'Transport',\n",
    "                'Communication',\n",
    "                'Recreation and culture',\n",
    "                'Restaurants and hotels ',\n",
    "                'Miscellaneous goods and services']\n",
    "\n",
    "    hw_6_results = []\n",
    "    prophet_multi = []\n",
    "\n",
    "    # fit hw\n",
    "    for cat in hw_cpi_cat:\n",
    "        df = cpi_all[cpi_all['Category'] == cat]\n",
    "\n",
    "        hw_6 = HoltWintersWrapper(seasonal_periods=6)\n",
    "\n",
    "        hw_6.fit(y=df[df['Date'] < month].sort_values(by='Date')['Value'].values)\n",
    "\n",
    "        hw_6_results.append(hw_6.predict(forcast=1)[0])\n",
    "\n",
    "    df_hw_results = pd.DataFrame({'cat':hw_cpi_cat, 'pred':hw_6_results})\n",
    "\n",
    "    columns_to_drop = ['Category', 'Percentage Change (From Prior Month)', 'newDate']\n",
    "\n",
    "    df_features = jse_new.merge(credit_new, right_on='newDate', left_on='newDate', how='left')\n",
    "    df_features = df_features.merge(currency_new, right_on='newDate', left_on='newDate', how='left')\n",
    "    df_features = df_features.merge(fuel_new, right_on='newDate', left_on='newDate', how='left')\n",
    "    df_features = df_features.merge(sabor_new, right_on='newDate', left_on='newDate', how='left')\n",
    "\n",
    "    for cat in cpi_cat:\n",
    "        df = cpi_all[cpi_all['Category'] == cat]\n",
    "\n",
    "        # reorder and drop columns\n",
    "        df.insert(0, 'ds', df.pop('Date'))\n",
    "        df.insert(1, 'y', df.pop('Value'))\n",
    "        df = df[['ds', 'y', 'sabor']]\n",
    "\n",
    "        # model\n",
    "        prophet = ProphetWrapper(n_changepoints=2, seasonality_mode=\"multiplicative\")\n",
    "        prophet.fit(df[df['ds'] < month].sort_values(by='ds').sort_values(by='ds'))\n",
    "\n",
    "        df_predict = pd.DataFrame({'ds': [month]})\n",
    "        df_predict['ds'] = pd.to_datetime(df_predict['ds']).dt.strftime('%Y-%m')\n",
    "\n",
    "        df_predict = df_predict.merge(df_features, left_on='ds', right_on='newDate').drop(['newDate'], axis=1)\n",
    "        df_predict_columns = df.drop(['y'], axis=1).columns\n",
    "        prophet_multi.append(prophet.predict(df_predict[df_predict_columns])[0])\n",
    "\n",
    "    df_prophet_results = pd.DataFrame({'cat':cpi_cat, 'pred':prophet_multi})\n",
    "\n",
    "    df_results = pd.concat([df_hw_results, df_prophet_results])\n",
    "\n",
    "    return df_results\n",
    "\n",
    "        "
   ]
  },
  {
   "cell_type": "markdown",
   "metadata": {},
   "source": [
    "## Get April predictions"
   ]
  },
  {
   "cell_type": "code",
   "execution_count": 343,
   "metadata": {},
   "outputs": [],
   "source": [
    "df_results_apr = combined_model(cpi_all=cpi_all, month='2023-04')"
   ]
  },
  {
   "cell_type": "code",
   "execution_count": 344,
   "metadata": {},
   "outputs": [],
   "source": [
    "cpi_apr = cpi_all[cpi_all['Date'] == '2023-04']"
   ]
  },
  {
   "cell_type": "code",
   "execution_count": 345,
   "metadata": {},
   "outputs": [],
   "source": [
    "df_results_apr = df_results_apr.merge(cpi_apr[['Category', 'Value']], left_on='cat', right_on='Category')"
   ]
  },
  {
   "cell_type": "code",
   "execution_count": 346,
   "metadata": {},
   "outputs": [
    {
     "data": {
      "text/html": [
       "<div>\n",
       "<style scoped>\n",
       "    .dataframe tbody tr th:only-of-type {\n",
       "        vertical-align: middle;\n",
       "    }\n",
       "\n",
       "    .dataframe tbody tr th {\n",
       "        vertical-align: top;\n",
       "    }\n",
       "\n",
       "    .dataframe thead th {\n",
       "        text-align: right;\n",
       "    }\n",
       "</style>\n",
       "<table border=\"1\" class=\"dataframe\">\n",
       "  <thead>\n",
       "    <tr style=\"text-align: right;\">\n",
       "      <th></th>\n",
       "      <th>cat</th>\n",
       "      <th>pred</th>\n",
       "      <th>Category</th>\n",
       "      <th>Value</th>\n",
       "    </tr>\n",
       "  </thead>\n",
       "  <tbody>\n",
       "    <tr>\n",
       "      <th>0</th>\n",
       "      <td>Health</td>\n",
       "      <td>110.219044</td>\n",
       "      <td>Health</td>\n",
       "      <td>109.6</td>\n",
       "    </tr>\n",
       "    <tr>\n",
       "      <th>1</th>\n",
       "      <td>Education</td>\n",
       "      <td>110.397182</td>\n",
       "      <td>Education</td>\n",
       "      <td>110.4</td>\n",
       "    </tr>\n",
       "    <tr>\n",
       "      <th>2</th>\n",
       "      <td>Headline_CPI</td>\n",
       "      <td>109.122554</td>\n",
       "      <td>Headline_CPI</td>\n",
       "      <td>109.4</td>\n",
       "    </tr>\n",
       "    <tr>\n",
       "      <th>3</th>\n",
       "      <td>Food and non-alcoholic beverages</td>\n",
       "      <td>118.048220</td>\n",
       "      <td>Food and non-alcoholic beverages</td>\n",
       "      <td>117.4</td>\n",
       "    </tr>\n",
       "    <tr>\n",
       "      <th>4</th>\n",
       "      <td>Alcoholic beverages and tobacco</td>\n",
       "      <td>109.497112</td>\n",
       "      <td>Alcoholic beverages and tobacco</td>\n",
       "      <td>110.2</td>\n",
       "    </tr>\n",
       "    <tr>\n",
       "      <th>5</th>\n",
       "      <td>Clothing and footwear</td>\n",
       "      <td>103.585793</td>\n",
       "      <td>Clothing and footwear</td>\n",
       "      <td>103.7</td>\n",
       "    </tr>\n",
       "    <tr>\n",
       "      <th>6</th>\n",
       "      <td>Housing and utilities</td>\n",
       "      <td>104.672730</td>\n",
       "      <td>Housing and utilities</td>\n",
       "      <td>104.6</td>\n",
       "    </tr>\n",
       "    <tr>\n",
       "      <th>7</th>\n",
       "      <td>Household contents and services</td>\n",
       "      <td>108.178676</td>\n",
       "      <td>Household contents and services</td>\n",
       "      <td>107.7</td>\n",
       "    </tr>\n",
       "    <tr>\n",
       "      <th>8</th>\n",
       "      <td>Transport</td>\n",
       "      <td>112.570759</td>\n",
       "      <td>Transport</td>\n",
       "      <td>113.1</td>\n",
       "    </tr>\n",
       "    <tr>\n",
       "      <th>9</th>\n",
       "      <td>Communication</td>\n",
       "      <td>99.989488</td>\n",
       "      <td>Communication</td>\n",
       "      <td>99.8</td>\n",
       "    </tr>\n",
       "    <tr>\n",
       "      <th>10</th>\n",
       "      <td>Recreation and culture</td>\n",
       "      <td>104.280204</td>\n",
       "      <td>Recreation and culture</td>\n",
       "      <td>104.9</td>\n",
       "    </tr>\n",
       "    <tr>\n",
       "      <th>11</th>\n",
       "      <td>Restaurants and hotels</td>\n",
       "      <td>109.892272</td>\n",
       "      <td>Restaurants and hotels</td>\n",
       "      <td>108.6</td>\n",
       "    </tr>\n",
       "    <tr>\n",
       "      <th>12</th>\n",
       "      <td>Miscellaneous goods and services</td>\n",
       "      <td>108.770533</td>\n",
       "      <td>Miscellaneous goods and services</td>\n",
       "      <td>109.3</td>\n",
       "    </tr>\n",
       "  </tbody>\n",
       "</table>\n",
       "</div>"
      ],
      "text/plain": [
       "                                 cat        pred  \\\n",
       "0                             Health  110.219044   \n",
       "1                          Education  110.397182   \n",
       "2                       Headline_CPI  109.122554   \n",
       "3   Food and non-alcoholic beverages  118.048220   \n",
       "4    Alcoholic beverages and tobacco  109.497112   \n",
       "5              Clothing and footwear  103.585793   \n",
       "6              Housing and utilities  104.672730   \n",
       "7    Household contents and services  108.178676   \n",
       "8                          Transport  112.570759   \n",
       "9                      Communication   99.989488   \n",
       "10            Recreation and culture  104.280204   \n",
       "11           Restaurants and hotels   109.892272   \n",
       "12  Miscellaneous goods and services  108.770533   \n",
       "\n",
       "                            Category  Value  \n",
       "0                             Health  109.6  \n",
       "1                          Education  110.4  \n",
       "2                       Headline_CPI  109.4  \n",
       "3   Food and non-alcoholic beverages  117.4  \n",
       "4    Alcoholic beverages and tobacco  110.2  \n",
       "5              Clothing and footwear  103.7  \n",
       "6              Housing and utilities  104.6  \n",
       "7    Household contents and services  107.7  \n",
       "8                          Transport  113.1  \n",
       "9                      Communication   99.8  \n",
       "10            Recreation and culture  104.9  \n",
       "11           Restaurants and hotels   108.6  \n",
       "12  Miscellaneous goods and services  109.3  "
      ]
     },
     "execution_count": 346,
     "metadata": {},
     "output_type": "execute_result"
    }
   ],
   "source": [
    "df_results_apr"
   ]
  },
  {
   "cell_type": "code",
   "execution_count": 347,
   "metadata": {},
   "outputs": [
    {
     "name": "stdout",
     "output_type": "stream",
     "text": [
      "Apr RMSE prophet multi:  0.5732737122456786\n"
     ]
    }
   ],
   "source": [
    "rmse_apr = mean_squared_error(df_results_apr['pred'], df_results_apr['Value'], squared=False)\n",
    "print('Apr RMSE prophet multi: ', rmse_apr)"
   ]
  },
  {
   "cell_type": "code",
   "execution_count": 348,
   "metadata": {},
   "outputs": [],
   "source": [
    "df_results_apr = df_results_apr[['cat', 'pred']]\n",
    "df_results_apr.columns = ['ID', 'Value']\n",
    "\n",
    "month = \"April\"\n",
    "\n",
    "pred_map = {'Headline_CPI': f'{month}_headline CPI',\n",
    "'Alcoholic beverages and tobacco': f'{month}_alcoholic beverages and tobacco',\n",
    "'Clothing and footwear': f'{month}_clothing and footwear',\n",
    "'Communication': f'{month}_communication',\n",
    "'Education': f'{month}_education',\n",
    "'Food and non-alcoholic beverages': f'{month}_food and non-alcoholic beverages',\n",
    "'Health': f'{month}_health',\n",
    "'Household contents and services': f'{month}_household contents and services',\n",
    "'Housing and utilities': f'{month}_housing and utilities',\n",
    "'Miscellaneous goods and services': f'{month}_miscellaneous goods and services',\n",
    "'Recreation and culture': f'{month}_recreation and culture',\n",
    "'Restaurants and hotels ': f'{month}_restaurants and hotels',\n",
    "'Transport': f'{month}_transport'}\n",
    "\n",
    "df_results_apr = df_results_apr.replace(pred_map)\n",
    "\n",
    "df_results_apr.to_csv(path + '/submissions/apr_testing.csv', index=False)"
   ]
  },
  {
   "cell_type": "markdown",
   "metadata": {},
   "source": [
    "## Get May predictions"
   ]
  },
  {
   "cell_type": "code",
   "execution_count": 349,
   "metadata": {},
   "outputs": [],
   "source": [
    "df_results_may = combined_model(cpi_all=cpi_all, month='2023-05')"
   ]
  },
  {
   "cell_type": "code",
   "execution_count": 350,
   "metadata": {},
   "outputs": [],
   "source": [
    "cpi_may = cpi_all[cpi_all['Date'] == '2023-05']"
   ]
  },
  {
   "cell_type": "code",
   "execution_count": 351,
   "metadata": {},
   "outputs": [],
   "source": [
    "df_results_may = df_results_may.merge(cpi_may[['Category', 'Value']], left_on='cat', right_on='Category')"
   ]
  },
  {
   "cell_type": "code",
   "execution_count": 352,
   "metadata": {},
   "outputs": [
    {
     "data": {
      "text/html": [
       "<div>\n",
       "<style scoped>\n",
       "    .dataframe tbody tr th:only-of-type {\n",
       "        vertical-align: middle;\n",
       "    }\n",
       "\n",
       "    .dataframe tbody tr th {\n",
       "        vertical-align: top;\n",
       "    }\n",
       "\n",
       "    .dataframe thead th {\n",
       "        text-align: right;\n",
       "    }\n",
       "</style>\n",
       "<table border=\"1\" class=\"dataframe\">\n",
       "  <thead>\n",
       "    <tr style=\"text-align: right;\">\n",
       "      <th></th>\n",
       "      <th>cat</th>\n",
       "      <th>pred</th>\n",
       "      <th>Category</th>\n",
       "      <th>Value</th>\n",
       "    </tr>\n",
       "  </thead>\n",
       "  <tbody>\n",
       "    <tr>\n",
       "      <th>0</th>\n",
       "      <td>Health</td>\n",
       "      <td>109.862401</td>\n",
       "      <td>Health</td>\n",
       "      <td>110.3</td>\n",
       "    </tr>\n",
       "    <tr>\n",
       "      <th>1</th>\n",
       "      <td>Education</td>\n",
       "      <td>110.399999</td>\n",
       "      <td>Education</td>\n",
       "      <td>110.4</td>\n",
       "    </tr>\n",
       "    <tr>\n",
       "      <th>2</th>\n",
       "      <td>Headline_CPI</td>\n",
       "      <td>109.928225</td>\n",
       "      <td>Headline_CPI</td>\n",
       "      <td>109.6</td>\n",
       "    </tr>\n",
       "    <tr>\n",
       "      <th>3</th>\n",
       "      <td>Food and non-alcoholic beverages</td>\n",
       "      <td>118.953894</td>\n",
       "      <td>Food and non-alcoholic beverages</td>\n",
       "      <td>117.7</td>\n",
       "    </tr>\n",
       "    <tr>\n",
       "      <th>4</th>\n",
       "      <td>Alcoholic beverages and tobacco</td>\n",
       "      <td>111.557328</td>\n",
       "      <td>Alcoholic beverages and tobacco</td>\n",
       "      <td>110.6</td>\n",
       "    </tr>\n",
       "    <tr>\n",
       "      <th>5</th>\n",
       "      <td>Clothing and footwear</td>\n",
       "      <td>103.766891</td>\n",
       "      <td>Clothing and footwear</td>\n",
       "      <td>104.1</td>\n",
       "    </tr>\n",
       "    <tr>\n",
       "      <th>6</th>\n",
       "      <td>Housing and utilities</td>\n",
       "      <td>104.895073</td>\n",
       "      <td>Housing and utilities</td>\n",
       "      <td>104.6</td>\n",
       "    </tr>\n",
       "    <tr>\n",
       "      <th>7</th>\n",
       "      <td>Household contents and services</td>\n",
       "      <td>108.393757</td>\n",
       "      <td>Household contents and services</td>\n",
       "      <td>107.5</td>\n",
       "    </tr>\n",
       "    <tr>\n",
       "      <th>8</th>\n",
       "      <td>Transport</td>\n",
       "      <td>115.092887</td>\n",
       "      <td>Transport</td>\n",
       "      <td>113.3</td>\n",
       "    </tr>\n",
       "    <tr>\n",
       "      <th>9</th>\n",
       "      <td>Communication</td>\n",
       "      <td>100.070658</td>\n",
       "      <td>Communication</td>\n",
       "      <td>99.7</td>\n",
       "    </tr>\n",
       "    <tr>\n",
       "      <th>10</th>\n",
       "      <td>Recreation and culture</td>\n",
       "      <td>105.063235</td>\n",
       "      <td>Recreation and culture</td>\n",
       "      <td>104.8</td>\n",
       "    </tr>\n",
       "    <tr>\n",
       "      <th>11</th>\n",
       "      <td>Restaurants and hotels</td>\n",
       "      <td>109.429990</td>\n",
       "      <td>Restaurants and hotels</td>\n",
       "      <td>110.4</td>\n",
       "    </tr>\n",
       "    <tr>\n",
       "      <th>12</th>\n",
       "      <td>Miscellaneous goods and services</td>\n",
       "      <td>109.850164</td>\n",
       "      <td>Miscellaneous goods and services</td>\n",
       "      <td>109.4</td>\n",
       "    </tr>\n",
       "  </tbody>\n",
       "</table>\n",
       "</div>"
      ],
      "text/plain": [
       "                                 cat        pred  \\\n",
       "0                             Health  109.862401   \n",
       "1                          Education  110.399999   \n",
       "2                       Headline_CPI  109.928225   \n",
       "3   Food and non-alcoholic beverages  118.953894   \n",
       "4    Alcoholic beverages and tobacco  111.557328   \n",
       "5              Clothing and footwear  103.766891   \n",
       "6              Housing and utilities  104.895073   \n",
       "7    Household contents and services  108.393757   \n",
       "8                          Transport  115.092887   \n",
       "9                      Communication  100.070658   \n",
       "10            Recreation and culture  105.063235   \n",
       "11           Restaurants and hotels   109.429990   \n",
       "12  Miscellaneous goods and services  109.850164   \n",
       "\n",
       "                            Category  Value  \n",
       "0                             Health  110.3  \n",
       "1                          Education  110.4  \n",
       "2                       Headline_CPI  109.6  \n",
       "3   Food and non-alcoholic beverages  117.7  \n",
       "4    Alcoholic beverages and tobacco  110.6  \n",
       "5              Clothing and footwear  104.1  \n",
       "6              Housing and utilities  104.6  \n",
       "7    Household contents and services  107.5  \n",
       "8                          Transport  113.3  \n",
       "9                      Communication   99.7  \n",
       "10            Recreation and culture  104.8  \n",
       "11           Restaurants and hotels   110.4  \n",
       "12  Miscellaneous goods and services  109.4  "
      ]
     },
     "execution_count": 352,
     "metadata": {},
     "output_type": "execute_result"
    }
   ],
   "source": [
    "df_results_may"
   ]
  },
  {
   "cell_type": "code",
   "execution_count": 353,
   "metadata": {},
   "outputs": [
    {
     "name": "stdout",
     "output_type": "stream",
     "text": [
      "May RMSE prophet multo:  0.8014157441626073\n"
     ]
    }
   ],
   "source": [
    "rmse_may = mean_squared_error(df_results_may['pred'], df_results_may['Value'], squared=False)\n",
    "print('May RMSE prophet multo: ', rmse_may)"
   ]
  },
  {
   "cell_type": "code",
   "execution_count": 354,
   "metadata": {},
   "outputs": [],
   "source": [
    "df_results_may = df_results_may[['cat', 'pred']]\n",
    "df_results_may.columns = ['ID', 'Value']\n",
    "\n",
    "month = \"May\"\n",
    "\n",
    "pred_map = {'Headline_CPI': f'{month}_headline CPI',\n",
    "'Alcoholic beverages and tobacco': f'{month}_alcoholic beverages and tobacco',\n",
    "'Clothing and footwear': f'{month}_clothing and footwear',\n",
    "'Communication': f'{month}_communication',\n",
    "'Education': f'{month}_education',\n",
    "'Food and non-alcoholic beverages': f'{month}_food and non-alcoholic beverages',\n",
    "'Health': f'{month}_health',\n",
    "'Household contents and services': f'{month}_household contents and services',\n",
    "'Housing and utilities': f'{month}_housing and utilities',\n",
    "'Miscellaneous goods and services': f'{month}_miscellaneous goods and services',\n",
    "'Recreation and culture': f'{month}_recreation and culture',\n",
    "'Restaurants and hotels ': f'{month}_restaurants and hotels',\n",
    "'Transport': f'{month}_transport'}\n",
    "\n",
    "df_results_may = df_results_may.replace(pred_map)\n",
    "\n",
    "df_results_may.to_csv(path + '/submissions/may_testing.csv', index=False)"
   ]
  },
  {
   "cell_type": "markdown",
   "metadata": {},
   "source": [
    "## Get June predictions"
   ]
  },
  {
   "cell_type": "code",
   "execution_count": 355,
   "metadata": {},
   "outputs": [],
   "source": [
    "df_results_june = combined_model(cpi_all=cpi_all, month='2023-06')"
   ]
  },
  {
   "cell_type": "code",
   "execution_count": 356,
   "metadata": {},
   "outputs": [],
   "source": [
    "df_results_june['Value'] = [110.8, 110.4, 109.8, 118.3, 110.9, 104.3, 105.4, 107.7, 112.3, 99.6, 105.3, 110.0, 109.6]"
   ]
  },
  {
   "cell_type": "code",
   "execution_count": 357,
   "metadata": {},
   "outputs": [
    {
     "name": "stdout",
     "output_type": "stream",
     "text": [
      "June RMSE prophet multo:  0.6928484695650284\n"
     ]
    }
   ],
   "source": [
    "rmse_June = mean_squared_error(df_results_june['pred'], df_results_june['Value'], squared=False)\n",
    "print('June RMSE prophet multo: ', rmse_June)"
   ]
  },
  {
   "cell_type": "code",
   "execution_count": 358,
   "metadata": {},
   "outputs": [
    {
     "data": {
      "text/html": [
       "<div>\n",
       "<style scoped>\n",
       "    .dataframe tbody tr th:only-of-type {\n",
       "        vertical-align: middle;\n",
       "    }\n",
       "\n",
       "    .dataframe tbody tr th {\n",
       "        vertical-align: top;\n",
       "    }\n",
       "\n",
       "    .dataframe thead th {\n",
       "        text-align: right;\n",
       "    }\n",
       "</style>\n",
       "<table border=\"1\" class=\"dataframe\">\n",
       "  <thead>\n",
       "    <tr style=\"text-align: right;\">\n",
       "      <th></th>\n",
       "      <th>cat</th>\n",
       "      <th>pred</th>\n",
       "      <th>Value</th>\n",
       "    </tr>\n",
       "  </thead>\n",
       "  <tbody>\n",
       "    <tr>\n",
       "      <th>0</th>\n",
       "      <td>Health</td>\n",
       "      <td>110.510737</td>\n",
       "      <td>110.8</td>\n",
       "    </tr>\n",
       "    <tr>\n",
       "      <th>1</th>\n",
       "      <td>Education</td>\n",
       "      <td>110.400154</td>\n",
       "      <td>110.4</td>\n",
       "    </tr>\n",
       "    <tr>\n",
       "      <th>0</th>\n",
       "      <td>Headline_CPI</td>\n",
       "      <td>110.506180</td>\n",
       "      <td>109.8</td>\n",
       "    </tr>\n",
       "    <tr>\n",
       "      <th>1</th>\n",
       "      <td>Food and non-alcoholic beverages</td>\n",
       "      <td>119.329848</td>\n",
       "      <td>118.3</td>\n",
       "    </tr>\n",
       "    <tr>\n",
       "      <th>2</th>\n",
       "      <td>Alcoholic beverages and tobacco</td>\n",
       "      <td>111.549531</td>\n",
       "      <td>110.9</td>\n",
       "    </tr>\n",
       "    <tr>\n",
       "      <th>3</th>\n",
       "      <td>Clothing and footwear</td>\n",
       "      <td>104.247566</td>\n",
       "      <td>104.3</td>\n",
       "    </tr>\n",
       "    <tr>\n",
       "      <th>4</th>\n",
       "      <td>Housing and utilities</td>\n",
       "      <td>104.730566</td>\n",
       "      <td>105.4</td>\n",
       "    </tr>\n",
       "    <tr>\n",
       "      <th>5</th>\n",
       "      <td>Household contents and services</td>\n",
       "      <td>108.217005</td>\n",
       "      <td>107.7</td>\n",
       "    </tr>\n",
       "    <tr>\n",
       "      <th>6</th>\n",
       "      <td>Transport</td>\n",
       "      <td>112.119872</td>\n",
       "      <td>112.3</td>\n",
       "    </tr>\n",
       "    <tr>\n",
       "      <th>7</th>\n",
       "      <td>Communication</td>\n",
       "      <td>99.929319</td>\n",
       "      <td>99.6</td>\n",
       "    </tr>\n",
       "    <tr>\n",
       "      <th>8</th>\n",
       "      <td>Recreation and culture</td>\n",
       "      <td>105.248137</td>\n",
       "      <td>105.3</td>\n",
       "    </tr>\n",
       "    <tr>\n",
       "      <th>9</th>\n",
       "      <td>Restaurants and hotels</td>\n",
       "      <td>110.695749</td>\n",
       "      <td>110.0</td>\n",
       "    </tr>\n",
       "    <tr>\n",
       "      <th>10</th>\n",
       "      <td>Miscellaneous goods and services</td>\n",
       "      <td>111.282209</td>\n",
       "      <td>109.6</td>\n",
       "    </tr>\n",
       "  </tbody>\n",
       "</table>\n",
       "</div>"
      ],
      "text/plain": [
       "                                 cat        pred  Value\n",
       "0                             Health  110.510737  110.8\n",
       "1                          Education  110.400154  110.4\n",
       "0                       Headline_CPI  110.506180  109.8\n",
       "1   Food and non-alcoholic beverages  119.329848  118.3\n",
       "2    Alcoholic beverages and tobacco  111.549531  110.9\n",
       "3              Clothing and footwear  104.247566  104.3\n",
       "4              Housing and utilities  104.730566  105.4\n",
       "5    Household contents and services  108.217005  107.7\n",
       "6                          Transport  112.119872  112.3\n",
       "7                      Communication   99.929319   99.6\n",
       "8             Recreation and culture  105.248137  105.3\n",
       "9            Restaurants and hotels   110.695749  110.0\n",
       "10  Miscellaneous goods and services  111.282209  109.6"
      ]
     },
     "execution_count": 358,
     "metadata": {},
     "output_type": "execute_result"
    }
   ],
   "source": [
    "df_results_june"
   ]
  },
  {
   "cell_type": "code",
   "execution_count": 328,
   "metadata": {},
   "outputs": [],
   "source": [
    "df_results_june = df_results_june[['cat', 'pred']]\n",
    "df_results_june.columns = ['ID', 'Value']\n",
    "\n",
    "month = \"June\"\n",
    "\n",
    "pred_map = {'Headline_CPI': f'{month}_headline CPI',\n",
    "'Alcoholic beverages and tobacco': f'{month}_alcoholic beverages and tobacco',\n",
    "'Clothing and footwear': f'{month}_clothing and footwear',\n",
    "'Communication': f'{month}_communication',\n",
    "'Education': f'{month}_education',\n",
    "'Food and non-alcoholic beverages': f'{month}_food and non-alcoholic beverages',\n",
    "'Health': f'{month}_health',\n",
    "'Household contents and services': f'{month}_household contents and services',\n",
    "'Housing and utilities': f'{month}_housing and utilities',\n",
    "'Miscellaneous goods and services': f'{month}_miscellaneous goods and services',\n",
    "'Recreation and culture': f'{month}_recreation and culture',\n",
    "'Restaurants and hotels ': f'{month}_restaurants and hotels',\n",
    "'Transport': f'{month}_transport'}\n",
    "\n",
    "df_results_june = df_results_june.replace(pred_map)\n",
    "\n",
    "df_results_june.to_csv(path + '/submissions/june_testing.csv', index=False)"
   ]
  },
  {
   "cell_type": "markdown",
   "metadata": {},
   "source": [
    "# Get predictions for July"
   ]
  },
  {
   "cell_type": "code",
   "execution_count": null,
   "metadata": {},
   "outputs": [],
   "source": [
    "df_results_july = combined_model(cpi_all=cpi_all, month='2023-07')"
   ]
  },
  {
   "cell_type": "code",
   "execution_count": null,
   "metadata": {},
   "outputs": [],
   "source": [
    "df_results_july.columns = ['ID', 'Value']"
   ]
  },
  {
   "cell_type": "code",
   "execution_count": null,
   "metadata": {},
   "outputs": [],
   "source": [
    "month = 'July'"
   ]
  },
  {
   "cell_type": "code",
   "execution_count": null,
   "metadata": {},
   "outputs": [],
   "source": [
    "pred_map = {'Headline_CPI': f'{month}_headline CPI',\n",
    "'Alcoholic beverages and tobacco': f'{month}_alcoholic beverages and tobacco',\n",
    "'Clothing and footwear': f'{month}_clothing and footwear',\n",
    "'Communication': f'{month}_communication',\n",
    "'Education': f'{month}_education',\n",
    "'Food and non-alcoholic beverages': f'{month}_food and non-alcoholic beverages',\n",
    "'Health': f'{month}_health',\n",
    "'Household contents and services': f'{month}_household contents and services',\n",
    "'Housing and utilities': f'{month}_housing and utilities',\n",
    "'Miscellaneous goods and services': f'{month}_miscellaneous goods and services',\n",
    "'Recreation and culture': f'{month}_recreation and culture',\n",
    "'Restaurants and hotels ': f'{month}_restaurants and hotels',\n",
    "'Transport': f'{month}_transport'}"
   ]
  },
  {
   "cell_type": "code",
   "execution_count": null,
   "metadata": {},
   "outputs": [],
   "source": [
    "df_results_july = df_results_july.replace(pred_map)"
   ]
  },
  {
   "cell_type": "code",
   "execution_count": null,
   "metadata": {},
   "outputs": [],
   "source": [
    "df_results_july.to_csv(path + '/submissions/2023-08-13_multi_july.csv', index=False)"
   ]
  },
  {
   "cell_type": "markdown",
   "metadata": {},
   "source": [
    "# Get August submission"
   ]
  },
  {
   "cell_type": "code",
   "execution_count": null,
   "metadata": {},
   "outputs": [],
   "source": [
    "df_results_aug = combined_model(cpi_all=cpi_all, month='2023-08')"
   ]
  },
  {
   "cell_type": "code",
   "execution_count": null,
   "metadata": {},
   "outputs": [],
   "source": [
    "df_results_aug.columns = ['ID', 'Value']"
   ]
  },
  {
   "cell_type": "code",
   "execution_count": null,
   "metadata": {},
   "outputs": [],
   "source": [
    "month = 'August'"
   ]
  },
  {
   "cell_type": "code",
   "execution_count": null,
   "metadata": {},
   "outputs": [],
   "source": [
    "pred_map = {'Headline_CPI': f'{month}_headline CPI',\n",
    "'Alcoholic beverages and tobacco': f'{month}_alcoholic beverages and tobacco',\n",
    "'Clothing and footwear': f'{month}_clothing and footwear',\n",
    "'Communication': f'{month}_communication',\n",
    "'Education': f'{month}_education',\n",
    "'Food and non-alcoholic beverages': f'{month}_food and non-alcoholic beverages',\n",
    "'Health': f'{month}_health',\n",
    "'Household contents and services': f'{month}_household contents and services',\n",
    "'Housing and utilities': f'{month}_housing and utilities',\n",
    "'Miscellaneous goods and services': f'{month}_miscellaneous goods and services',\n",
    "'Recreation and culture': f'{month}_recreation and culture',\n",
    "'Restaurants and hotels ': f'{month}_restaurants and hotels',\n",
    "'Transport': f'{month}_transport'}"
   ]
  },
  {
   "cell_type": "code",
   "execution_count": null,
   "metadata": {},
   "outputs": [],
   "source": [
    "df_results_aug = df_results_aug.replace(pred_map)"
   ]
  },
  {
   "cell_type": "code",
   "execution_count": null,
   "metadata": {},
   "outputs": [],
   "source": [
    "df_results_aug.to_csv(path + '/submissions/2023-08-13_multi_aug.csv', index=False)"
   ]
  },
  {
   "cell_type": "code",
   "execution_count": null,
   "metadata": {},
   "outputs": [],
   "source": []
  }
 ],
 "metadata": {
  "kernelspec": {
   "display_name": "Python 3.9.16 ('zindi_rmb')",
   "language": "python",
   "name": "python3"
  },
  "language_info": {
   "codemirror_mode": {
    "name": "ipython",
    "version": 3
   },
   "file_extension": ".py",
   "mimetype": "text/x-python",
   "name": "python",
   "nbconvert_exporter": "python",
   "pygments_lexer": "ipython3",
   "version": "3.9.16"
  },
  "orig_nbformat": 4,
  "vscode": {
   "interpreter": {
    "hash": "c64d72df593dea6c761f2df73983bedc3ab4ce00cdb01364b040ea0205292cb4"
   }
  }
 },
 "nbformat": 4,
 "nbformat_minor": 2
}
