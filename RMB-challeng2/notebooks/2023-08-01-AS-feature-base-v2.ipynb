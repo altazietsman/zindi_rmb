{
 "cells": [
  {
   "cell_type": "code",
   "execution_count": 1,
   "metadata": {},
   "outputs": [
    {
     "name": "stderr",
     "output_type": "stream",
     "text": [
      "Importing plotly failed. Interactive plots will not work.\n"
     ]
    }
   ],
   "source": [
    "import pandas as pd\n",
    "import plotnine as pn\n",
    "from plotnine import aes, ggplot\n",
    "import pathlib\n",
    "from datetime import datetime\n",
    "from prophet import Prophet"
   ]
  },
  {
   "cell_type": "markdown",
   "metadata": {},
   "source": [
    "# Import Datasets\n",
    "The following datasets are used:\n",
    "- cpi file as supplied by zindi\n",
    "- currency as supplied by zindi\n",
    "- jse data as supplied by zindi\n",
    "-  Monthly credit detail excel released by the reserve bank (https://www.resbank.co.za/en/home/what-we-do/statistics/releases/selected-statistics)\n",
    "- fuel prices pulled from open price engin\n",
    "- sabor data pulled from open price engin"
   ]
  },
  {
   "cell_type": "code",
   "execution_count": 54,
   "metadata": {},
   "outputs": [],
   "source": [
    "# get directory path\n",
    "path = str(pathlib.Path().cwd().parent.parent.resolve())"
   ]
  },
  {
   "cell_type": "code",
   "execution_count": 57,
   "metadata": {},
   "outputs": [],
   "source": [
    "cpi = pd.read_csv(path + '/data/cpi.csv')\n",
    "currency = pd.read_csv(path + '/data/currency_data.csv')\n",
    "credit = pd.read_excel(path + '/data/credit.xlsx', header=1)\n",
    "jse = pd.read_csv(path + '/data/jse_indices.csv')\n",
    "fuel = pd.read_csv(path + '/data/fuel_df.csv').drop(['Unnamed: 0'], axis=1)\n",
    "sabor = pd.read_csv(path + '/data/sabor.csv')"
   ]
  },
  {
   "cell_type": "markdown",
   "metadata": {},
   "source": [
    "Change dates to datetime"
   ]
  },
  {
   "cell_type": "code",
   "execution_count": 58,
   "metadata": {},
   "outputs": [
    {
     "name": "stderr",
     "output_type": "stream",
     "text": [
      "/var/folders/gx/c35dzbl95sg3t62y03g1j6s40000gn/T/ipykernel_48410/602859498.py:2: UserWarning: Parsing dates in %d-%m-%Y format when dayfirst=False (the default) was specified. Pass `dayfirst=True` or specify a format to silence this warning.\n"
     ]
    }
   ],
   "source": [
    "# change month to datetime format\n",
    "cpi['Date'] = pd.to_datetime(cpi['Month']).dt.strftime('%Y-%m')\n",
    "currency['Date'] = pd.to_datetime(currency['Date']).dt.strftime('%Y-%m')\n",
    "jse['Date'] = pd.to_datetime(jse['date']).dt.strftime('%Y-%m')\n",
    "credit['date'] = pd.to_datetime(credit['Date'], format='%b, %Y')\n",
    "credit['Date'] = pd.to_datetime(credit['date']).dt.strftime('%Y-%m')\n",
    "fuel['Date'] = pd.to_datetime(fuel['date']).dt.strftime('%Y-%m')\n",
    "sabor['Date'] = pd.to_datetime(sabor['date']).dt.strftime('%Y-%m')"
   ]
  },
  {
   "cell_type": "markdown",
   "metadata": {},
   "source": [
    "Only select dates from 2022"
   ]
  },
  {
   "cell_type": "code",
   "execution_count": 59,
   "metadata": {},
   "outputs": [],
   "source": [
    "# change month to datetime format\n",
    "cpi_new = cpi[cpi['Date'] > '2018']\n",
    "currency_new = currency[currency['Date'] > '2018']\n",
    "jse_new = jse[jse['Date'] > '2018']\n",
    "credit_new= credit[credit['Date'] > '2018']\n",
    "fuel_new= fuel[fuel['Date'] > '2018']\n",
    "sabor_new= sabor[sabor['Date'] > '2018']"
   ]
  },
  {
   "cell_type": "code",
   "execution_count": 60,
   "metadata": {},
   "outputs": [],
   "source": [
    "# Add June CPI\n",
    "june_cpi = pd.DataFrame({'Category': ['Headline_CPI', 'Food and nonalcoholic beverages', 'Alcoholic beverages and tobacco', \n",
    "                                      'Clothing and footwear', 'Housing and utilities', 'Household contents and services',\n",
    "                                      'Health', 'Transport', 'Communication', 'Recreation and culture', 'Education',\n",
    "                                      'Restaurants and hotels ', 'Miscellaneous goods and services'], \n",
    "                         'Value': [109.8, 118.3, 110.9, 104.3, 105.4, 107.7, 110.8, 112.3, 99.6, 105.3, 110.4, 110.0, 109.6]})\n",
    "june_cpi['Date'] = '2023-06'"
   ]
  },
  {
   "cell_type": "code",
   "execution_count": 61,
   "metadata": {},
   "outputs": [],
   "source": [
    "cpi_columns = [['Headline_CPI', 'Food and nonalcoholic beverages', 'Alcoholic beverages and tobacco', \n",
    "                                      'Clothing and footwear', 'Housing and utilities', 'Household contents and services',\n",
    "                                      'Health', 'Transport', 'Communication', 'Recreation and culture', 'Education',\n",
    "                                      'Restaurants and hotels ', 'Miscellaneous goods and services']]"
   ]
  },
  {
   "cell_type": "code",
   "execution_count": 62,
   "metadata": {},
   "outputs": [],
   "source": [
    "cpi_new = pd.concat([cpi_new, june_cpi])\n",
    "cpi_new['Date'] = pd.to_datetime(cpi_new['Date']).dt.strftime('%Y-%m')"
   ]
  },
  {
   "cell_type": "markdown",
   "metadata": {},
   "source": [
    "In the credit and national excels the commas in values need to be stripped and values turned in to intergers"
   ]
  },
  {
   "cell_type": "code",
   "execution_count": 63,
   "metadata": {},
   "outputs": [],
   "source": [
    "def remove_commas_and_convert_to_float(value):\n",
    "    return float(value.replace(',', ''))"
   ]
  },
  {
   "cell_type": "code",
   "execution_count": 64,
   "metadata": {},
   "outputs": [],
   "source": [
    "credit_new = credit_new.drop(['Share of corporations as a % of total credit',\n",
    "       'Share of corporations as a % of total loans & advances',\n",
    "       'Share of households as a % of total credit',\n",
    "       'Share of households as % of total loans & advances', 'Investments'], axis=1)"
   ]
  },
  {
   "cell_type": "code",
   "execution_count": 65,
   "metadata": {},
   "outputs": [],
   "source": [
    "credit_columns = ['Instalment sale credit', 'Leasing finance',\n",
    "       'Mortgage advances', 'Overdrafts', 'General loans and advances',\n",
    "       'Credit card advances', 'Of which: Total to households',\n",
    "       'Total loans and advances : Households',\n",
    "       'Claims on the domestic private sector',\n",
    "       'Total loans and advances (excl. investments & bills)',\n",
    "       'Bills discounted', 'Instalment sale credit.1', 'Leasing finance.1',\n",
    "       'Mortgage advances.1', 'Overdrafts.1', 'General loans and advances.1',\n",
    "       'Credit card advances.1', 'Of which: Total to corporations',\n",
    "       'Claims on the domestic private sector.1',\n",
    "       'Total loans and advances : Corporations',]"
   ]
  },
  {
   "cell_type": "code",
   "execution_count": 66,
   "metadata": {},
   "outputs": [],
   "source": [
    "credit_new[credit_columns] = credit_new[credit_columns].applymap(remove_commas_and_convert_to_float)\n"
   ]
  },
  {
   "cell_type": "markdown",
   "metadata": {},
   "source": [
    "# Create Features\n",
    "\n",
    "In some of the excel sheets we do not have up to date. We will there use the feature from 2 months ao as the feature for now (ie march is the predictor for July)"
   ]
  },
  {
   "cell_type": "code",
   "execution_count": 67,
   "metadata": {},
   "outputs": [
    {
     "name": "stdout",
     "output_type": "stream",
     "text": [
      "2023-06\n",
      "2023-05\n",
      "2023-06\n",
      "2023-06\n",
      "2023-07\n",
      "2023-06\n"
     ]
    }
   ],
   "source": [
    "print(jse_new['Date'].max())\n",
    "print(credit_new['Date'].max())\n",
    "print(currency_new['Date'].max())\n",
    "print(cpi_new['Date'].max())\n",
    "print(fuel_new['Date'].max())\n",
    "print(sabor_new['Date'].max())"
   ]
  },
  {
   "cell_type": "code",
   "execution_count": 68,
   "metadata": {},
   "outputs": [
    {
     "name": "stdout",
     "output_type": "stream",
     "text": [
      "2018-01\n",
      "2018-01\n",
      "2018-01\n",
      "2022-01\n",
      "2018-01\n",
      "2018-01\n"
     ]
    }
   ],
   "source": [
    "print(jse_new['Date'].min())\n",
    "print(credit_new['Date'].min())\n",
    "print(currency_new['Date'].min())\n",
    "print(cpi_new['Date'].min())\n",
    "print(fuel_new['Date'].min())\n",
    "print(sabor_new['Date'].min())"
   ]
  },
  {
   "cell_type": "code",
   "execution_count": 69,
   "metadata": {},
   "outputs": [
    {
     "name": "stderr",
     "output_type": "stream",
     "text": [
      "/var/folders/gx/c35dzbl95sg3t62y03g1j6s40000gn/T/ipykernel_48410/996076500.py:4: SettingWithCopyWarning: \n",
      "A value is trying to be set on a copy of a slice from a DataFrame.\n",
      "Try using .loc[row_indexer,col_indexer] = value instead\n",
      "\n",
      "See the caveats in the documentation: https://pandas.pydata.org/pandas-docs/stable/user_guide/indexing.html#returning-a-view-versus-a-copy\n",
      "/var/folders/gx/c35dzbl95sg3t62y03g1j6s40000gn/T/ipykernel_48410/996076500.py:5: SettingWithCopyWarning: \n",
      "A value is trying to be set on a copy of a slice from a DataFrame.\n",
      "Try using .loc[row_indexer,col_indexer] = value instead\n",
      "\n",
      "See the caveats in the documentation: https://pandas.pydata.org/pandas-docs/stable/user_guide/indexing.html#returning-a-view-versus-a-copy\n"
     ]
    }
   ],
   "source": [
    "jse_new['newDate'] = (pd.to_datetime(jse_new['Date']) + pd.DateOffset(months=2)).dt.strftime('%Y-%m')\n",
    "credit_new['newDate'] = (pd.to_datetime(credit_new['Date']) + pd.DateOffset(months=2)).dt.strftime('%Y-%m')\n",
    "currency_new['newDate'] = (pd.to_datetime(currency_new['Date']) + pd.DateOffset(months=2)).dt.strftime('%Y-%m')\n",
    "fuel_new['newDate'] = (pd.to_datetime(fuel_new['Date']) + pd.DateOffset(months=2)).dt.strftime('%Y-%m')\n",
    "sabor_new['newDate'] = (pd.to_datetime(sabor['Date']) + pd.DateOffset(months=2)).dt.strftime('%Y-%m')"
   ]
  },
  {
   "cell_type": "code",
   "execution_count": 70,
   "metadata": {},
   "outputs": [],
   "source": [
    "jse_new = jse_new.drop(['Date', 'date'], axis=1)\n",
    "credit_new = credit_new.drop(['Date', 'date'], axis=1)\n",
    "currency_new = currency_new.drop(['Date'], axis=1)\n",
    "fuel_new = fuel_new.drop(['Date', 'date'], axis=1)\n",
    "sabor_new = sabor_new.drop(['Date', 'date'], axis=1)"
   ]
  },
  {
   "cell_type": "markdown",
   "metadata": {},
   "source": [
    "## Get mean per Month for jse and currency"
   ]
  },
  {
   "cell_type": "code",
   "execution_count": 71,
   "metadata": {},
   "outputs": [],
   "source": [
    "credit_new = credit_new.groupby(['newDate']).mean().reset_index()\n",
    "jse_new = jse_new.groupby(['newDate']).mean().reset_index()\n",
    "currency_new = currency_new.groupby(['newDate']).mean().reset_index()\n",
    "fuel_new = fuel_new.groupby(['newDate']).mean().reset_index()\n",
    "sabor_new = sabor_new.groupby(['newDate']).mean().reset_index()"
   ]
  },
  {
   "cell_type": "markdown",
   "metadata": {},
   "source": [
    "# Merge data together for features"
   ]
  },
  {
   "cell_type": "code",
   "execution_count": 73,
   "metadata": {},
   "outputs": [],
   "source": [
    "cpi_all = cpi.drop(['Month'], axis=1).merge(jse_new, right_on='newDate', left_on='Date', how='left')\n",
    "cpi_all = cpi_all.drop(['newDate'], axis=1).merge(credit_new, right_on='newDate', left_on='Date', how='left')\n",
    "cpi_all = cpi_all.drop(['newDate'], axis=1).merge(currency_new, right_on='newDate', left_on='Date', how='left')\n",
    "cpi_all = cpi_all.drop(['newDate'], axis=1).merge(fuel_new, right_on='newDate', left_on='Date', how='left')\n",
    "cpi_all = cpi_all.drop(['newDate'], axis=1).merge(sabor_new, right_on='newDate', left_on='Date', how='left')"
   ]
  },
  {
   "cell_type": "markdown",
   "metadata": {},
   "source": [
    "# Model\n",
    "We will model one index at a time to see what works the best"
   ]
  },
  {
   "cell_type": "code",
   "execution_count": 74,
   "metadata": {},
   "outputs": [],
   "source": [
    "from models.models import HoltWintersWrapper, ProphetWrapper\n",
    "from sklearn.metrics import mean_squared_error"
   ]
  },
  {
   "cell_type": "code",
   "execution_count": 144,
   "metadata": {},
   "outputs": [],
   "source": [
    "def combined_model(cpi_all, month):\n",
    "\n",
    "    cpi_cat = ['Food and non-alcoholic beverages',\n",
    "                'Alcoholic beverages and tobacco',\n",
    "                'Transport','Clothing and footwear',\n",
    "                'Housing and utilities',\n",
    "                'Household contents and services',]\n",
    "    hw_cpi_cat = ['Headline_CPI',\n",
    "                'Communication',\n",
    "                'Recreation and culture',\n",
    "                'Restaurants and hotels ',\n",
    "                'Miscellaneous goods and services',\n",
    "                'Health', 'Education']\n",
    "\n",
    "    hw_results = []\n",
    "    prophet_multi = []\n",
    "\n",
    "    # fit hw\n",
    "    for cat in hw_cpi_cat:\n",
    "        df = cpi_all[cpi_all['Category'] == cat]\n",
    "\n",
    "        hw = HoltWintersWrapper(seasonal_periods=6)\n",
    "\n",
    "        hw.fit(y=df[df['Date'] < month].sort_values(by='Date')['Value'].values)\n",
    "\n",
    "        hw_results.append(hw.predict(forcast=1)[0])\n",
    "\n",
    "    df_hw_results = pd.DataFrame({'cat':hw_cpi_cat, 'pred':hw_results})\n",
    "\n",
    "    #fit prophet\n",
    "    cpi_features = credit_new.merge(jse_new, right_on='newDate', left_on='newDate', how='left')\n",
    "    cpi_features = cpi_features.merge(currency_new, right_on='newDate', left_on='newDate', how='left')\n",
    "    cpi_features['newDate'] = pd.to_datetime(cpi_features['newDate']).dt.strftime('%Y-%m')\n",
    "\n",
    "    columns_to_drop = ['Category', 'Percentage Change (From Prior Month)', 'newDate']\n",
    "\n",
    "    for cat in cpi_cat:\n",
    "        df = cpi_all[cpi_all['Category'] == cat]\n",
    "\n",
    "        # reorder and drop columns\n",
    "        df.insert(0, 'ds', df.pop('Date'))\n",
    "        df.insert(1, 'y', df.pop('Value'))\n",
    "        df = df.drop(columns_to_drop, axis=1)\n",
    "        df = df[['ds', 'y']]\n",
    "\n",
    "        # model\n",
    "        prophet = ProphetWrapper(interval_width=0.8)\n",
    "        prophet.fit(df[df['ds'] < month].sort_values(by='ds').sort_values(by='ds'))\n",
    "\n",
    "        df_predict = pd.DataFrame({'ds': [month]})\n",
    "        df_predict['ds'] = pd.to_datetime(df_predict['ds']).dt.strftime('%Y-%m')\n",
    "        df_predict = df_predict.merge(cpi_features, left_on='ds', right_on='newDate').drop(['newDate'], axis=1)\n",
    "        df_predict_columns = df.drop(['y'], axis=1).columns\n",
    "        prophet_multi.append(prophet.predict(df_predict[df_predict_columns])[0])\n",
    "\n",
    "    df_prophet_results = pd.DataFrame({'cat':cpi_cat, 'pred':prophet_multi})\n",
    "\n",
    "    df_results = pd.concat([df_hw_results, df_prophet_results])\n",
    "\n",
    "    return df_results\n",
    "\n",
    "        "
   ]
  },
  {
   "cell_type": "markdown",
   "metadata": {},
   "source": [
    "# Get testing predictions"
   ]
  },
  {
   "cell_type": "code",
   "execution_count": 166,
   "metadata": {},
   "outputs": [],
   "source": [
    "df_results = combined_model(cpi_all=cpi_all, month='2023-07')"
   ]
  },
  {
   "cell_type": "code",
   "execution_count": 167,
   "metadata": {},
   "outputs": [],
   "source": [
    "df_results.columns = ['ID', 'Value']"
   ]
  },
  {
   "cell_type": "code",
   "execution_count": 168,
   "metadata": {},
   "outputs": [],
   "source": [
    "month = 'July'"
   ]
  },
  {
   "cell_type": "code",
   "execution_count": 169,
   "metadata": {},
   "outputs": [],
   "source": [
    "pred_map = {'Headline_CPI': f'{month}_headline CPI',\n",
    "'Alcoholic beverages and tobacco': f'{month}_alcoholic beverages and tobacco',\n",
    "'Clothing and footwear': f'{month}_clothing and footwear',\n",
    "'Communication': f'{month}_communication',\n",
    "'Education': f'{month}_education',\n",
    "'Food and non-alcoholic beverages': f'{month}_food and non-alcoholic beverages',\n",
    "'Health': f'{month}_health',\n",
    "'Household contents and services': f'{month}_household contents and services',\n",
    "'Housing and utilities': f'{month}_housing and utilities',\n",
    "'Miscellaneous goods and services': f'{month}_miscellaneous goods and services',\n",
    "'Recreation and culture': f'{month}_recreation and culture',\n",
    "'Restaurants and hotels ': f'{month}_restaurants and hotels',\n",
    "'Transport': f'{month}_transport'}"
   ]
  },
  {
   "cell_type": "code",
   "execution_count": 170,
   "metadata": {},
   "outputs": [],
   "source": [
    "df_results = df_results.replace(pred_map)"
   ]
  },
  {
   "cell_type": "code",
   "execution_count": 171,
   "metadata": {},
   "outputs": [],
   "source": [
    "df_results.to_csv(path + f'/submissions/multv2_{month}.csv', index=False)"
   ]
  },
  {
   "cell_type": "code",
   "execution_count": 172,
   "metadata": {},
   "outputs": [
    {
     "data": {
      "text/plain": [
       "'July'"
      ]
     },
     "execution_count": 172,
     "metadata": {},
     "output_type": "execute_result"
    }
   ],
   "source": [
    "month"
   ]
  },
  {
   "cell_type": "code",
   "execution_count": null,
   "metadata": {},
   "outputs": [],
   "source": []
  }
 ],
 "metadata": {
  "kernelspec": {
   "display_name": "Python 3.9.16 ('zindi_rmb')",
   "language": "python",
   "name": "python3"
  },
  "language_info": {
   "codemirror_mode": {
    "name": "ipython",
    "version": 3
   },
   "file_extension": ".py",
   "mimetype": "text/x-python",
   "name": "python",
   "nbconvert_exporter": "python",
   "pygments_lexer": "ipython3",
   "version": "3.9.16"
  },
  "orig_nbformat": 4,
  "vscode": {
   "interpreter": {
    "hash": "c64d72df593dea6c761f2df73983bedc3ab4ce00cdb01364b040ea0205292cb4"
   }
  }
 },
 "nbformat": 4,
 "nbformat_minor": 2
}
