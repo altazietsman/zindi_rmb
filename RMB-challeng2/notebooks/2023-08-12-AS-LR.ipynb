{
 "cells": [
  {
   "cell_type": "code",
   "execution_count": 495,
   "metadata": {},
   "outputs": [],
   "source": [
    "import pandas as pd\n",
    "import plotnine as pn\n",
    "from plotnine import aes, ggplot\n",
    "import pathlib\n",
    "from datetime import datetime\n",
    "from prophet import Prophet"
   ]
  },
  {
   "cell_type": "markdown",
   "metadata": {},
   "source": [
    "# Import Datasets\n",
    "The following datasets are used:\n",
    "- cpi file as supplied by zindi\n",
    "- currency as supplied by zindi\n",
    "- jse data as supplied by zindi\n",
    "-  Monthly credit detail excel released by the reserve bank (https://www.resbank.co.za/en/home/what-we-do/statistics/releases/selected-statistics)\n",
    "- fuel prices pulled from open price engin"
   ]
  },
  {
   "cell_type": "code",
   "execution_count": 496,
   "metadata": {},
   "outputs": [],
   "source": [
    "# get directory path\n",
    "path = str(pathlib.Path().cwd().parent.parent.resolve())"
   ]
  },
  {
   "cell_type": "code",
   "execution_count": 497,
   "metadata": {},
   "outputs": [],
   "source": [
    "cpi = pd.read_csv(path + '/data/cpi.csv')\n",
    "currency = pd.read_csv(path + '/data/currency_data.csv')\n",
    "credit = pd.read_excel(path + '/data/credit.xlsx', header=1)\n",
    "jse = pd.read_csv(path + '/data/jse_indices.csv')\n",
    "fuel = pd.read_csv(path + '/data/fuel_df.csv').drop(['Unnamed: 0'], axis=1)\n",
    "sabor = pd.read_csv(path + '/data/sabor.csv')"
   ]
  },
  {
   "cell_type": "markdown",
   "metadata": {},
   "source": [
    "Change dates to datetime"
   ]
  },
  {
   "cell_type": "code",
   "execution_count": 498,
   "metadata": {},
   "outputs": [
    {
     "name": "stderr",
     "output_type": "stream",
     "text": [
      "/var/folders/gx/c35dzbl95sg3t62y03g1j6s40000gn/T/ipykernel_61563/602859498.py:2: UserWarning: Parsing dates in %d-%m-%Y format when dayfirst=False (the default) was specified. Pass `dayfirst=True` or specify a format to silence this warning.\n"
     ]
    }
   ],
   "source": [
    "# change month to datetime format\n",
    "cpi['Date'] = pd.to_datetime(cpi['Month']).dt.strftime('%Y-%m')\n",
    "currency['Date'] = pd.to_datetime(currency['Date']).dt.strftime('%Y-%m')\n",
    "jse['Date'] = pd.to_datetime(jse['date']).dt.strftime('%Y-%m')\n",
    "credit['date'] = pd.to_datetime(credit['Date'], format='%b, %Y')\n",
    "credit['Date'] = pd.to_datetime(credit['date']).dt.strftime('%Y-%m')\n",
    "fuel['Date'] = pd.to_datetime(fuel['date']).dt.strftime('%Y-%m')\n",
    "sabor['Date'] = pd.to_datetime(sabor['date']).dt.strftime('%Y-%m')"
   ]
  },
  {
   "cell_type": "markdown",
   "metadata": {},
   "source": [
    "Only select dates from 2022"
   ]
  },
  {
   "cell_type": "code",
   "execution_count": 499,
   "metadata": {},
   "outputs": [],
   "source": [
    "# change month to datetime format\n",
    "cpi_new = cpi[cpi['Date'] > '2018']\n",
    "currency_new = currency[currency['Date'] > '2018']\n",
    "jse_new = jse[jse['Date'] > '2018']\n",
    "credit_new= credit[credit['Date'] > '2018']\n",
    "fuel_new= fuel[fuel['Date'] > '2018']\n",
    "sabor_new= sabor[sabor['Date'] > '2018']"
   ]
  },
  {
   "cell_type": "code",
   "execution_count": 500,
   "metadata": {},
   "outputs": [],
   "source": [
    "# Add June CPI\n",
    "june_cpi = pd.DataFrame({'Category': ['Headline_CPI', 'Food and nonalcoholic beverages', 'Alcoholic beverages and tobacco', \n",
    "                                      'Clothing and footwear', 'Housing and utilities', 'Household contents and services',\n",
    "                                      'Health', 'Transport', 'Communication', 'Recreation and culture', 'Education',\n",
    "                                      'Restaurants and hotels ', 'Miscellaneous goods and services'], \n",
    "                         'Value': [109.8, 118.3, 110.9, 104.3, 105.4, 107.7, 110.8, 112.3, 99.6, 105.3, 110.4, 110.0, 109.6]})\n",
    "june_cpi['Date'] = '2023-06'"
   ]
  },
  {
   "cell_type": "code",
   "execution_count": 501,
   "metadata": {},
   "outputs": [],
   "source": [
    "cpi_new = pd.concat([cpi_new, june_cpi])\n",
    "cpi_new['Date'] = pd.to_datetime(cpi_new['Date']).dt.strftime('%Y-%m')"
   ]
  },
  {
   "cell_type": "markdown",
   "metadata": {},
   "source": [
    "In the credit and national excels the commas in values need to be stripped and values turned in to intergers"
   ]
  },
  {
   "cell_type": "code",
   "execution_count": 502,
   "metadata": {},
   "outputs": [],
   "source": [
    "def remove_commas_and_convert_to_float(value):\n",
    "    return float(value.replace(',', ''))"
   ]
  },
  {
   "cell_type": "code",
   "execution_count": 503,
   "metadata": {},
   "outputs": [],
   "source": [
    "credit_new = credit_new.drop(['Share of corporations as a % of total credit',\n",
    "       'Share of corporations as a % of total loans & advances',\n",
    "       'Share of households as a % of total credit',\n",
    "       'Share of households as % of total loans & advances', 'Investments'], axis=1)"
   ]
  },
  {
   "cell_type": "code",
   "execution_count": 504,
   "metadata": {},
   "outputs": [],
   "source": [
    "credit_columns = ['Instalment sale credit', 'Leasing finance',\n",
    "       'Mortgage advances', 'Overdrafts', 'General loans and advances',\n",
    "       'Credit card advances', 'Of which: Total to households',\n",
    "       'Total loans and advances : Households',\n",
    "       'Claims on the domestic private sector',\n",
    "       'Total loans and advances (excl. investments & bills)',\n",
    "       'Bills discounted', 'Instalment sale credit.1', 'Leasing finance.1',\n",
    "       'Mortgage advances.1', 'Overdrafts.1', 'General loans and advances.1',\n",
    "       'Credit card advances.1', 'Of which: Total to corporations',\n",
    "       'Claims on the domestic private sector.1',\n",
    "       'Total loans and advances : Corporations',]"
   ]
  },
  {
   "cell_type": "code",
   "execution_count": 505,
   "metadata": {},
   "outputs": [],
   "source": [
    "credit_new[credit_columns] = credit_new[credit_columns].applymap(remove_commas_and_convert_to_float)\n"
   ]
  },
  {
   "cell_type": "markdown",
   "metadata": {},
   "source": [
    "# Create Features\n",
    "\n",
    "In some of the excel sheets we do not have up to date. We will there use the feature from 2 months ao as the feature for now (ie march is the predictor for July)"
   ]
  },
  {
   "cell_type": "code",
   "execution_count": 506,
   "metadata": {},
   "outputs": [
    {
     "name": "stdout",
     "output_type": "stream",
     "text": [
      "2023-06\n",
      "2023-06\n",
      "2023-06\n",
      "2023-06\n",
      "2023-07\n",
      "2023-06\n"
     ]
    }
   ],
   "source": [
    "print(jse_new['Date'].max())\n",
    "print(credit_new['Date'].max())\n",
    "print(currency_new['Date'].max())\n",
    "print(cpi_new['Date'].max())\n",
    "print(fuel_new['Date'].max())\n",
    "print(sabor_new['Date'].max())"
   ]
  },
  {
   "cell_type": "code",
   "execution_count": 507,
   "metadata": {},
   "outputs": [
    {
     "name": "stderr",
     "output_type": "stream",
     "text": [
      "/var/folders/gx/c35dzbl95sg3t62y03g1j6s40000gn/T/ipykernel_61563/1032560082.py:4: SettingWithCopyWarning: \n",
      "A value is trying to be set on a copy of a slice from a DataFrame.\n",
      "Try using .loc[row_indexer,col_indexer] = value instead\n",
      "\n",
      "See the caveats in the documentation: https://pandas.pydata.org/pandas-docs/stable/user_guide/indexing.html#returning-a-view-versus-a-copy\n",
      "/var/folders/gx/c35dzbl95sg3t62y03g1j6s40000gn/T/ipykernel_61563/1032560082.py:5: SettingWithCopyWarning: \n",
      "A value is trying to be set on a copy of a slice from a DataFrame.\n",
      "Try using .loc[row_indexer,col_indexer] = value instead\n",
      "\n",
      "See the caveats in the documentation: https://pandas.pydata.org/pandas-docs/stable/user_guide/indexing.html#returning-a-view-versus-a-copy\n"
     ]
    }
   ],
   "source": [
    "jse_new['newDate'] = (pd.to_datetime(jse_new['Date']) + pd.DateOffset(months=2)).dt.strftime('%Y-%m')\n",
    "credit_new['newDate'] = (pd.to_datetime(credit_new['Date']) + pd.DateOffset(months=2)).dt.strftime('%Y-%m')\n",
    "currency_new['newDate'] = (pd.to_datetime(currency_new['Date']) + pd.DateOffset(months=2)).dt.strftime('%Y-%m')\n",
    "fuel_new['newDate'] = (pd.to_datetime(fuel_new['Date']) + pd.DateOffset(months=2)).dt.strftime('%Y-%m')\n",
    "sabor_new['newDate'] = (pd.to_datetime(sabor_new['Date']) + pd.DateOffset(months=2)).dt.strftime('%Y-%m')"
   ]
  },
  {
   "cell_type": "code",
   "execution_count": 508,
   "metadata": {},
   "outputs": [
    {
     "name": "stdout",
     "output_type": "stream",
     "text": [
      "2023-08\n",
      "2023-08\n",
      "2023-08\n",
      "2023-09\n",
      "2023-08\n"
     ]
    }
   ],
   "source": [
    "print(jse_new['newDate'].max())\n",
    "print(credit_new['newDate'].max())\n",
    "print(currency_new['newDate'].max())\n",
    "print(fuel_new['newDate'].max())\n",
    "print(sabor_new['newDate'].max())"
   ]
  },
  {
   "cell_type": "code",
   "execution_count": 509,
   "metadata": {},
   "outputs": [],
   "source": [
    "jse_new = jse_new.drop(['Date', 'date'], axis=1)\n",
    "credit_new = credit_new.drop(['Date', 'date'], axis=1)\n",
    "currency_new = currency_new.drop(['Date'], axis=1)\n",
    "fuel_new = fuel_new.drop(['Date', 'date'], axis=1)\n",
    "sabor_new = sabor_new.drop(['Date', 'date'], axis=1)"
   ]
  },
  {
   "cell_type": "markdown",
   "metadata": {},
   "source": [
    "## Get mean per Month for jse and currency"
   ]
  },
  {
   "cell_type": "code",
   "execution_count": 510,
   "metadata": {},
   "outputs": [],
   "source": [
    "credit_mean = credit_new.groupby(['newDate']).mean().reset_index().add_suffix(\"mean\")\n",
    "jse_mean = jse_new.groupby(['newDate']).mean().reset_index().add_suffix(\"mean\")\n",
    "currency_mean = currency_new.groupby(['newDate']).mean().reset_index().add_suffix(\"mean\")\n",
    "fuel_new = fuel_new.groupby(['newDate']).mean().reset_index()\n",
    "sabor_new = sabor_new.groupby(['newDate']).mean().reset_index()\n",
    "\n",
    "jse_std = jse_new.groupby(['newDate']).std().reset_index().add_suffix(\"std\")\n",
    "currency_std = currency_new.groupby(['newDate']).std().reset_index().add_suffix(\"std\")\n",
    "\n",
    "credit_min = credit_new.groupby(['newDate']).min().reset_index().add_suffix(\"min\")\n",
    "jse_min = jse_new.groupby(['newDate']).min().reset_index().add_suffix(\"min\")\n",
    "currency_min = currency_new.groupby(['newDate']).min().reset_index().add_suffix(\"min\")\n",
    "\n",
    "credit_max = credit_new.groupby(['newDate']).max().reset_index().add_suffix(\"max\")\n",
    "jse_max = jse_new.groupby(['newDate']).max().reset_index().add_suffix(\"max\")\n",
    "currency_max = currency_new.groupby(['newDate']).max().reset_index().add_suffix(\"max\")\n"
   ]
  },
  {
   "cell_type": "code",
   "execution_count": 511,
   "metadata": {},
   "outputs": [],
   "source": [
    "credit_new = credit_mean.merge(credit_max, left_on='newDatemean', right_on='newDatemax', how='left').drop(['newDatemax'], axis=1)\n",
    "credit_new = credit_new.merge(credit_min, left_on='newDatemean', right_on='newDatemin', how='left').drop(['newDatemin'], axis=1)\n",
    "credit_new = credit_new.rename(columns={\"newDatemean\": \"newDate\"})"
   ]
  },
  {
   "cell_type": "code",
   "execution_count": 512,
   "metadata": {},
   "outputs": [],
   "source": [
    "jse_new = jse_mean.merge(jse_std, left_on='newDatemean', right_on='newDatestd', how='left').drop(['newDatestd'], axis=1)\n",
    "jse_new = jse_new.merge(jse_max, left_on='newDatemean', right_on='newDatemax', how='left').drop(['newDatemax'], axis=1)\n",
    "jse_new = jse_new.merge(jse_min, left_on='newDatemean', right_on='newDatemin', how='left').drop(['newDatemin'], axis=1)\n",
    "jse_new = jse_new.rename(columns={\"newDatemean\": \"newDate\"})"
   ]
  },
  {
   "cell_type": "code",
   "execution_count": 513,
   "metadata": {},
   "outputs": [],
   "source": [
    "currency_new = currency_mean.merge(currency_std, left_on='newDatemean', right_on='newDatestd', how='left').drop(['newDatestd'], axis=1)\n",
    "currency_new = currency_new.merge(currency_max, left_on='newDatemean', right_on='newDatemax', how='left').drop(['newDatemax'], axis=1)\n",
    "currency_new = currency_new.merge(currency_min, left_on='newDatemean', right_on='newDatemin', how='left').drop(['newDatemin'], axis=1)\n",
    "currency_new = currency_new.rename(columns={\"newDatemean\": \"newDate\"})"
   ]
  },
  {
   "cell_type": "markdown",
   "metadata": {},
   "source": [
    "# Merge data together for features"
   ]
  },
  {
   "cell_type": "code",
   "execution_count": 514,
   "metadata": {},
   "outputs": [],
   "source": [
    "features = jse_new.merge(credit_new, right_on='newDate', left_on='newDate', how='left')\n",
    "features = features.merge(currency_new, right_on='newDate', left_on='newDate', how='left')\n",
    "features = features.merge(fuel_new, right_on='newDate', left_on='newDate', how='left')\n",
    "features = features.merge(sabor_new, right_on='newDate', left_on='newDate', how='left')"
   ]
  },
  {
   "cell_type": "code",
   "execution_count": 515,
   "metadata": {},
   "outputs": [],
   "source": [
    "# X_train = features[features['newDate'] < \"2023-04\"]\n",
    "# X_test =  features[features['newDate'] >= \"2023-04\"]\n",
    "X_test = features\n",
    "X_train = features\n",
    "\n",
    "X_train = X_train.merge(cpi_new[['Date', 'Category', 'Value']], left_on='newDate', right_on='Date')"
   ]
  },
  {
   "cell_type": "markdown",
   "metadata": {},
   "source": [
    "# Model\n",
    "We will model one index at a time to see what works the best"
   ]
  },
  {
   "cell_type": "code",
   "execution_count": 516,
   "metadata": {},
   "outputs": [],
   "source": [
    "from sklearn.linear_model import LinearRegression\n",
    "from sklearn.metrics import mean_squared_error\n",
    "from sklearn.pipeline import Pipeline\n",
    "from sklearn.preprocessing import StandardScaler"
   ]
  },
  {
   "cell_type": "code",
   "execution_count": 517,
   "metadata": {},
   "outputs": [],
   "source": [
    "def combined_model(X_train, X_test, month):\n",
    "\n",
    "    cpi_all = X_train[X_train['newDate'] < month]\n",
    "\n",
    "    cpi_pred = X_test[X_test['newDate'] == month].drop(['newDate'], axis=1)\n",
    "\n",
    "    cpi_cat = ['Headline_CPI',\n",
    "                'Food and non-alcoholic beverages',\n",
    "                'Alcoholic beverages and tobacco',\n",
    "                'Clothing and footwear',\n",
    "                'Housing and utilities',\n",
    "                'Household contents and services',\n",
    "                'Transport',\n",
    "                'Communication',\n",
    "                'Recreation and culture',\n",
    "                'Restaurants and hotels ',\n",
    "                'Miscellaneous goods and services', \n",
    "                'Health', 'Education']\n",
    "\n",
    "    lr_pred = []\n",
    "\n",
    "    # fit hw\n",
    "    for cat in cpi_cat:\n",
    "        df = cpi_all[cpi_all['Category'] == cat]\n",
    "\n",
    "        lr = LinearRegression()\n",
    "\n",
    "        lr.fit(y=df['Value'], X=df.drop(['newDate', 'Value', 'Date', \"Category\"], axis=1))\n",
    "\n",
    "        lr_pred.append(round(lr.predict(cpi_pred)[0],1))\n",
    "\n",
    "    df_lr_results = pd.DataFrame({'cat':cpi_cat, 'pred':lr_pred})\n",
    "\n",
    "    return df_lr_results\n",
    "\n",
    "        "
   ]
  },
  {
   "cell_type": "markdown",
   "metadata": {},
   "source": [
    "## Get April predictions"
   ]
  },
  {
   "cell_type": "code",
   "execution_count": 518,
   "metadata": {},
   "outputs": [],
   "source": [
    "df_results_apr = combined_model(X_train=X_train, X_test=X_test, month='2023-04')"
   ]
  },
  {
   "cell_type": "code",
   "execution_count": 519,
   "metadata": {},
   "outputs": [],
   "source": [
    "cpi_apr = cpi[cpi['Date'] == '2023-04']"
   ]
  },
  {
   "cell_type": "code",
   "execution_count": 520,
   "metadata": {},
   "outputs": [],
   "source": [
    "df_results_apr = df_results_apr.merge(cpi_apr[['Category', 'Value']], left_on='cat', right_on='Category')"
   ]
  },
  {
   "cell_type": "code",
   "execution_count": 521,
   "metadata": {},
   "outputs": [
    {
     "data": {
      "text/html": [
       "<div>\n",
       "<style scoped>\n",
       "    .dataframe tbody tr th:only-of-type {\n",
       "        vertical-align: middle;\n",
       "    }\n",
       "\n",
       "    .dataframe tbody tr th {\n",
       "        vertical-align: top;\n",
       "    }\n",
       "\n",
       "    .dataframe thead th {\n",
       "        text-align: right;\n",
       "    }\n",
       "</style>\n",
       "<table border=\"1\" class=\"dataframe\">\n",
       "  <thead>\n",
       "    <tr style=\"text-align: right;\">\n",
       "      <th></th>\n",
       "      <th>cat</th>\n",
       "      <th>pred</th>\n",
       "      <th>Category</th>\n",
       "      <th>Value</th>\n",
       "    </tr>\n",
       "  </thead>\n",
       "  <tbody>\n",
       "    <tr>\n",
       "      <th>0</th>\n",
       "      <td>Headline_CPI</td>\n",
       "      <td>109.1</td>\n",
       "      <td>Headline_CPI</td>\n",
       "      <td>109.4</td>\n",
       "    </tr>\n",
       "    <tr>\n",
       "      <th>1</th>\n",
       "      <td>Food and non-alcoholic beverages</td>\n",
       "      <td>118.7</td>\n",
       "      <td>Food and non-alcoholic beverages</td>\n",
       "      <td>117.4</td>\n",
       "    </tr>\n",
       "    <tr>\n",
       "      <th>2</th>\n",
       "      <td>Alcoholic beverages and tobacco</td>\n",
       "      <td>108.9</td>\n",
       "      <td>Alcoholic beverages and tobacco</td>\n",
       "      <td>110.2</td>\n",
       "    </tr>\n",
       "    <tr>\n",
       "      <th>3</th>\n",
       "      <td>Clothing and footwear</td>\n",
       "      <td>104.1</td>\n",
       "      <td>Clothing and footwear</td>\n",
       "      <td>103.7</td>\n",
       "    </tr>\n",
       "    <tr>\n",
       "      <th>4</th>\n",
       "      <td>Housing and utilities</td>\n",
       "      <td>103.8</td>\n",
       "      <td>Housing and utilities</td>\n",
       "      <td>104.6</td>\n",
       "    </tr>\n",
       "    <tr>\n",
       "      <th>5</th>\n",
       "      <td>Household contents and services</td>\n",
       "      <td>108.6</td>\n",
       "      <td>Household contents and services</td>\n",
       "      <td>107.7</td>\n",
       "    </tr>\n",
       "    <tr>\n",
       "      <th>6</th>\n",
       "      <td>Transport</td>\n",
       "      <td>111.6</td>\n",
       "      <td>Transport</td>\n",
       "      <td>113.1</td>\n",
       "    </tr>\n",
       "    <tr>\n",
       "      <th>7</th>\n",
       "      <td>Communication</td>\n",
       "      <td>101.0</td>\n",
       "      <td>Communication</td>\n",
       "      <td>99.8</td>\n",
       "    </tr>\n",
       "    <tr>\n",
       "      <th>8</th>\n",
       "      <td>Recreation and culture</td>\n",
       "      <td>103.9</td>\n",
       "      <td>Recreation and culture</td>\n",
       "      <td>104.9</td>\n",
       "    </tr>\n",
       "    <tr>\n",
       "      <th>9</th>\n",
       "      <td>Restaurants and hotels</td>\n",
       "      <td>108.9</td>\n",
       "      <td>Restaurants and hotels</td>\n",
       "      <td>108.6</td>\n",
       "    </tr>\n",
       "    <tr>\n",
       "      <th>10</th>\n",
       "      <td>Miscellaneous goods and services</td>\n",
       "      <td>108.6</td>\n",
       "      <td>Miscellaneous goods and services</td>\n",
       "      <td>109.3</td>\n",
       "    </tr>\n",
       "    <tr>\n",
       "      <th>11</th>\n",
       "      <td>Health</td>\n",
       "      <td>110.2</td>\n",
       "      <td>Health</td>\n",
       "      <td>109.6</td>\n",
       "    </tr>\n",
       "    <tr>\n",
       "      <th>12</th>\n",
       "      <td>Education</td>\n",
       "      <td>109.3</td>\n",
       "      <td>Education</td>\n",
       "      <td>110.4</td>\n",
       "    </tr>\n",
       "  </tbody>\n",
       "</table>\n",
       "</div>"
      ],
      "text/plain": [
       "                                 cat   pred                          Category  \\\n",
       "0                       Headline_CPI  109.1                      Headline_CPI   \n",
       "1   Food and non-alcoholic beverages  118.7  Food and non-alcoholic beverages   \n",
       "2    Alcoholic beverages and tobacco  108.9   Alcoholic beverages and tobacco   \n",
       "3              Clothing and footwear  104.1             Clothing and footwear   \n",
       "4              Housing and utilities  103.8             Housing and utilities   \n",
       "5    Household contents and services  108.6   Household contents and services   \n",
       "6                          Transport  111.6                         Transport   \n",
       "7                      Communication  101.0                     Communication   \n",
       "8             Recreation and culture  103.9            Recreation and culture   \n",
       "9            Restaurants and hotels   108.9           Restaurants and hotels    \n",
       "10  Miscellaneous goods and services  108.6  Miscellaneous goods and services   \n",
       "11                            Health  110.2                            Health   \n",
       "12                         Education  109.3                         Education   \n",
       "\n",
       "    Value  \n",
       "0   109.4  \n",
       "1   117.4  \n",
       "2   110.2  \n",
       "3   103.7  \n",
       "4   104.6  \n",
       "5   107.7  \n",
       "6   113.1  \n",
       "7    99.8  \n",
       "8   104.9  \n",
       "9   108.6  \n",
       "10  109.3  \n",
       "11  109.6  \n",
       "12  110.4  "
      ]
     },
     "execution_count": 521,
     "metadata": {},
     "output_type": "execute_result"
    }
   ],
   "source": [
    "df_results_apr"
   ]
  },
  {
   "cell_type": "code",
   "execution_count": 522,
   "metadata": {},
   "outputs": [
    {
     "name": "stdout",
     "output_type": "stream",
     "text": [
      "Apr RMSE:  0.9575610042827964\n"
     ]
    }
   ],
   "source": [
    "rmse_apr = mean_squared_error(df_results_apr['pred'], df_results_apr['Value'], squared=False)\n",
    "print('Apr RMSE: ', rmse_apr)"
   ]
  },
  {
   "cell_type": "code",
   "execution_count": 523,
   "metadata": {},
   "outputs": [],
   "source": [
    "df_results_apr = df_results_apr[['cat', 'pred']]\n",
    "df_results_apr.columns = ['ID', 'Value']\n",
    "\n",
    "month = \"April\"\n",
    "\n",
    "pred_map = {'Headline_CPI': f'{month}_headline CPI',\n",
    "'Alcoholic beverages and tobacco': f'{month}_alcoholic beverages and tobacco',\n",
    "'Clothing and footwear': f'{month}_clothing and footwear',\n",
    "'Communication': f'{month}_communication',\n",
    "'Education': f'{month}_education',\n",
    "'Food and non-alcoholic beverages': f'{month}_food and non-alcoholic beverages',\n",
    "'Health': f'{month}_health',\n",
    "'Household contents and services': f'{month}_household contents and services',\n",
    "'Housing and utilities': f'{month}_housing and utilities',\n",
    "'Miscellaneous goods and services': f'{month}_miscellaneous goods and services',\n",
    "'Recreation and culture': f'{month}_recreation and culture',\n",
    "'Restaurants and hotels ': f'{month}_restaurants and hotels',\n",
    "'Transport': f'{month}_transport'}\n",
    "\n",
    "df_results_apr = df_results_apr.replace(pred_map)\n",
    "\n",
    "df_results_apr.to_csv(path + '/submissions/apr_testing_lr.csv', index=False)"
   ]
  },
  {
   "cell_type": "markdown",
   "metadata": {},
   "source": [
    "## Get May predictions"
   ]
  },
  {
   "cell_type": "code",
   "execution_count": 524,
   "metadata": {},
   "outputs": [],
   "source": [
    "df_results_may = combined_model(X_train=X_train, X_test=X_test, month='2023-05')"
   ]
  },
  {
   "cell_type": "code",
   "execution_count": 525,
   "metadata": {},
   "outputs": [],
   "source": [
    "cpi_may = cpi[cpi['Date'] == '2023-05']"
   ]
  },
  {
   "cell_type": "code",
   "execution_count": 526,
   "metadata": {},
   "outputs": [],
   "source": [
    "df_results_may = df_results_may.merge(cpi_may[['Category', 'Value']], left_on='cat', right_on='Category')"
   ]
  },
  {
   "cell_type": "code",
   "execution_count": 527,
   "metadata": {},
   "outputs": [
    {
     "data": {
      "text/html": [
       "<div>\n",
       "<style scoped>\n",
       "    .dataframe tbody tr th:only-of-type {\n",
       "        vertical-align: middle;\n",
       "    }\n",
       "\n",
       "    .dataframe tbody tr th {\n",
       "        vertical-align: top;\n",
       "    }\n",
       "\n",
       "    .dataframe thead th {\n",
       "        text-align: right;\n",
       "    }\n",
       "</style>\n",
       "<table border=\"1\" class=\"dataframe\">\n",
       "  <thead>\n",
       "    <tr style=\"text-align: right;\">\n",
       "      <th></th>\n",
       "      <th>cat</th>\n",
       "      <th>pred</th>\n",
       "      <th>Category</th>\n",
       "      <th>Value</th>\n",
       "    </tr>\n",
       "  </thead>\n",
       "  <tbody>\n",
       "    <tr>\n",
       "      <th>0</th>\n",
       "      <td>Headline_CPI</td>\n",
       "      <td>110.2</td>\n",
       "      <td>Headline_CPI</td>\n",
       "      <td>109.6</td>\n",
       "    </tr>\n",
       "    <tr>\n",
       "      <th>1</th>\n",
       "      <td>Food and non-alcoholic beverages</td>\n",
       "      <td>119.8</td>\n",
       "      <td>Food and non-alcoholic beverages</td>\n",
       "      <td>117.7</td>\n",
       "    </tr>\n",
       "    <tr>\n",
       "      <th>2</th>\n",
       "      <td>Alcoholic beverages and tobacco</td>\n",
       "      <td>110.5</td>\n",
       "      <td>Alcoholic beverages and tobacco</td>\n",
       "      <td>110.6</td>\n",
       "    </tr>\n",
       "    <tr>\n",
       "      <th>3</th>\n",
       "      <td>Clothing and footwear</td>\n",
       "      <td>104.1</td>\n",
       "      <td>Clothing and footwear</td>\n",
       "      <td>104.1</td>\n",
       "    </tr>\n",
       "    <tr>\n",
       "      <th>4</th>\n",
       "      <td>Housing and utilities</td>\n",
       "      <td>105.0</td>\n",
       "      <td>Housing and utilities</td>\n",
       "      <td>104.6</td>\n",
       "    </tr>\n",
       "    <tr>\n",
       "      <th>5</th>\n",
       "      <td>Household contents and services</td>\n",
       "      <td>109.1</td>\n",
       "      <td>Household contents and services</td>\n",
       "      <td>107.5</td>\n",
       "    </tr>\n",
       "    <tr>\n",
       "      <th>6</th>\n",
       "      <td>Transport</td>\n",
       "      <td>113.9</td>\n",
       "      <td>Transport</td>\n",
       "      <td>113.3</td>\n",
       "    </tr>\n",
       "    <tr>\n",
       "      <th>7</th>\n",
       "      <td>Communication</td>\n",
       "      <td>100.0</td>\n",
       "      <td>Communication</td>\n",
       "      <td>99.7</td>\n",
       "    </tr>\n",
       "    <tr>\n",
       "      <th>8</th>\n",
       "      <td>Recreation and culture</td>\n",
       "      <td>104.6</td>\n",
       "      <td>Recreation and culture</td>\n",
       "      <td>104.8</td>\n",
       "    </tr>\n",
       "    <tr>\n",
       "      <th>9</th>\n",
       "      <td>Restaurants and hotels</td>\n",
       "      <td>111.7</td>\n",
       "      <td>Restaurants and hotels</td>\n",
       "      <td>110.4</td>\n",
       "    </tr>\n",
       "    <tr>\n",
       "      <th>10</th>\n",
       "      <td>Miscellaneous goods and services</td>\n",
       "      <td>109.0</td>\n",
       "      <td>Miscellaneous goods and services</td>\n",
       "      <td>109.4</td>\n",
       "    </tr>\n",
       "    <tr>\n",
       "      <th>11</th>\n",
       "      <td>Health</td>\n",
       "      <td>111.1</td>\n",
       "      <td>Health</td>\n",
       "      <td>110.3</td>\n",
       "    </tr>\n",
       "    <tr>\n",
       "      <th>12</th>\n",
       "      <td>Education</td>\n",
       "      <td>109.9</td>\n",
       "      <td>Education</td>\n",
       "      <td>110.4</td>\n",
       "    </tr>\n",
       "  </tbody>\n",
       "</table>\n",
       "</div>"
      ],
      "text/plain": [
       "                                 cat   pred                          Category  \\\n",
       "0                       Headline_CPI  110.2                      Headline_CPI   \n",
       "1   Food and non-alcoholic beverages  119.8  Food and non-alcoholic beverages   \n",
       "2    Alcoholic beverages and tobacco  110.5   Alcoholic beverages and tobacco   \n",
       "3              Clothing and footwear  104.1             Clothing and footwear   \n",
       "4              Housing and utilities  105.0             Housing and utilities   \n",
       "5    Household contents and services  109.1   Household contents and services   \n",
       "6                          Transport  113.9                         Transport   \n",
       "7                      Communication  100.0                     Communication   \n",
       "8             Recreation and culture  104.6            Recreation and culture   \n",
       "9            Restaurants and hotels   111.7           Restaurants and hotels    \n",
       "10  Miscellaneous goods and services  109.0  Miscellaneous goods and services   \n",
       "11                            Health  111.1                            Health   \n",
       "12                         Education  109.9                         Education   \n",
       "\n",
       "    Value  \n",
       "0   109.6  \n",
       "1   117.7  \n",
       "2   110.6  \n",
       "3   104.1  \n",
       "4   104.6  \n",
       "5   107.5  \n",
       "6   113.3  \n",
       "7    99.7  \n",
       "8   104.8  \n",
       "9   110.4  \n",
       "10  109.4  \n",
       "11  110.3  \n",
       "12  110.4  "
      ]
     },
     "execution_count": 527,
     "metadata": {},
     "output_type": "execute_result"
    }
   ],
   "source": [
    "df_results_may"
   ]
  },
  {
   "cell_type": "code",
   "execution_count": 528,
   "metadata": {},
   "outputs": [
    {
     "name": "stdout",
     "output_type": "stream",
     "text": [
      "May RMSE:  0.9085068053595489\n"
     ]
    }
   ],
   "source": [
    "rmse_may = mean_squared_error(df_results_may['pred'], df_results_may['Value'], squared=False)\n",
    "print('May RMSE: ', rmse_may)"
   ]
  },
  {
   "cell_type": "code",
   "execution_count": 529,
   "metadata": {},
   "outputs": [],
   "source": [
    "df_results_may = df_results_may[['cat', 'pred']]\n",
    "df_results_may.columns = ['ID', 'Value']\n",
    "\n",
    "month = \"May\"\n",
    "\n",
    "pred_map = {'Headline_CPI': f'{month}_headline CPI',\n",
    "'Alcoholic beverages and tobacco': f'{month}_alcoholic beverages and tobacco',\n",
    "'Clothing and footwear': f'{month}_clothing and footwear',\n",
    "'Communication': f'{month}_communication',\n",
    "'Education': f'{month}_education',\n",
    "'Food and non-alcoholic beverages': f'{month}_food and non-alcoholic beverages',\n",
    "'Health': f'{month}_health',\n",
    "'Household contents and services': f'{month}_household contents and services',\n",
    "'Housing and utilities': f'{month}_housing and utilities',\n",
    "'Miscellaneous goods and services': f'{month}_miscellaneous goods and services',\n",
    "'Recreation and culture': f'{month}_recreation and culture',\n",
    "'Restaurants and hotels ': f'{month}_restaurants and hotels',\n",
    "'Transport': f'{month}_transport'}\n",
    "\n",
    "df_results_may = df_results_may.replace(pred_map)\n",
    "\n",
    "df_results_may.to_csv(path + '/submissions/may_testing_lr.csv', index=False)"
   ]
  },
  {
   "cell_type": "markdown",
   "metadata": {},
   "source": [
    "## Get June predictions"
   ]
  },
  {
   "cell_type": "code",
   "execution_count": 530,
   "metadata": {},
   "outputs": [],
   "source": [
    "df_results_june = combined_model(X_train=X_train, X_test=X_test, month='2023-06')"
   ]
  },
  {
   "cell_type": "code",
   "execution_count": 531,
   "metadata": {},
   "outputs": [],
   "source": [
    "june_values = [109.8, 110.9, 104.3, 99.6, 110.4, 118.3, 110.8, 107.7, 105.4, 109.6, 105.3, 110.0, 112.3 ]"
   ]
  },
  {
   "cell_type": "code",
   "execution_count": 532,
   "metadata": {},
   "outputs": [],
   "source": [
    "cat = ['Headline_CPI',\n",
    "'Alcoholic beverages and tobacco',\n",
    "'Clothing and footwear',\n",
    "'Communication',\n",
    "'Education',\n",
    "'Food and non-alcoholic beverages',\n",
    "'Health',\n",
    "'Household contents and services',\n",
    "'Housing and utilities',\n",
    "'Miscellaneous goods and services',\n",
    "'Recreation and culture',\n",
    "'Restaurants and hotels ',\n",
    "'Transport']"
   ]
  },
  {
   "cell_type": "code",
   "execution_count": 533,
   "metadata": {},
   "outputs": [],
   "source": [
    "june_cpi = pd.DataFrame({'Category':cat, 'Value':june_values})"
   ]
  },
  {
   "cell_type": "code",
   "execution_count": 534,
   "metadata": {},
   "outputs": [],
   "source": [
    "df_results_june = df_results_june.merge(june_cpi[['Category', 'Value']], left_on='cat', right_on='Category')"
   ]
  },
  {
   "cell_type": "code",
   "execution_count": 535,
   "metadata": {},
   "outputs": [
    {
     "data": {
      "text/html": [
       "<div>\n",
       "<style scoped>\n",
       "    .dataframe tbody tr th:only-of-type {\n",
       "        vertical-align: middle;\n",
       "    }\n",
       "\n",
       "    .dataframe tbody tr th {\n",
       "        vertical-align: top;\n",
       "    }\n",
       "\n",
       "    .dataframe thead th {\n",
       "        text-align: right;\n",
       "    }\n",
       "</style>\n",
       "<table border=\"1\" class=\"dataframe\">\n",
       "  <thead>\n",
       "    <tr style=\"text-align: right;\">\n",
       "      <th></th>\n",
       "      <th>cat</th>\n",
       "      <th>pred</th>\n",
       "      <th>Category</th>\n",
       "      <th>Value</th>\n",
       "    </tr>\n",
       "  </thead>\n",
       "  <tbody>\n",
       "    <tr>\n",
       "      <th>0</th>\n",
       "      <td>Headline_CPI</td>\n",
       "      <td>109.0</td>\n",
       "      <td>Headline_CPI</td>\n",
       "      <td>109.8</td>\n",
       "    </tr>\n",
       "    <tr>\n",
       "      <th>1</th>\n",
       "      <td>Food and non-alcoholic beverages</td>\n",
       "      <td>116.7</td>\n",
       "      <td>Food and non-alcoholic beverages</td>\n",
       "      <td>118.3</td>\n",
       "    </tr>\n",
       "    <tr>\n",
       "      <th>2</th>\n",
       "      <td>Alcoholic beverages and tobacco</td>\n",
       "      <td>112.9</td>\n",
       "      <td>Alcoholic beverages and tobacco</td>\n",
       "      <td>110.9</td>\n",
       "    </tr>\n",
       "    <tr>\n",
       "      <th>3</th>\n",
       "      <td>Clothing and footwear</td>\n",
       "      <td>104.0</td>\n",
       "      <td>Clothing and footwear</td>\n",
       "      <td>104.3</td>\n",
       "    </tr>\n",
       "    <tr>\n",
       "      <th>4</th>\n",
       "      <td>Housing and utilities</td>\n",
       "      <td>103.9</td>\n",
       "      <td>Housing and utilities</td>\n",
       "      <td>105.4</td>\n",
       "    </tr>\n",
       "    <tr>\n",
       "      <th>5</th>\n",
       "      <td>Household contents and services</td>\n",
       "      <td>107.6</td>\n",
       "      <td>Household contents and services</td>\n",
       "      <td>107.7</td>\n",
       "    </tr>\n",
       "    <tr>\n",
       "      <th>6</th>\n",
       "      <td>Transport</td>\n",
       "      <td>109.8</td>\n",
       "      <td>Transport</td>\n",
       "      <td>112.3</td>\n",
       "    </tr>\n",
       "    <tr>\n",
       "      <th>7</th>\n",
       "      <td>Communication</td>\n",
       "      <td>99.2</td>\n",
       "      <td>Communication</td>\n",
       "      <td>99.6</td>\n",
       "    </tr>\n",
       "    <tr>\n",
       "      <th>8</th>\n",
       "      <td>Recreation and culture</td>\n",
       "      <td>104.7</td>\n",
       "      <td>Recreation and culture</td>\n",
       "      <td>105.3</td>\n",
       "    </tr>\n",
       "    <tr>\n",
       "      <th>9</th>\n",
       "      <td>Restaurants and hotels</td>\n",
       "      <td>111.3</td>\n",
       "      <td>Restaurants and hotels</td>\n",
       "      <td>110.0</td>\n",
       "    </tr>\n",
       "    <tr>\n",
       "      <th>10</th>\n",
       "      <td>Miscellaneous goods and services</td>\n",
       "      <td>110.2</td>\n",
       "      <td>Miscellaneous goods and services</td>\n",
       "      <td>109.6</td>\n",
       "    </tr>\n",
       "    <tr>\n",
       "      <th>11</th>\n",
       "      <td>Health</td>\n",
       "      <td>112.8</td>\n",
       "      <td>Health</td>\n",
       "      <td>110.8</td>\n",
       "    </tr>\n",
       "    <tr>\n",
       "      <th>12</th>\n",
       "      <td>Education</td>\n",
       "      <td>113.4</td>\n",
       "      <td>Education</td>\n",
       "      <td>110.4</td>\n",
       "    </tr>\n",
       "  </tbody>\n",
       "</table>\n",
       "</div>"
      ],
      "text/plain": [
       "                                 cat   pred                          Category  \\\n",
       "0                       Headline_CPI  109.0                      Headline_CPI   \n",
       "1   Food and non-alcoholic beverages  116.7  Food and non-alcoholic beverages   \n",
       "2    Alcoholic beverages and tobacco  112.9   Alcoholic beverages and tobacco   \n",
       "3              Clothing and footwear  104.0             Clothing and footwear   \n",
       "4              Housing and utilities  103.9             Housing and utilities   \n",
       "5    Household contents and services  107.6   Household contents and services   \n",
       "6                          Transport  109.8                         Transport   \n",
       "7                      Communication   99.2                     Communication   \n",
       "8             Recreation and culture  104.7            Recreation and culture   \n",
       "9            Restaurants and hotels   111.3           Restaurants and hotels    \n",
       "10  Miscellaneous goods and services  110.2  Miscellaneous goods and services   \n",
       "11                            Health  112.8                            Health   \n",
       "12                         Education  113.4                         Education   \n",
       "\n",
       "    Value  \n",
       "0   109.8  \n",
       "1   118.3  \n",
       "2   110.9  \n",
       "3   104.3  \n",
       "4   105.4  \n",
       "5   107.7  \n",
       "6   112.3  \n",
       "7    99.6  \n",
       "8   105.3  \n",
       "9   110.0  \n",
       "10  109.6  \n",
       "11  110.8  \n",
       "12  110.4  "
      ]
     },
     "execution_count": 535,
     "metadata": {},
     "output_type": "execute_result"
    }
   ],
   "source": [
    "df_results_june"
   ]
  },
  {
   "cell_type": "code",
   "execution_count": 536,
   "metadata": {},
   "outputs": [
    {
     "name": "stdout",
     "output_type": "stream",
     "text": [
      "June RMSE:  1.5534081637087274\n"
     ]
    }
   ],
   "source": [
    "rmse_June = mean_squared_error(df_results_june['pred'], df_results_june['Value'], squared=False)\n",
    "print('June RMSE: ', rmse_June)"
   ]
  },
  {
   "cell_type": "code",
   "execution_count": 537,
   "metadata": {},
   "outputs": [
    {
     "data": {
      "text/html": [
       "<div>\n",
       "<style scoped>\n",
       "    .dataframe tbody tr th:only-of-type {\n",
       "        vertical-align: middle;\n",
       "    }\n",
       "\n",
       "    .dataframe tbody tr th {\n",
       "        vertical-align: top;\n",
       "    }\n",
       "\n",
       "    .dataframe thead th {\n",
       "        text-align: right;\n",
       "    }\n",
       "</style>\n",
       "<table border=\"1\" class=\"dataframe\">\n",
       "  <thead>\n",
       "    <tr style=\"text-align: right;\">\n",
       "      <th></th>\n",
       "      <th>cat</th>\n",
       "      <th>pred</th>\n",
       "      <th>Category</th>\n",
       "      <th>Value</th>\n",
       "    </tr>\n",
       "  </thead>\n",
       "  <tbody>\n",
       "    <tr>\n",
       "      <th>0</th>\n",
       "      <td>Headline_CPI</td>\n",
       "      <td>109.0</td>\n",
       "      <td>Headline_CPI</td>\n",
       "      <td>109.8</td>\n",
       "    </tr>\n",
       "    <tr>\n",
       "      <th>1</th>\n",
       "      <td>Food and non-alcoholic beverages</td>\n",
       "      <td>116.7</td>\n",
       "      <td>Food and non-alcoholic beverages</td>\n",
       "      <td>118.3</td>\n",
       "    </tr>\n",
       "    <tr>\n",
       "      <th>2</th>\n",
       "      <td>Alcoholic beverages and tobacco</td>\n",
       "      <td>112.9</td>\n",
       "      <td>Alcoholic beverages and tobacco</td>\n",
       "      <td>110.9</td>\n",
       "    </tr>\n",
       "    <tr>\n",
       "      <th>3</th>\n",
       "      <td>Clothing and footwear</td>\n",
       "      <td>104.0</td>\n",
       "      <td>Clothing and footwear</td>\n",
       "      <td>104.3</td>\n",
       "    </tr>\n",
       "    <tr>\n",
       "      <th>4</th>\n",
       "      <td>Housing and utilities</td>\n",
       "      <td>103.9</td>\n",
       "      <td>Housing and utilities</td>\n",
       "      <td>105.4</td>\n",
       "    </tr>\n",
       "    <tr>\n",
       "      <th>5</th>\n",
       "      <td>Household contents and services</td>\n",
       "      <td>107.6</td>\n",
       "      <td>Household contents and services</td>\n",
       "      <td>107.7</td>\n",
       "    </tr>\n",
       "    <tr>\n",
       "      <th>6</th>\n",
       "      <td>Transport</td>\n",
       "      <td>109.8</td>\n",
       "      <td>Transport</td>\n",
       "      <td>112.3</td>\n",
       "    </tr>\n",
       "    <tr>\n",
       "      <th>7</th>\n",
       "      <td>Communication</td>\n",
       "      <td>99.2</td>\n",
       "      <td>Communication</td>\n",
       "      <td>99.6</td>\n",
       "    </tr>\n",
       "    <tr>\n",
       "      <th>8</th>\n",
       "      <td>Recreation and culture</td>\n",
       "      <td>104.7</td>\n",
       "      <td>Recreation and culture</td>\n",
       "      <td>105.3</td>\n",
       "    </tr>\n",
       "    <tr>\n",
       "      <th>9</th>\n",
       "      <td>Restaurants and hotels</td>\n",
       "      <td>111.3</td>\n",
       "      <td>Restaurants and hotels</td>\n",
       "      <td>110.0</td>\n",
       "    </tr>\n",
       "    <tr>\n",
       "      <th>10</th>\n",
       "      <td>Miscellaneous goods and services</td>\n",
       "      <td>110.2</td>\n",
       "      <td>Miscellaneous goods and services</td>\n",
       "      <td>109.6</td>\n",
       "    </tr>\n",
       "    <tr>\n",
       "      <th>11</th>\n",
       "      <td>Health</td>\n",
       "      <td>112.8</td>\n",
       "      <td>Health</td>\n",
       "      <td>110.8</td>\n",
       "    </tr>\n",
       "    <tr>\n",
       "      <th>12</th>\n",
       "      <td>Education</td>\n",
       "      <td>113.4</td>\n",
       "      <td>Education</td>\n",
       "      <td>110.4</td>\n",
       "    </tr>\n",
       "  </tbody>\n",
       "</table>\n",
       "</div>"
      ],
      "text/plain": [
       "                                 cat   pred                          Category  \\\n",
       "0                       Headline_CPI  109.0                      Headline_CPI   \n",
       "1   Food and non-alcoholic beverages  116.7  Food and non-alcoholic beverages   \n",
       "2    Alcoholic beverages and tobacco  112.9   Alcoholic beverages and tobacco   \n",
       "3              Clothing and footwear  104.0             Clothing and footwear   \n",
       "4              Housing and utilities  103.9             Housing and utilities   \n",
       "5    Household contents and services  107.6   Household contents and services   \n",
       "6                          Transport  109.8                         Transport   \n",
       "7                      Communication   99.2                     Communication   \n",
       "8             Recreation and culture  104.7            Recreation and culture   \n",
       "9            Restaurants and hotels   111.3           Restaurants and hotels    \n",
       "10  Miscellaneous goods and services  110.2  Miscellaneous goods and services   \n",
       "11                            Health  112.8                            Health   \n",
       "12                         Education  113.4                         Education   \n",
       "\n",
       "    Value  \n",
       "0   109.8  \n",
       "1   118.3  \n",
       "2   110.9  \n",
       "3   104.3  \n",
       "4   105.4  \n",
       "5   107.7  \n",
       "6   112.3  \n",
       "7    99.6  \n",
       "8   105.3  \n",
       "9   110.0  \n",
       "10  109.6  \n",
       "11  110.8  \n",
       "12  110.4  "
      ]
     },
     "execution_count": 537,
     "metadata": {},
     "output_type": "execute_result"
    }
   ],
   "source": [
    "df_results_june"
   ]
  },
  {
   "cell_type": "code",
   "execution_count": 538,
   "metadata": {},
   "outputs": [],
   "source": [
    "df_results_june = df_results_june[['cat', 'pred']]\n",
    "df_results_june.columns = ['ID', 'Value']\n",
    "\n",
    "month = \"June\"\n",
    "\n",
    "pred_map = {'Headline_CPI': f'{month}_headline CPI',\n",
    "'Alcoholic beverages and tobacco': f'{month}_alcoholic beverages and tobacco',\n",
    "'Clothing and footwear': f'{month}_clothing and footwear',\n",
    "'Communication': f'{month}_communication',\n",
    "'Education': f'{month}_education',\n",
    "'Food and non-alcoholic beverages': f'{month}_food and non-alcoholic beverages',\n",
    "'Health': f'{month}_health',\n",
    "'Household contents and services': f'{month}_household contents and services',\n",
    "'Housing and utilities': f'{month}_housing and utilities',\n",
    "'Miscellaneous goods and services': f'{month}_miscellaneous goods and services',\n",
    "'Recreation and culture': f'{month}_recreation and culture',\n",
    "'Restaurants and hotels ': f'{month}_restaurants and hotels',\n",
    "'Transport': f'{month}_transport'}\n",
    "\n",
    "df_results_june = df_results_june.replace(pred_map)\n",
    "\n",
    "df_results_june.to_csv(path + '/submissions/june_testing_lr.csv', index=False)"
   ]
  },
  {
   "cell_type": "markdown",
   "metadata": {},
   "source": [
    "# Get predictions for July"
   ]
  },
  {
   "cell_type": "code",
   "execution_count": 539,
   "metadata": {},
   "outputs": [],
   "source": [
    "df_results_july = combined_model(X_train=X_train, X_test=X_test, month='2023-07')"
   ]
  },
  {
   "cell_type": "code",
   "execution_count": 540,
   "metadata": {},
   "outputs": [],
   "source": [
    "df_results_july.columns = ['ID', 'Value']"
   ]
  },
  {
   "cell_type": "code",
   "execution_count": 541,
   "metadata": {},
   "outputs": [],
   "source": [
    "month = 'July'"
   ]
  },
  {
   "cell_type": "code",
   "execution_count": 542,
   "metadata": {},
   "outputs": [],
   "source": [
    "pred_map = {'Headline_CPI': f'{month}_headline CPI',\n",
    "'Alcoholic beverages and tobacco': f'{month}_alcoholic beverages and tobacco',\n",
    "'Clothing and footwear': f'{month}_clothing and footwear',\n",
    "'Communication': f'{month}_communication',\n",
    "'Education': f'{month}_education',\n",
    "'Food and non-alcoholic beverages': f'{month}_food and non-alcoholic beverages',\n",
    "'Health': f'{month}_health',\n",
    "'Household contents and services': f'{month}_household contents and services',\n",
    "'Housing and utilities': f'{month}_housing and utilities',\n",
    "'Miscellaneous goods and services': f'{month}_miscellaneous goods and services',\n",
    "'Recreation and culture': f'{month}_recreation and culture',\n",
    "'Restaurants and hotels ': f'{month}_restaurants and hotels',\n",
    "'Transport': f'{month}_transport'}"
   ]
  },
  {
   "cell_type": "code",
   "execution_count": 543,
   "metadata": {},
   "outputs": [],
   "source": [
    "df_results_july = df_results_july.replace(pred_map)"
   ]
  },
  {
   "cell_type": "code",
   "execution_count": 544,
   "metadata": {},
   "outputs": [],
   "source": [
    "df_results_july.to_csv(path + '/submissions/lr_testing_july.csv', index=False)"
   ]
  },
  {
   "cell_type": "markdown",
   "metadata": {},
   "source": [
    "## Get predictions for August"
   ]
  },
  {
   "cell_type": "code",
   "execution_count": 545,
   "metadata": {},
   "outputs": [],
   "source": [
    "df_results_august = combined_model(X_train=X_train, X_test=X_test, month='2023-08')"
   ]
  },
  {
   "cell_type": "code",
   "execution_count": 546,
   "metadata": {},
   "outputs": [],
   "source": [
    "df_results_august.columns = ['ID', 'Value']"
   ]
  },
  {
   "cell_type": "code",
   "execution_count": 547,
   "metadata": {},
   "outputs": [],
   "source": [
    "month = 'August'"
   ]
  },
  {
   "cell_type": "code",
   "execution_count": 548,
   "metadata": {},
   "outputs": [],
   "source": [
    "pred_map = {'Headline_CPI': f'{month}_headline CPI',\n",
    "'Alcoholic beverages and tobacco': f'{month}_alcoholic beverages and tobacco',\n",
    "'Clothing and footwear': f'{month}_clothing and footwear',\n",
    "'Communication': f'{month}_communication',\n",
    "'Education': f'{month}_education',\n",
    "'Food and non-alcoholic beverages': f'{month}_food and non-alcoholic beverages',\n",
    "'Health': f'{month}_health',\n",
    "'Household contents and services': f'{month}_household contents and services',\n",
    "'Housing and utilities': f'{month}_housing and utilities',\n",
    "'Miscellaneous goods and services': f'{month}_miscellaneous goods and services',\n",
    "'Recreation and culture': f'{month}_recreation and culture',\n",
    "'Restaurants and hotels ': f'{month}_restaurants and hotels',\n",
    "'Transport': f'{month}_transport'}"
   ]
  },
  {
   "cell_type": "code",
   "execution_count": 549,
   "metadata": {},
   "outputs": [],
   "source": [
    "df_results_august = df_results_august.replace(pred_map)"
   ]
  },
  {
   "cell_type": "code",
   "execution_count": 550,
   "metadata": {},
   "outputs": [],
   "source": [
    "df_results_august.to_csv(path + '/submissions/lr_testing_august.csv', index=False)"
   ]
  },
  {
   "cell_type": "code",
   "execution_count": null,
   "metadata": {},
   "outputs": [],
   "source": []
  },
  {
   "cell_type": "markdown",
   "metadata": {},
   "source": []
  }
 ],
 "metadata": {
  "kernelspec": {
   "display_name": "Python 3.9.16 ('zindi_rmb')",
   "language": "python",
   "name": "python3"
  },
  "language_info": {
   "codemirror_mode": {
    "name": "ipython",
    "version": 3
   },
   "file_extension": ".py",
   "mimetype": "text/x-python",
   "name": "python",
   "nbconvert_exporter": "python",
   "pygments_lexer": "ipython3",
   "version": "3.9.16"
  },
  "orig_nbformat": 4,
  "vscode": {
   "interpreter": {
    "hash": "c64d72df593dea6c761f2df73983bedc3ab4ce00cdb01364b040ea0205292cb4"
   }
  }
 },
 "nbformat": 4,
 "nbformat_minor": 2
}
