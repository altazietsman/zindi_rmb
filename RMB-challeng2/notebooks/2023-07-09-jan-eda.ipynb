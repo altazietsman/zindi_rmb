{
 "cells": [
  {
   "cell_type": "code",
   "execution_count": 86,
   "metadata": {},
   "outputs": [],
   "source": [
    "import pandas as pd\n",
    "from sklearn.metrics import mean_squared_error\n",
    "from tqdm import tqdm\n",
    "from sklearn.model_selection import TimeSeriesSplit\n",
    "from pandas.tseries.offsets import DateOffset\n",
    "import json\n",
    "from datetime import datetime\n",
    "import copy\n",
    "import warnings\n",
    "import wandb\n",
    "import os\n",
    "warnings.filterwarnings('ignore')\n",
    "os.environ[\"WANDB_SILENT\"] = \"true\""
   ]
  },
  {
   "cell_type": "code",
   "execution_count": 87,
   "metadata": {},
   "outputs": [
    {
     "name": "stdout",
     "output_type": "stream",
     "text": [
      "The autoreload extension is already loaded. To reload it, use:\n",
      "  %reload_ext autoreload\n"
     ]
    }
   ],
   "source": [
    "%load_ext autoreload\n",
    "%autoreload 2\n",
    "from models.models import HoltWintersWrapper, ProphetWrapper\n"
   ]
  },
  {
   "cell_type": "code",
   "execution_count": 88,
   "metadata": {},
   "outputs": [],
   "source": [
    "cpi = pd.read_csv('cpi.csv')\n",
    "fuel = json.load(open('fuel.json'))\n",
    "sabor_df = pd.read_csv('sabor.csv')\n",
    "currency = pd.read_csv('currency_data.csv')\n",
    "credit = pd.read_excel('credit.xlsx', header=1)\n",
    "jse = pd.read_csv('jse_indices.csv')"
   ]
  },
  {
   "cell_type": "code",
   "execution_count": 89,
   "metadata": {},
   "outputs": [],
   "source": [
    "cpi_columns = list(cpi.columns[2:-1])"
   ]
  },
  {
   "cell_type": "code",
   "execution_count": 90,
   "metadata": {},
   "outputs": [],
   "source": [
    "#cpi_columns = [\"Transport\"]"
   ]
  },
  {
   "cell_type": "code",
   "execution_count": 91,
   "metadata": {},
   "outputs": [],
   "source": [
    "fuel_table = {}\n",
    "for entry in fuel['LRP 95 Coast']:\n",
    "    fuel_table[list(entry.keys())[0]] = list(entry.values())[0]"
   ]
  },
  {
   "cell_type": "code",
   "execution_count": 92,
   "metadata": {},
   "outputs": [],
   "source": [
    "fuel_df = pd.DataFrame(fuel_table.items(), columns=['date', 'fuel_price'])"
   ]
  },
  {
   "cell_type": "code",
   "execution_count": 93,
   "metadata": {},
   "outputs": [],
   "source": [
    "fuel_df.to_csv('fuel_df.csv')"
   ]
  },
  {
   "cell_type": "code",
   "execution_count": 94,
   "metadata": {},
   "outputs": [],
   "source": [
    "fuel_df['date'] = fuel_df['date'].map(lambda x: datetime.strptime(x, '%Y-%m-%d').strftime('%Y-%m'))\n",
    "\n",
    "currency['Date'] = currency['Date'].map(lambda x: datetime.strptime(x, '%Y-%m-%d').strftime('%Y-%m'))\n",
    "\n",
    "currency = currency.groupby('Date').mean().reset_index()"
   ]
  },
  {
   "cell_type": "code",
   "execution_count": 95,
   "metadata": {},
   "outputs": [],
   "source": [
    "fuel_offeset_df = fuel_df.copy()\n",
    "fuel_offeset_2_df = fuel_df.copy()\n",
    "fuel_offeset_3_df = fuel_df.copy()"
   ]
  },
  {
   "cell_type": "code",
   "execution_count": 96,
   "metadata": {},
   "outputs": [],
   "source": [
    "fuel_offeset_df['date'] = pd.to_datetime(fuel_offeset_df['date']) + pd.DateOffset(months=1)\n",
    "fuel_offeset_df['date'] = fuel_offeset_df['date'].map(lambda x: x.strftime('%Y-%m'))\n",
    "fuel_offeset_df.dropna(inplace=True)"
   ]
  },
  {
   "cell_type": "code",
   "execution_count": 97,
   "metadata": {},
   "outputs": [],
   "source": [
    "fuel_offeset_2_df['date'] = pd.to_datetime(fuel_offeset_2_df['date']) + pd.DateOffset(months=2)\n",
    "fuel_offeset_2_df['date'] = fuel_offeset_2_df['date'].map(lambda x: x.strftime('%Y-%m'))\n",
    "fuel_offeset_2_df.dropna(inplace=True)"
   ]
  },
  {
   "cell_type": "code",
   "execution_count": 98,
   "metadata": {},
   "outputs": [],
   "source": [
    "fuel_offeset_3_df['date'] = pd.to_datetime(fuel_offeset_3_df['date']) + pd.DateOffset(months=3)\n",
    "fuel_offeset_3_df['date'] = fuel_offeset_3_df['date'].map(lambda x: x.strftime('%Y-%m'))\n",
    "fuel_offeset_3_df.dropna(inplace=True)"
   ]
  },
  {
   "cell_type": "code",
   "execution_count": 99,
   "metadata": {},
   "outputs": [
    {
     "data": {
      "text/html": [
       "<div>\n",
       "<style scoped>\n",
       "    .dataframe tbody tr th:only-of-type {\n",
       "        vertical-align: middle;\n",
       "    }\n",
       "\n",
       "    .dataframe tbody tr th {\n",
       "        vertical-align: top;\n",
       "    }\n",
       "\n",
       "    .dataframe thead th {\n",
       "        text-align: right;\n",
       "    }\n",
       "</style>\n",
       "<table border=\"1\" class=\"dataframe\">\n",
       "  <thead>\n",
       "    <tr style=\"text-align: right;\">\n",
       "      <th></th>\n",
       "      <th>date</th>\n",
       "      <th>fuel_price</th>\n",
       "    </tr>\n",
       "  </thead>\n",
       "  <tbody>\n",
       "    <tr>\n",
       "      <th>23</th>\n",
       "      <td>2021-10</td>\n",
       "      <td>17.63</td>\n",
       "    </tr>\n",
       "  </tbody>\n",
       "</table>\n",
       "</div>"
      ],
      "text/plain": [
       "       date  fuel_price\n",
       "23  2021-10       17.63"
      ]
     },
     "execution_count": 99,
     "metadata": {},
     "output_type": "execute_result"
    }
   ],
   "source": [
    "fuel_offeset_df[fuel_offeset_df['date'] == '2021-10']"
   ]
  },
  {
   "cell_type": "code",
   "execution_count": 100,
   "metadata": {},
   "outputs": [
    {
     "data": {
      "text/html": [
       "<div>\n",
       "<style scoped>\n",
       "    .dataframe tbody tr th:only-of-type {\n",
       "        vertical-align: middle;\n",
       "    }\n",
       "\n",
       "    .dataframe tbody tr th {\n",
       "        vertical-align: top;\n",
       "    }\n",
       "\n",
       "    .dataframe thead th {\n",
       "        text-align: right;\n",
       "    }\n",
       "</style>\n",
       "<table border=\"1\" class=\"dataframe\">\n",
       "  <thead>\n",
       "    <tr style=\"text-align: right;\">\n",
       "      <th></th>\n",
       "      <th>date</th>\n",
       "      <th>fuel_price</th>\n",
       "    </tr>\n",
       "  </thead>\n",
       "  <tbody>\n",
       "    <tr>\n",
       "      <th>0</th>\n",
       "      <td>2023-07</td>\n",
       "      <td>21.34</td>\n",
       "    </tr>\n",
       "    <tr>\n",
       "      <th>1</th>\n",
       "      <td>2023-06</td>\n",
       "      <td>21.58</td>\n",
       "    </tr>\n",
       "    <tr>\n",
       "      <th>2</th>\n",
       "      <td>2023-05</td>\n",
       "      <td>22.29</td>\n",
       "    </tr>\n",
       "    <tr>\n",
       "      <th>3</th>\n",
       "      <td>2023-04</td>\n",
       "      <td>21.92</td>\n",
       "    </tr>\n",
       "    <tr>\n",
       "      <th>4</th>\n",
       "      <td>2023-03</td>\n",
       "      <td>22.00</td>\n",
       "    </tr>\n",
       "    <tr>\n",
       "      <th>...</th>\n",
       "      <td>...</td>\n",
       "      <td>...</td>\n",
       "    </tr>\n",
       "    <tr>\n",
       "      <th>180</th>\n",
       "      <td>2008-05</td>\n",
       "      <td>9.29</td>\n",
       "    </tr>\n",
       "    <tr>\n",
       "      <th>181</th>\n",
       "      <td>2008-04</td>\n",
       "      <td>8.74</td>\n",
       "    </tr>\n",
       "    <tr>\n",
       "      <th>182</th>\n",
       "      <td>2008-03</td>\n",
       "      <td>8.07</td>\n",
       "    </tr>\n",
       "    <tr>\n",
       "      <th>183</th>\n",
       "      <td>2008-02</td>\n",
       "      <td>7.46</td>\n",
       "    </tr>\n",
       "    <tr>\n",
       "      <th>184</th>\n",
       "      <td>2008-01</td>\n",
       "      <td>7.29</td>\n",
       "    </tr>\n",
       "  </tbody>\n",
       "</table>\n",
       "<p>185 rows × 2 columns</p>\n",
       "</div>"
      ],
      "text/plain": [
       "        date  fuel_price\n",
       "0    2023-07       21.34\n",
       "1    2023-06       21.58\n",
       "2    2023-05       22.29\n",
       "3    2023-04       21.92\n",
       "4    2023-03       22.00\n",
       "..       ...         ...\n",
       "180  2008-05        9.29\n",
       "181  2008-04        8.74\n",
       "182  2008-03        8.07\n",
       "183  2008-02        7.46\n",
       "184  2008-01        7.29\n",
       "\n",
       "[185 rows x 2 columns]"
      ]
     },
     "execution_count": 100,
     "metadata": {},
     "output_type": "execute_result"
    }
   ],
   "source": [
    "fuel_df"
   ]
  },
  {
   "cell_type": "code",
   "execution_count": 101,
   "metadata": {},
   "outputs": [],
   "source": [
    "cpi = pd.merge(cpi,fuel_df, on=\"date\")\n",
    "cpi = pd.merge(cpi,sabor_df, on=\"date\")"
   ]
  },
  {
   "cell_type": "code",
   "execution_count": 102,
   "metadata": {},
   "outputs": [],
   "source": [
    "merged_df = pd.merge(fuel_df, sabor_df, on='date', how='left')"
   ]
  },
  {
   "cell_type": "code",
   "execution_count": 103,
   "metadata": {},
   "outputs": [
    {
     "data": {
      "text/html": [
       "<div>\n",
       "<style scoped>\n",
       "    .dataframe tbody tr th:only-of-type {\n",
       "        vertical-align: middle;\n",
       "    }\n",
       "\n",
       "    .dataframe tbody tr th {\n",
       "        vertical-align: top;\n",
       "    }\n",
       "\n",
       "    .dataframe thead th {\n",
       "        text-align: right;\n",
       "    }\n",
       "</style>\n",
       "<table border=\"1\" class=\"dataframe\">\n",
       "  <thead>\n",
       "    <tr style=\"text-align: right;\">\n",
       "      <th></th>\n",
       "      <th>Date</th>\n",
       "      <th>USD/ZAR</th>\n",
       "      <th>GBP/ZAR</th>\n",
       "      <th>EUR/ZAR</th>\n",
       "    </tr>\n",
       "  </thead>\n",
       "  <tbody>\n",
       "    <tr>\n",
       "      <th>0</th>\n",
       "      <td>2018-01</td>\n",
       "      <td>12.197131</td>\n",
       "      <td>16.812471</td>\n",
       "      <td>14.852223</td>\n",
       "    </tr>\n",
       "    <tr>\n",
       "      <th>1</th>\n",
       "      <td>2018-02</td>\n",
       "      <td>11.818639</td>\n",
       "      <td>16.556277</td>\n",
       "      <td>14.617775</td>\n",
       "    </tr>\n",
       "    <tr>\n",
       "      <th>2</th>\n",
       "      <td>2018-03</td>\n",
       "      <td>11.843666</td>\n",
       "      <td>16.529828</td>\n",
       "      <td>14.597329</td>\n",
       "    </tr>\n",
       "    <tr>\n",
       "      <th>3</th>\n",
       "      <td>2018-04</td>\n",
       "      <td>12.067608</td>\n",
       "      <td>16.989794</td>\n",
       "      <td>14.818127</td>\n",
       "    </tr>\n",
       "    <tr>\n",
       "      <th>4</th>\n",
       "      <td>2018-05</td>\n",
       "      <td>12.513433</td>\n",
       "      <td>16.881612</td>\n",
       "      <td>14.814248</td>\n",
       "    </tr>\n",
       "    <tr>\n",
       "      <th>...</th>\n",
       "      <td>...</td>\n",
       "      <td>...</td>\n",
       "      <td>...</td>\n",
       "      <td>...</td>\n",
       "    </tr>\n",
       "    <tr>\n",
       "      <th>61</th>\n",
       "      <td>2023-02</td>\n",
       "      <td>17.916716</td>\n",
       "      <td>21.611035</td>\n",
       "      <td>19.168071</td>\n",
       "    </tr>\n",
       "    <tr>\n",
       "      <th>62</th>\n",
       "      <td>2023-03</td>\n",
       "      <td>18.264031</td>\n",
       "      <td>22.163418</td>\n",
       "      <td>19.565940</td>\n",
       "    </tr>\n",
       "    <tr>\n",
       "      <th>63</th>\n",
       "      <td>2023-04</td>\n",
       "      <td>18.156630</td>\n",
       "      <td>22.598746</td>\n",
       "      <td>19.953257</td>\n",
       "    </tr>\n",
       "    <tr>\n",
       "      <th>64</th>\n",
       "      <td>2023-05</td>\n",
       "      <td>19.089853</td>\n",
       "      <td>23.817278</td>\n",
       "      <td>20.761558</td>\n",
       "    </tr>\n",
       "    <tr>\n",
       "      <th>65</th>\n",
       "      <td>2023-06</td>\n",
       "      <td>18.799594</td>\n",
       "      <td>23.672070</td>\n",
       "      <td>20.292954</td>\n",
       "    </tr>\n",
       "  </tbody>\n",
       "</table>\n",
       "<p>66 rows × 4 columns</p>\n",
       "</div>"
      ],
      "text/plain": [
       "       Date    USD/ZAR    GBP/ZAR    EUR/ZAR\n",
       "0   2018-01  12.197131  16.812471  14.852223\n",
       "1   2018-02  11.818639  16.556277  14.617775\n",
       "2   2018-03  11.843666  16.529828  14.597329\n",
       "3   2018-04  12.067608  16.989794  14.818127\n",
       "4   2018-05  12.513433  16.881612  14.814248\n",
       "..      ...        ...        ...        ...\n",
       "61  2023-02  17.916716  21.611035  19.168071\n",
       "62  2023-03  18.264031  22.163418  19.565940\n",
       "63  2023-04  18.156630  22.598746  19.953257\n",
       "64  2023-05  19.089853  23.817278  20.761558\n",
       "65  2023-06  18.799594  23.672070  20.292954\n",
       "\n",
       "[66 rows x 4 columns]"
      ]
     },
     "execution_count": 103,
     "metadata": {},
     "output_type": "execute_result"
    }
   ],
   "source": [
    "currency"
   ]
  },
  {
   "cell_type": "code",
   "execution_count": 104,
   "metadata": {},
   "outputs": [],
   "source": [
    "merged_df = pd.merge(fuel_df, sabor_df, on='date', how='left')\n",
    "\n",
    "fuel_offeset_df.rename(columns={'fuel_price': 'fuel_offset_1'}, inplace=True)\n",
    "\n",
    "merged_df = pd.merge(merged_df, fuel_offeset_df, on='date', how='left')\n",
    "\n",
    "fuel_offeset_3_df.rename(columns={'fuel_price': 'fuel_offset_3'}, inplace=True)\n",
    "currency.rename(columns={'Date': 'date'}, inplace=True)\n",
    "\n",
    "merged_df = pd.merge(merged_df, fuel_offeset_3_df, on='date', how='left')\n",
    "merged_df = pd.merge(merged_df, currency, on='date', how='left')"
   ]
  },
  {
   "cell_type": "code",
   "execution_count": 105,
   "metadata": {},
   "outputs": [],
   "source": [
    "merged_df.dropna(inplace=True)"
   ]
  },
  {
   "cell_type": "code",
   "execution_count": 106,
   "metadata": {},
   "outputs": [
    {
     "data": {
      "text/html": [
       "<div>\n",
       "<style scoped>\n",
       "    .dataframe tbody tr th:only-of-type {\n",
       "        vertical-align: middle;\n",
       "    }\n",
       "\n",
       "    .dataframe tbody tr th {\n",
       "        vertical-align: top;\n",
       "    }\n",
       "\n",
       "    .dataframe thead th {\n",
       "        text-align: right;\n",
       "    }\n",
       "</style>\n",
       "<table border=\"1\" class=\"dataframe\">\n",
       "  <thead>\n",
       "    <tr style=\"text-align: right;\">\n",
       "      <th></th>\n",
       "      <th>date</th>\n",
       "      <th>fuel_price</th>\n",
       "      <th>sabor</th>\n",
       "      <th>fuel_offset_1</th>\n",
       "      <th>fuel_offset_3</th>\n",
       "      <th>USD/ZAR</th>\n",
       "      <th>GBP/ZAR</th>\n",
       "      <th>EUR/ZAR</th>\n",
       "    </tr>\n",
       "  </thead>\n",
       "  <tbody>\n",
       "    <tr>\n",
       "      <th>1</th>\n",
       "      <td>2023-06</td>\n",
       "      <td>21.58</td>\n",
       "      <td>8.218091</td>\n",
       "      <td>22.29</td>\n",
       "      <td>22.00</td>\n",
       "      <td>18.799594</td>\n",
       "      <td>23.672070</td>\n",
       "      <td>20.292954</td>\n",
       "    </tr>\n",
       "    <tr>\n",
       "      <th>2</th>\n",
       "      <td>2023-05</td>\n",
       "      <td>22.29</td>\n",
       "      <td>7.804391</td>\n",
       "      <td>21.92</td>\n",
       "      <td>20.73</td>\n",
       "      <td>19.089853</td>\n",
       "      <td>23.817278</td>\n",
       "      <td>20.761558</td>\n",
       "    </tr>\n",
       "    <tr>\n",
       "      <th>3</th>\n",
       "      <td>2023-04</td>\n",
       "      <td>21.92</td>\n",
       "      <td>7.713450</td>\n",
       "      <td>22.00</td>\n",
       "      <td>20.45</td>\n",
       "      <td>18.156630</td>\n",
       "      <td>22.598746</td>\n",
       "      <td>19.953257</td>\n",
       "    </tr>\n",
       "    <tr>\n",
       "      <th>4</th>\n",
       "      <td>2023-03</td>\n",
       "      <td>22.00</td>\n",
       "      <td>7.223304</td>\n",
       "      <td>20.73</td>\n",
       "      <td>22.51</td>\n",
       "      <td>18.264031</td>\n",
       "      <td>22.163418</td>\n",
       "      <td>19.565940</td>\n",
       "    </tr>\n",
       "    <tr>\n",
       "      <th>5</th>\n",
       "      <td>2023-02</td>\n",
       "      <td>20.73</td>\n",
       "      <td>7.211850</td>\n",
       "      <td>20.45</td>\n",
       "      <td>21.92</td>\n",
       "      <td>17.916716</td>\n",
       "      <td>21.611035</td>\n",
       "      <td>19.168071</td>\n",
       "    </tr>\n",
       "    <tr>\n",
       "      <th>...</th>\n",
       "      <td>...</td>\n",
       "      <td>...</td>\n",
       "      <td>...</td>\n",
       "      <td>...</td>\n",
       "      <td>...</td>\n",
       "      <td>...</td>\n",
       "      <td>...</td>\n",
       "      <td>...</td>\n",
       "    </tr>\n",
       "    <tr>\n",
       "      <th>66</th>\n",
       "      <td>2018-04</td>\n",
       "      <td>13.89</td>\n",
       "      <td>6.504286</td>\n",
       "      <td>13.27</td>\n",
       "      <td>13.93</td>\n",
       "      <td>12.067608</td>\n",
       "      <td>16.989794</td>\n",
       "      <td>14.818127</td>\n",
       "    </tr>\n",
       "    <tr>\n",
       "      <th>67</th>\n",
       "      <td>2018-03</td>\n",
       "      <td>13.27</td>\n",
       "      <td>6.732000</td>\n",
       "      <td>13.63</td>\n",
       "      <td>14.27</td>\n",
       "      <td>11.843666</td>\n",
       "      <td>16.529828</td>\n",
       "      <td>14.597329</td>\n",
       "    </tr>\n",
       "    <tr>\n",
       "      <th>68</th>\n",
       "      <td>2018-02</td>\n",
       "      <td>13.63</td>\n",
       "      <td>6.748950</td>\n",
       "      <td>13.93</td>\n",
       "      <td>13.56</td>\n",
       "      <td>11.818639</td>\n",
       "      <td>16.556277</td>\n",
       "      <td>14.617775</td>\n",
       "    </tr>\n",
       "    <tr>\n",
       "      <th>69</th>\n",
       "      <td>2018-01</td>\n",
       "      <td>13.93</td>\n",
       "      <td>6.737957</td>\n",
       "      <td>14.27</td>\n",
       "      <td>13.52</td>\n",
       "      <td>12.197131</td>\n",
       "      <td>16.812471</td>\n",
       "      <td>14.852223</td>\n",
       "    </tr>\n",
       "    <tr>\n",
       "      <th>70</th>\n",
       "      <td>2018-01</td>\n",
       "      <td>13.93</td>\n",
       "      <td>6.737957</td>\n",
       "      <td>14.27</td>\n",
       "      <td>13.52</td>\n",
       "      <td>12.197131</td>\n",
       "      <td>16.812471</td>\n",
       "      <td>14.852223</td>\n",
       "    </tr>\n",
       "  </tbody>\n",
       "</table>\n",
       "<p>70 rows × 8 columns</p>\n",
       "</div>"
      ],
      "text/plain": [
       "       date  fuel_price     sabor  fuel_offset_1  fuel_offset_3    USD/ZAR  \\\n",
       "1   2023-06       21.58  8.218091          22.29          22.00  18.799594   \n",
       "2   2023-05       22.29  7.804391          21.92          20.73  19.089853   \n",
       "3   2023-04       21.92  7.713450          22.00          20.45  18.156630   \n",
       "4   2023-03       22.00  7.223304          20.73          22.51  18.264031   \n",
       "5   2023-02       20.73  7.211850          20.45          21.92  17.916716   \n",
       "..      ...         ...       ...            ...            ...        ...   \n",
       "66  2018-04       13.89  6.504286          13.27          13.93  12.067608   \n",
       "67  2018-03       13.27  6.732000          13.63          14.27  11.843666   \n",
       "68  2018-02       13.63  6.748950          13.93          13.56  11.818639   \n",
       "69  2018-01       13.93  6.737957          14.27          13.52  12.197131   \n",
       "70  2018-01       13.93  6.737957          14.27          13.52  12.197131   \n",
       "\n",
       "      GBP/ZAR    EUR/ZAR  \n",
       "1   23.672070  20.292954  \n",
       "2   23.817278  20.761558  \n",
       "3   22.598746  19.953257  \n",
       "4   22.163418  19.565940  \n",
       "5   21.611035  19.168071  \n",
       "..        ...        ...  \n",
       "66  16.989794  14.818127  \n",
       "67  16.529828  14.597329  \n",
       "68  16.556277  14.617775  \n",
       "69  16.812471  14.852223  \n",
       "70  16.812471  14.852223  \n",
       "\n",
       "[70 rows x 8 columns]"
      ]
     },
     "execution_count": 106,
     "metadata": {},
     "output_type": "execute_result"
    }
   ],
   "source": [
    "merged_df"
   ]
  },
  {
   "cell_type": "code",
   "execution_count": 107,
   "metadata": {},
   "outputs": [
    {
     "ename": "KeyError",
     "evalue": "\"['fuel_price'] not in index\"",
     "output_type": "error",
     "traceback": [
      "\u001b[0;31m---------------------------------------------------------------------------\u001b[0m",
      "\u001b[0;31mKeyError\u001b[0m                                  Traceback (most recent call last)",
      "Cell \u001b[0;32mIn[107], line 11\u001b[0m\n\u001b[1;32m      1\u001b[0m models \u001b[39m=\u001b[39m [HoltWintersWrapper(seasonal_periods\u001b[39m=\u001b[39m\u001b[39m6\u001b[39m), \n\u001b[1;32m      2\u001b[0m           HoltWintersWrapper(seasonal_periods\u001b[39m=\u001b[39m\u001b[39m3\u001b[39m),\n\u001b[1;32m      3\u001b[0m           HoltWintersWrapper(seasonal_periods\u001b[39m=\u001b[39m\u001b[39m12\u001b[39m),\n\u001b[1;32m      4\u001b[0m           HoltWintersWrapper(seasonal_periods\u001b[39m=\u001b[39m\u001b[39m18\u001b[39m),\n\u001b[1;32m      5\u001b[0m           HoltWintersWrapper(seasonal_periods\u001b[39m=\u001b[39m\u001b[39m24\u001b[39m),\n\u001b[1;32m      6\u001b[0m           ProphetWrapper(extra_data\u001b[39m=\u001b[39mfuel_df[[\u001b[39m'\u001b[39m\u001b[39mdate\u001b[39m\u001b[39m'\u001b[39m,\u001b[39m'\u001b[39m\u001b[39mfuel_price\u001b[39m\u001b[39m'\u001b[39m]], name_postfix\u001b[39m=\u001b[39m\u001b[39m\"\u001b[39m\u001b[39m_fuel\u001b[39m\u001b[39m\"\u001b[39m),\n\u001b[1;32m      7\u001b[0m           ProphetWrapper(extra_data\u001b[39m=\u001b[39mfuel_df[[\u001b[39m'\u001b[39m\u001b[39mdate\u001b[39m\u001b[39m'\u001b[39m,\u001b[39m'\u001b[39m\u001b[39mfuel_price\u001b[39m\u001b[39m'\u001b[39m]], name_postfix\u001b[39m=\u001b[39m\u001b[39m\"\u001b[39m\u001b[39m_fuel\u001b[39m\u001b[39m\"\u001b[39m, changepoint_prior_scale\u001b[39m=\u001b[39m\u001b[39m10\u001b[39m, n_changepoints\u001b[39m=\u001b[39m\u001b[39m5\u001b[39m, changepoint_range\u001b[39m=\u001b[39m\u001b[39m0.9\u001b[39m),\n\u001b[1;32m      8\u001b[0m           ProphetWrapper(extra_data\u001b[39m=\u001b[39mfuel_df[[\u001b[39m'\u001b[39m\u001b[39mdate\u001b[39m\u001b[39m'\u001b[39m,\u001b[39m'\u001b[39m\u001b[39mfuel_price\u001b[39m\u001b[39m'\u001b[39m]], name_postfix\u001b[39m=\u001b[39m\u001b[39m\"\u001b[39m\u001b[39m_fuel\u001b[39m\u001b[39m\"\u001b[39m, changepoint_prior_scale\u001b[39m=\u001b[39m\u001b[39m0.5\u001b[39m, n_changepoints\u001b[39m=\u001b[39m\u001b[39m5\u001b[39m, changepoint_range\u001b[39m=\u001b[39m\u001b[39m1\u001b[39m),\n\u001b[1;32m      9\u001b[0m           ProphetWrapper(extra_data\u001b[39m=\u001b[39mfuel_df[[\u001b[39m'\u001b[39m\u001b[39mdate\u001b[39m\u001b[39m'\u001b[39m,\u001b[39m'\u001b[39m\u001b[39mfuel_price\u001b[39m\u001b[39m'\u001b[39m]], name_postfix\u001b[39m=\u001b[39m\u001b[39m\"\u001b[39m\u001b[39m_fuel\u001b[39m\u001b[39m\"\u001b[39m, changepoint_prior_scale\u001b[39m=\u001b[39m\u001b[39m10\u001b[39m),\n\u001b[1;32m     10\u001b[0m           ProphetWrapper(extra_data\u001b[39m=\u001b[39mfuel_df[[\u001b[39m'\u001b[39m\u001b[39mdate\u001b[39m\u001b[39m'\u001b[39m,\u001b[39m'\u001b[39m\u001b[39mfuel_price\u001b[39m\u001b[39m'\u001b[39m]], name_postfix\u001b[39m=\u001b[39m\u001b[39m\"\u001b[39m\u001b[39m_fuel\u001b[39m\u001b[39m\"\u001b[39m, changepoint_prior_scale\u001b[39m=\u001b[39m\u001b[39m10\u001b[39m, changepoint_range\u001b[39m=\u001b[39m\u001b[39m0.9\u001b[39m),\n\u001b[0;32m---> 11\u001b[0m           ProphetWrapper(extra_data\u001b[39m=\u001b[39mfuel_offeset_df[[\u001b[39m'\u001b[39;49m\u001b[39mdate\u001b[39;49m\u001b[39m'\u001b[39;49m,\u001b[39m'\u001b[39;49m\u001b[39mfuel_price\u001b[39;49m\u001b[39m'\u001b[39;49m]], name_postfix\u001b[39m=\u001b[39m\u001b[39m\"\u001b[39m\u001b[39m_fuel_offset\u001b[39m\u001b[39m\"\u001b[39m, changepoint_prior_scale\u001b[39m=\u001b[39m\u001b[39m10\u001b[39m, changepoint_range\u001b[39m=\u001b[39m\u001b[39m0.9\u001b[39m),\n\u001b[1;32m     12\u001b[0m           ProphetWrapper(extra_data\u001b[39m=\u001b[39mfuel_offeset_2_df[[\u001b[39m'\u001b[39m\u001b[39mdate\u001b[39m\u001b[39m'\u001b[39m,\u001b[39m'\u001b[39m\u001b[39mfuel_price\u001b[39m\u001b[39m'\u001b[39m]], name_postfix\u001b[39m=\u001b[39m\u001b[39m\"\u001b[39m\u001b[39m_fuel_offset_2\u001b[39m\u001b[39m\"\u001b[39m, changepoint_prior_scale\u001b[39m=\u001b[39m\u001b[39m10\u001b[39m, changepoint_range\u001b[39m=\u001b[39m\u001b[39m0.9\u001b[39m),\n\u001b[1;32m     13\u001b[0m           ProphetWrapper(extra_data\u001b[39m=\u001b[39mfuel_offeset_3_df[[\u001b[39m'\u001b[39m\u001b[39mdate\u001b[39m\u001b[39m'\u001b[39m,\u001b[39m'\u001b[39m\u001b[39mfuel_price\u001b[39m\u001b[39m'\u001b[39m]], name_postfix\u001b[39m=\u001b[39m\u001b[39m\"\u001b[39m\u001b[39m_fuel_offset_3\u001b[39m\u001b[39m\"\u001b[39m, changepoint_prior_scale\u001b[39m=\u001b[39m\u001b[39m10\u001b[39m, changepoint_range\u001b[39m=\u001b[39m\u001b[39m0.9\u001b[39m),\n\u001b[1;32m     14\u001b[0m           ProphetWrapper(extra_data\u001b[39m=\u001b[39msabor_df[[\u001b[39m'\u001b[39m\u001b[39mdate\u001b[39m\u001b[39m'\u001b[39m,\u001b[39m'\u001b[39m\u001b[39msabor\u001b[39m\u001b[39m'\u001b[39m]], name_postfix\u001b[39m=\u001b[39m\u001b[39m\"\u001b[39m\u001b[39m_sabor\u001b[39m\u001b[39m\"\u001b[39m),\n\u001b[1;32m     15\u001b[0m           ProphetWrapper()]\n",
      "File \u001b[0;32m~/opt/anaconda3/envs/zindo_rmb/lib/python3.10/site-packages/pandas/core/frame.py:3767\u001b[0m, in \u001b[0;36mDataFrame.__getitem__\u001b[0;34m(self, key)\u001b[0m\n\u001b[1;32m   3765\u001b[0m     \u001b[39mif\u001b[39;00m is_iterator(key):\n\u001b[1;32m   3766\u001b[0m         key \u001b[39m=\u001b[39m \u001b[39mlist\u001b[39m(key)\n\u001b[0;32m-> 3767\u001b[0m     indexer \u001b[39m=\u001b[39m \u001b[39mself\u001b[39;49m\u001b[39m.\u001b[39;49mcolumns\u001b[39m.\u001b[39;49m_get_indexer_strict(key, \u001b[39m\"\u001b[39;49m\u001b[39mcolumns\u001b[39;49m\u001b[39m\"\u001b[39;49m)[\u001b[39m1\u001b[39m]\n\u001b[1;32m   3769\u001b[0m \u001b[39m# take() does not accept boolean indexers\u001b[39;00m\n\u001b[1;32m   3770\u001b[0m \u001b[39mif\u001b[39;00m \u001b[39mgetattr\u001b[39m(indexer, \u001b[39m\"\u001b[39m\u001b[39mdtype\u001b[39m\u001b[39m\"\u001b[39m, \u001b[39mNone\u001b[39;00m) \u001b[39m==\u001b[39m \u001b[39mbool\u001b[39m:\n",
      "File \u001b[0;32m~/opt/anaconda3/envs/zindo_rmb/lib/python3.10/site-packages/pandas/core/indexes/base.py:5877\u001b[0m, in \u001b[0;36mIndex._get_indexer_strict\u001b[0;34m(self, key, axis_name)\u001b[0m\n\u001b[1;32m   5874\u001b[0m \u001b[39melse\u001b[39;00m:\n\u001b[1;32m   5875\u001b[0m     keyarr, indexer, new_indexer \u001b[39m=\u001b[39m \u001b[39mself\u001b[39m\u001b[39m.\u001b[39m_reindex_non_unique(keyarr)\n\u001b[0;32m-> 5877\u001b[0m \u001b[39mself\u001b[39;49m\u001b[39m.\u001b[39;49m_raise_if_missing(keyarr, indexer, axis_name)\n\u001b[1;32m   5879\u001b[0m keyarr \u001b[39m=\u001b[39m \u001b[39mself\u001b[39m\u001b[39m.\u001b[39mtake(indexer)\n\u001b[1;32m   5880\u001b[0m \u001b[39mif\u001b[39;00m \u001b[39misinstance\u001b[39m(key, Index):\n\u001b[1;32m   5881\u001b[0m     \u001b[39m# GH 42790 - Preserve name from an Index\u001b[39;00m\n",
      "File \u001b[0;32m~/opt/anaconda3/envs/zindo_rmb/lib/python3.10/site-packages/pandas/core/indexes/base.py:5941\u001b[0m, in \u001b[0;36mIndex._raise_if_missing\u001b[0;34m(self, key, indexer, axis_name)\u001b[0m\n\u001b[1;32m   5938\u001b[0m     \u001b[39mraise\u001b[39;00m \u001b[39mKeyError\u001b[39;00m(\u001b[39mf\u001b[39m\u001b[39m\"\u001b[39m\u001b[39mNone of [\u001b[39m\u001b[39m{\u001b[39;00mkey\u001b[39m}\u001b[39;00m\u001b[39m] are in the [\u001b[39m\u001b[39m{\u001b[39;00maxis_name\u001b[39m}\u001b[39;00m\u001b[39m]\u001b[39m\u001b[39m\"\u001b[39m)\n\u001b[1;32m   5940\u001b[0m not_found \u001b[39m=\u001b[39m \u001b[39mlist\u001b[39m(ensure_index(key)[missing_mask\u001b[39m.\u001b[39mnonzero()[\u001b[39m0\u001b[39m]]\u001b[39m.\u001b[39munique())\n\u001b[0;32m-> 5941\u001b[0m \u001b[39mraise\u001b[39;00m \u001b[39mKeyError\u001b[39;00m(\u001b[39mf\u001b[39m\u001b[39m\"\u001b[39m\u001b[39m{\u001b[39;00mnot_found\u001b[39m}\u001b[39;00m\u001b[39m not in index\u001b[39m\u001b[39m\"\u001b[39m)\n",
      "\u001b[0;31mKeyError\u001b[0m: \"['fuel_price'] not in index\""
     ]
    }
   ],
   "source": [
    "models = [HoltWintersWrapper(seasonal_periods=6), \n",
    "          HoltWintersWrapper(seasonal_periods=3),\n",
    "          HoltWintersWrapper(seasonal_periods=12),\n",
    "          HoltWintersWrapper(seasonal_periods=18),\n",
    "          HoltWintersWrapper(seasonal_periods=24),\n",
    "          ProphetWrapper(extra_data=fuel_df[['date','fuel_price']], name_postfix=\"_fuel\"),\n",
    "          ProphetWrapper(extra_data=fuel_df[['date','fuel_price']], name_postfix=\"_fuel\", changepoint_prior_scale=10, n_changepoints=5, changepoint_range=0.9),\n",
    "          ProphetWrapper(extra_data=fuel_df[['date','fuel_price']], name_postfix=\"_fuel\", changepoint_prior_scale=0.5, n_changepoints=5, changepoint_range=1),\n",
    "          ProphetWrapper(extra_data=fuel_df[['date','fuel_price']], name_postfix=\"_fuel\", changepoint_prior_scale=10),\n",
    "          ProphetWrapper(extra_data=fuel_df[['date','fuel_price']], name_postfix=\"_fuel\", changepoint_prior_scale=10, changepoint_range=0.9),\n",
    "          ProphetWrapper(extra_data=fuel_offeset_df[['date','fuel_price']], name_postfix=\"_fuel_offset\", changepoint_prior_scale=10, changepoint_range=0.9),\n",
    "          ProphetWrapper(extra_data=fuel_offeset_2_df[['date','fuel_price']], name_postfix=\"_fuel_offset_2\", changepoint_prior_scale=10, changepoint_range=0.9),\n",
    "          ProphetWrapper(extra_data=fuel_offeset_3_df[['date','fuel_price']], name_postfix=\"_fuel_offset_3\", changepoint_prior_scale=10, changepoint_range=0.9),\n",
    "          ProphetWrapper(extra_data=sabor_df[['date','sabor']], name_postfix=\"_sabor\"),\n",
    "          ProphetWrapper()]"
   ]
  },
  {
   "cell_type": "code",
   "execution_count": 110,
   "metadata": {},
   "outputs": [],
   "source": [
    "models = [  HoltWintersWrapper(seasonal_periods=3),\n",
    "            HoltWintersWrapper(seasonal_periods=12),\n",
    "            ProphetWrapper(extra_data=merged_df, name_postfix=\"_all_data\", changepoint_prior_scale=10, changepoint_range=0.8),\n",
    "            ProphetWrapper(extra_data=merged_df, name_postfix=\"_all_data\", changepoint_prior_scale=5, changepoint_range=0.8, n_changepoints=20), \n",
    "            ProphetWrapper(extra_data=merged_df, name_postfix=\"_all_data\", changepoint_prior_scale=1, changepoint_range=0.8),]"
   ]
  },
  {
   "cell_type": "code",
   "execution_count": 111,
   "metadata": {},
   "outputs": [],
   "source": [
    "tscv = TimeSeriesSplit(n_splits=3,test_size=1)"
   ]
  },
  {
   "cell_type": "code",
   "execution_count": 118,
   "metadata": {},
   "outputs": [
    {
     "name": "stderr",
     "output_type": "stream",
     "text": [
      "100%|██████████| 13/13 [00:05<00:00,  2.52it/s]\n",
      "100%|██████████| 13/13 [00:05<00:00,  2.50it/s]\n",
      "  0%|          | 0/13 [00:00<?, ?it/s]\n"
     ]
    },
    {
     "ename": "ValueError",
     "evalue": "The truth value of a DataFrame is ambiguous. Use a.empty, a.bool(), a.item(), a.any() or a.all().",
     "output_type": "error",
     "traceback": [
      "\u001b[0;31m---------------------------------------------------------------------------\u001b[0m",
      "\u001b[0;31mValueError\u001b[0m                                Traceback (most recent call last)",
      "\u001b[0;32m/var/folders/ky/xnyv3w910zdfb_6vx1mdq4ym0000gn/T/ipykernel_19040/282879242.py\u001b[0m in \u001b[0;36m?\u001b[0;34m()\u001b[0m\n\u001b[1;32m     13\u001b[0m         \u001b[0mintermediate_results\u001b[0m \u001b[0;34m=\u001b[0m \u001b[0;34m{\u001b[0m\u001b[0;34m'test'\u001b[0m\u001b[0;34m:\u001b[0m \u001b[0;34m[\u001b[0m\u001b[0;34m]\u001b[0m\u001b[0;34m,\u001b[0m \u001b[0;34m'pred'\u001b[0m\u001b[0;34m:\u001b[0m \u001b[0;34m[\u001b[0m\u001b[0;34m]\u001b[0m\u001b[0;34m}\u001b[0m\u001b[0;34m\u001b[0m\u001b[0;34m\u001b[0m\u001b[0m\n\u001b[1;32m     14\u001b[0m         \u001b[0;32mfor\u001b[0m \u001b[0mi\u001b[0m\u001b[0;34m,\u001b[0m \u001b[0;34m(\u001b[0m\u001b[0mtrain_index\u001b[0m\u001b[0;34m,\u001b[0m \u001b[0mtest_index\u001b[0m\u001b[0;34m)\u001b[0m \u001b[0;32min\u001b[0m \u001b[0menumerate\u001b[0m\u001b[0;34m(\u001b[0m\u001b[0mtscv\u001b[0m\u001b[0;34m.\u001b[0m\u001b[0msplit\u001b[0m\u001b[0;34m(\u001b[0m\u001b[0mcpi\u001b[0m\u001b[0;34m[\u001b[0m\u001b[0;34m[\u001b[0m\u001b[0;34m'date'\u001b[0m\u001b[0;34m,\u001b[0m\u001b[0mcategory\u001b[0m\u001b[0;34m]\u001b[0m\u001b[0;34m]\u001b[0m\u001b[0;34m)\u001b[0m\u001b[0;34m)\u001b[0m\u001b[0;34m:\u001b[0m\u001b[0;34m\u001b[0m\u001b[0;34m\u001b[0m\u001b[0m\n\u001b[1;32m     15\u001b[0m             \u001b[0mmodel\u001b[0m\u001b[0;34m.\u001b[0m\u001b[0mfit\u001b[0m\u001b[0;34m(\u001b[0m\u001b[0mmodel\u001b[0m\u001b[0;34m.\u001b[0m\u001b[0mgetExtraData\u001b[0m\u001b[0;34m(\u001b[0m\u001b[0;34m)\u001b[0m\u001b[0;34m,\u001b[0m \u001b[0mcpi\u001b[0m\u001b[0;34m[\u001b[0m\u001b[0;34m[\u001b[0m\u001b[0;34m'date'\u001b[0m\u001b[0;34m,\u001b[0m\u001b[0mcategory\u001b[0m\u001b[0;34m]\u001b[0m\u001b[0;34m]\u001b[0m\u001b[0;34m.\u001b[0m\u001b[0miloc\u001b[0m\u001b[0;34m[\u001b[0m\u001b[0mtrain_index\u001b[0m\u001b[0;34m]\u001b[0m\u001b[0;34m)\u001b[0m\u001b[0;34m\u001b[0m\u001b[0;34m\u001b[0m\u001b[0m\n\u001b[1;32m     16\u001b[0m             \u001b[0mintermediate_results\u001b[0m\u001b[0;34m[\u001b[0m\u001b[0;34m'test'\u001b[0m\u001b[0;34m]\u001b[0m\u001b[0;34m.\u001b[0m\u001b[0mappend\u001b[0m\u001b[0;34m(\u001b[0m\u001b[0;34m*\u001b[0m\u001b[0mcpi\u001b[0m\u001b[0;34m[\u001b[0m\u001b[0mcategory\u001b[0m\u001b[0;34m]\u001b[0m\u001b[0;34m.\u001b[0m\u001b[0miloc\u001b[0m\u001b[0;34m[\u001b[0m\u001b[0mtest_index\u001b[0m\u001b[0;34m]\u001b[0m\u001b[0;34m.\u001b[0m\u001b[0mvalues\u001b[0m\u001b[0;34m)\u001b[0m\u001b[0;34m\u001b[0m\u001b[0;34m\u001b[0m\u001b[0m\n\u001b[0;32m---> 17\u001b[0;31m             \u001b[0mintermediate_results\u001b[0m\u001b[0;34m[\u001b[0m\u001b[0;34m'pred'\u001b[0m\u001b[0;34m]\u001b[0m\u001b[0;34m.\u001b[0m\u001b[0mappend\u001b[0m\u001b[0;34m(\u001b[0m\u001b[0;34m*\u001b[0m\u001b[0mmodel\u001b[0m\u001b[0;34m.\u001b[0m\u001b[0mpredict\u001b[0m\u001b[0;34m(\u001b[0m\u001b[0mlen\u001b[0m\u001b[0;34m(\u001b[0m\u001b[0mtest_index\u001b[0m\u001b[0;34m)\u001b[0m\u001b[0;34m)\u001b[0m\u001b[0;34m)\u001b[0m\u001b[0;34m\u001b[0m\u001b[0;34m\u001b[0m\u001b[0m\n\u001b[0m\u001b[1;32m     18\u001b[0m         \u001b[0mresult\u001b[0m \u001b[0;34m=\u001b[0m \u001b[0mmean_squared_error\u001b[0m\u001b[0;34m(\u001b[0m\u001b[0mintermediate_results\u001b[0m\u001b[0;34m[\u001b[0m\u001b[0;34m'test'\u001b[0m\u001b[0;34m]\u001b[0m\u001b[0;34m,\u001b[0m \u001b[0mintermediate_results\u001b[0m\u001b[0;34m[\u001b[0m\u001b[0;34m'pred'\u001b[0m\u001b[0;34m]\u001b[0m\u001b[0;34m,\u001b[0m \u001b[0msquared\u001b[0m\u001b[0;34m=\u001b[0m\u001b[0;32mTrue\u001b[0m\u001b[0;34m)\u001b[0m\u001b[0;34m\u001b[0m\u001b[0;34m\u001b[0m\u001b[0m\n\u001b[1;32m     19\u001b[0m         \u001b[0mmodel_results\u001b[0m\u001b[0;34m.\u001b[0m\u001b[0mappend\u001b[0m\u001b[0;34m(\u001b[0m\u001b[0mresult\u001b[0m\u001b[0;34m)\u001b[0m\u001b[0;34m\u001b[0m\u001b[0;34m\u001b[0m\u001b[0m\n\u001b[1;32m     20\u001b[0m         \u001b[0;31m#run.log({f'{category}_rmse': result})\u001b[0m\u001b[0;34m\u001b[0m\u001b[0;34m\u001b[0m\u001b[0m\n",
      "\u001b[0;32m~/workspace/zindi/rmb_nowcast/zindi_rmb/models/models.py\u001b[0m in \u001b[0;36m?\u001b[0;34m(self, forecast)\u001b[0m\n\u001b[1;32m    120\u001b[0m             \u001b[0mfuture\u001b[0m \u001b[0;34m=\u001b[0m \u001b[0mpd\u001b[0m\u001b[0;34m.\u001b[0m\u001b[0mmerge\u001b[0m\u001b[0;34m(\u001b[0m\u001b[0mfuture\u001b[0m\u001b[0;34m,\u001b[0m \u001b[0mdf\u001b[0m\u001b[0;34m,\u001b[0m \u001b[0mon\u001b[0m\u001b[0;34m=\u001b[0m\u001b[0;34m'ds'\u001b[0m\u001b[0;34m,\u001b[0m \u001b[0mhow\u001b[0m\u001b[0;34m=\u001b[0m\u001b[0;34m'left'\u001b[0m\u001b[0;34m)\u001b[0m\u001b[0;34m\u001b[0m\u001b[0;34m\u001b[0m\u001b[0m\n\u001b[1;32m    121\u001b[0m \u001b[0;34m\u001b[0m\u001b[0m\n\u001b[1;32m    122\u001b[0m         \u001b[0mforecast\u001b[0m \u001b[0;34m=\u001b[0m \u001b[0mself\u001b[0m\u001b[0;34m.\u001b[0m\u001b[0mmodel_\u001b[0m\u001b[0;34m.\u001b[0m\u001b[0mpredict\u001b[0m\u001b[0;34m(\u001b[0m\u001b[0mfuture\u001b[0m\u001b[0;34m)\u001b[0m\u001b[0;34m\u001b[0m\u001b[0;34m\u001b[0m\u001b[0m\n\u001b[1;32m    123\u001b[0m \u001b[0;34m\u001b[0m\u001b[0m\n\u001b[0;32m--> 124\u001b[0;31m         \u001b[0;32mreturn\u001b[0m \u001b[0mforecast\u001b[0m\u001b[0;34m[\u001b[0m\u001b[0;34m'yhat'\u001b[0m\u001b[0;34m]\u001b[0m\u001b[0;34m.\u001b[0m\u001b[0mtail\u001b[0m\u001b[0;34m(\u001b[0m\u001b[0mforecast\u001b[0m\u001b[0;34m)\u001b[0m\u001b[0;34m.\u001b[0m\u001b[0mto_numpy\u001b[0m\u001b[0;34m(\u001b[0m\u001b[0;34m)\u001b[0m\u001b[0;34m\u001b[0m\u001b[0;34m\u001b[0m\u001b[0m\n\u001b[0m",
      "\u001b[0;32m~/opt/anaconda3/envs/zindo_rmb/lib/python3.10/site-packages/pandas/core/generic.py\u001b[0m in \u001b[0;36m?\u001b[0;34m(self, n)\u001b[0m\n\u001b[1;32m   5703\u001b[0m         \u001b[0;36m6\u001b[0m   \u001b[0mshark\u001b[0m\u001b[0;34m\u001b[0m\u001b[0;34m\u001b[0m\u001b[0m\n\u001b[1;32m   5704\u001b[0m         \u001b[0;36m7\u001b[0m   \u001b[0mwhale\u001b[0m\u001b[0;34m\u001b[0m\u001b[0;34m\u001b[0m\u001b[0m\n\u001b[1;32m   5705\u001b[0m         \u001b[0;36m8\u001b[0m   \u001b[0mzebra\u001b[0m\u001b[0;34m\u001b[0m\u001b[0;34m\u001b[0m\u001b[0m\n\u001b[1;32m   5706\u001b[0m         \"\"\"\n\u001b[0;32m-> 5707\u001b[0;31m         \u001b[0;32mif\u001b[0m \u001b[0mn\u001b[0m \u001b[0;34m==\u001b[0m \u001b[0;36m0\u001b[0m\u001b[0;34m:\u001b[0m\u001b[0;34m\u001b[0m\u001b[0;34m\u001b[0m\u001b[0m\n\u001b[0m\u001b[1;32m   5708\u001b[0m             \u001b[0;32mreturn\u001b[0m \u001b[0mself\u001b[0m\u001b[0;34m.\u001b[0m\u001b[0miloc\u001b[0m\u001b[0;34m[\u001b[0m\u001b[0;36m0\u001b[0m\u001b[0;34m:\u001b[0m\u001b[0;36m0\u001b[0m\u001b[0;34m]\u001b[0m\u001b[0;34m\u001b[0m\u001b[0;34m\u001b[0m\u001b[0m\n\u001b[1;32m   5709\u001b[0m         \u001b[0;32mreturn\u001b[0m \u001b[0mself\u001b[0m\u001b[0;34m.\u001b[0m\u001b[0miloc\u001b[0m\u001b[0;34m[\u001b[0m\u001b[0;34m-\u001b[0m\u001b[0mn\u001b[0m\u001b[0;34m:\u001b[0m\u001b[0;34m]\u001b[0m\u001b[0;34m\u001b[0m\u001b[0;34m\u001b[0m\u001b[0m\n",
      "\u001b[0;32m~/opt/anaconda3/envs/zindo_rmb/lib/python3.10/site-packages/pandas/core/generic.py\u001b[0m in \u001b[0;36m?\u001b[0;34m(self)\u001b[0m\n\u001b[1;32m   1464\u001b[0m     \u001b[0;34m@\u001b[0m\u001b[0mfinal\u001b[0m\u001b[0;34m\u001b[0m\u001b[0;34m\u001b[0m\u001b[0m\n\u001b[1;32m   1465\u001b[0m     \u001b[0;32mdef\u001b[0m \u001b[0m__nonzero__\u001b[0m\u001b[0;34m(\u001b[0m\u001b[0mself\u001b[0m\u001b[0;34m)\u001b[0m \u001b[0;34m->\u001b[0m \u001b[0mNoReturn\u001b[0m\u001b[0;34m:\u001b[0m\u001b[0;34m\u001b[0m\u001b[0;34m\u001b[0m\u001b[0m\n\u001b[0;32m-> 1466\u001b[0;31m         raise ValueError(\n\u001b[0m\u001b[1;32m   1467\u001b[0m             \u001b[0;34mf\"The truth value of a {type(self).__name__} is ambiguous. \"\u001b[0m\u001b[0;34m\u001b[0m\u001b[0;34m\u001b[0m\u001b[0m\n\u001b[1;32m   1468\u001b[0m             \u001b[0;34m\"Use a.empty, a.bool(), a.item(), a.any() or a.all().\"\u001b[0m\u001b[0;34m\u001b[0m\u001b[0;34m\u001b[0m\u001b[0m\n\u001b[1;32m   1469\u001b[0m         )\n",
      "\u001b[0;31mValueError\u001b[0m: The truth value of a DataFrame is ambiguous. Use a.empty, a.bool(), a.item(), a.any() or a.all()."
     ]
    }
   ],
   "source": [
    "results = {}\n",
    "for model in models:\n",
    "    model_results = []\n",
    "\n",
    "    #run = wandb.init(\n",
    "    #project=\"zindi-rmb\", \n",
    "    #job_type='model-evaluation',\n",
    "    #name=model.getModelName(),\n",
    "    #)\n",
    "\n",
    "    for category in tqdm(cpi_columns):\n",
    "        \n",
    "        intermediate_results = {'test': [], 'pred': []}\n",
    "        for i, (train_index, test_index) in enumerate(tscv.split(cpi[['date',category]])):\n",
    "            model.fit(model.getExtraData(), cpi[['date',category]].iloc[train_index])\n",
    "            intermediate_results['test'].append(*cpi[category].iloc[test_index].values)\n",
    "            intermediate_results['pred'].append(*model.predict(len(test_index)))\n",
    "        result = mean_squared_error(intermediate_results['test'], intermediate_results['pred'], squared=True)\n",
    "        model_results.append(result)\n",
    "        #run.log({f'{category}_rmse': result})\n",
    "        \n",
    "    results[model.getModelName()] = model_results\n",
    "    #run.finish()"
   ]
  },
  {
   "cell_type": "code",
   "execution_count": null,
   "metadata": {},
   "outputs": [],
   "source": [
    "results_df = pd.DataFrame(results, index=cpi_columns)"
   ]
  },
  {
   "cell_type": "code",
   "execution_count": 27,
   "metadata": {},
   "outputs": [
    {
     "data": {
      "text/html": [
       "<div>\n",
       "<style scoped>\n",
       "    .dataframe tbody tr th:only-of-type {\n",
       "        vertical-align: middle;\n",
       "    }\n",
       "\n",
       "    .dataframe tbody tr th {\n",
       "        vertical-align: top;\n",
       "    }\n",
       "\n",
       "    .dataframe thead th {\n",
       "        text-align: right;\n",
       "    }\n",
       "</style>\n",
       "<table border=\"1\" class=\"dataframe\">\n",
       "  <thead>\n",
       "    <tr style=\"text-align: right;\">\n",
       "      <th></th>\n",
       "      <th>HoltWinters_mul_mul_3</th>\n",
       "      <th>HoltWinters_mul_mul_12</th>\n",
       "      <th>Prophet_0.8_20_10_all_data</th>\n",
       "      <th>Prophet_0.8_20_5_all_data</th>\n",
       "      <th>Prophet_0.8_20_1_all_data</th>\n",
       "    </tr>\n",
       "  </thead>\n",
       "  <tbody>\n",
       "    <tr>\n",
       "      <th>Food and non-alcoholic beverages</th>\n",
       "      <td>0.279978</td>\n",
       "      <td>0.302754</td>\n",
       "      <td>1.734377</td>\n",
       "      <td>1.715201</td>\n",
       "      <td>1.583701</td>\n",
       "    </tr>\n",
       "    <tr>\n",
       "      <th>Alcoholic beverages and tobacco</th>\n",
       "      <td>1.396474</td>\n",
       "      <td>1.315842</td>\n",
       "      <td>0.463190</td>\n",
       "      <td>0.450700</td>\n",
       "      <td>0.374712</td>\n",
       "    </tr>\n",
       "    <tr>\n",
       "      <th>Clothing and footwear</th>\n",
       "      <td>0.040127</td>\n",
       "      <td>0.057959</td>\n",
       "      <td>0.058982</td>\n",
       "      <td>0.058933</td>\n",
       "      <td>0.058465</td>\n",
       "    </tr>\n",
       "    <tr>\n",
       "      <th>Housing and utilities</th>\n",
       "      <td>0.048587</td>\n",
       "      <td>0.082020</td>\n",
       "      <td>0.065826</td>\n",
       "      <td>0.064671</td>\n",
       "      <td>0.056303</td>\n",
       "    </tr>\n",
       "    <tr>\n",
       "      <th>Household contents and services</th>\n",
       "      <td>0.144252</td>\n",
       "      <td>0.609880</td>\n",
       "      <td>0.652231</td>\n",
       "      <td>0.648549</td>\n",
       "      <td>0.617620</td>\n",
       "    </tr>\n",
       "    <tr>\n",
       "      <th>Health</th>\n",
       "      <td>0.139650</td>\n",
       "      <td>1.561790</td>\n",
       "      <td>0.193350</td>\n",
       "      <td>0.189423</td>\n",
       "      <td>0.159014</td>\n",
       "    </tr>\n",
       "    <tr>\n",
       "      <th>Transport</th>\n",
       "      <td>1.190615</td>\n",
       "      <td>0.993237</td>\n",
       "      <td>0.848646</td>\n",
       "      <td>0.851271</td>\n",
       "      <td>0.873540</td>\n",
       "    </tr>\n",
       "    <tr>\n",
       "      <th>Communication</th>\n",
       "      <td>0.021086</td>\n",
       "      <td>0.049935</td>\n",
       "      <td>1.585432</td>\n",
       "      <td>1.547562</td>\n",
       "      <td>1.261882</td>\n",
       "    </tr>\n",
       "    <tr>\n",
       "      <th>Recreation and culture</th>\n",
       "      <td>0.276863</td>\n",
       "      <td>0.159444</td>\n",
       "      <td>0.198070</td>\n",
       "      <td>0.196800</td>\n",
       "      <td>0.186636</td>\n",
       "    </tr>\n",
       "    <tr>\n",
       "      <th>Education</th>\n",
       "      <td>12.302386</td>\n",
       "      <td>3.251773</td>\n",
       "      <td>0.145554</td>\n",
       "      <td>0.145952</td>\n",
       "      <td>0.149051</td>\n",
       "    </tr>\n",
       "    <tr>\n",
       "      <th>Restaurants and hotels</th>\n",
       "      <td>1.571599</td>\n",
       "      <td>1.018849</td>\n",
       "      <td>1.320615</td>\n",
       "      <td>1.297265</td>\n",
       "      <td>1.086808</td>\n",
       "    </tr>\n",
       "    <tr>\n",
       "      <th>Miscellaneous goods and services</th>\n",
       "      <td>0.280572</td>\n",
       "      <td>1.051033</td>\n",
       "      <td>0.849941</td>\n",
       "      <td>0.846938</td>\n",
       "      <td>0.814750</td>\n",
       "    </tr>\n",
       "    <tr>\n",
       "      <th>headline CPI</th>\n",
       "      <td>0.176106</td>\n",
       "      <td>0.227841</td>\n",
       "      <td>0.107447</td>\n",
       "      <td>0.107258</td>\n",
       "      <td>0.105175</td>\n",
       "    </tr>\n",
       "  </tbody>\n",
       "</table>\n",
       "</div>"
      ],
      "text/plain": [
       "                                  HoltWinters_mul_mul_3  \\\n",
       "Food and non-alcoholic beverages               0.279978   \n",
       "Alcoholic beverages and tobacco                1.396474   \n",
       "Clothing and footwear                          0.040127   \n",
       "Housing and utilities                          0.048587   \n",
       "Household contents and services                0.144252   \n",
       "Health                                         0.139650   \n",
       "Transport                                      1.190615   \n",
       "Communication                                  0.021086   \n",
       "Recreation and culture                         0.276863   \n",
       "Education                                     12.302386   \n",
       "Restaurants and hotels                         1.571599   \n",
       "Miscellaneous goods and services               0.280572   \n",
       "headline CPI                                   0.176106   \n",
       "\n",
       "                                  HoltWinters_mul_mul_12  \\\n",
       "Food and non-alcoholic beverages                0.302754   \n",
       "Alcoholic beverages and tobacco                 1.315842   \n",
       "Clothing and footwear                           0.057959   \n",
       "Housing and utilities                           0.082020   \n",
       "Household contents and services                 0.609880   \n",
       "Health                                          1.561790   \n",
       "Transport                                       0.993237   \n",
       "Communication                                   0.049935   \n",
       "Recreation and culture                          0.159444   \n",
       "Education                                       3.251773   \n",
       "Restaurants and hotels                          1.018849   \n",
       "Miscellaneous goods and services                1.051033   \n",
       "headline CPI                                    0.227841   \n",
       "\n",
       "                                  Prophet_0.8_20_10_all_data  \\\n",
       "Food and non-alcoholic beverages                    1.734377   \n",
       "Alcoholic beverages and tobacco                     0.463190   \n",
       "Clothing and footwear                               0.058982   \n",
       "Housing and utilities                               0.065826   \n",
       "Household contents and services                     0.652231   \n",
       "Health                                              0.193350   \n",
       "Transport                                           0.848646   \n",
       "Communication                                       1.585432   \n",
       "Recreation and culture                              0.198070   \n",
       "Education                                           0.145554   \n",
       "Restaurants and hotels                              1.320615   \n",
       "Miscellaneous goods and services                    0.849941   \n",
       "headline CPI                                        0.107447   \n",
       "\n",
       "                                  Prophet_0.8_20_5_all_data  \\\n",
       "Food and non-alcoholic beverages                   1.715201   \n",
       "Alcoholic beverages and tobacco                    0.450700   \n",
       "Clothing and footwear                              0.058933   \n",
       "Housing and utilities                              0.064671   \n",
       "Household contents and services                    0.648549   \n",
       "Health                                             0.189423   \n",
       "Transport                                          0.851271   \n",
       "Communication                                      1.547562   \n",
       "Recreation and culture                             0.196800   \n",
       "Education                                          0.145952   \n",
       "Restaurants and hotels                             1.297265   \n",
       "Miscellaneous goods and services                   0.846938   \n",
       "headline CPI                                       0.107258   \n",
       "\n",
       "                                  Prophet_0.8_20_1_all_data  \n",
       "Food and non-alcoholic beverages                   1.583701  \n",
       "Alcoholic beverages and tobacco                    0.374712  \n",
       "Clothing and footwear                              0.058465  \n",
       "Housing and utilities                              0.056303  \n",
       "Household contents and services                    0.617620  \n",
       "Health                                             0.159014  \n",
       "Transport                                          0.873540  \n",
       "Communication                                      1.261882  \n",
       "Recreation and culture                             0.186636  \n",
       "Education                                          0.149051  \n",
       "Restaurants and hotels                             1.086808  \n",
       "Miscellaneous goods and services                   0.814750  \n",
       "headline CPI                                       0.105175  "
      ]
     },
     "execution_count": 27,
     "metadata": {},
     "output_type": "execute_result"
    }
   ],
   "source": [
    "results_df"
   ]
  },
  {
   "cell_type": "code",
   "execution_count": 32,
   "metadata": {},
   "outputs": [
    {
     "data": {
      "application/vnd.jupyter.widget-view+json": {
       "model_id": "5152cbfaf226481dbeb291914d48b014",
       "version_major": 2,
       "version_minor": 0
      },
      "text/plain": [
       "VBox(children=(Label(value='Waiting for wandb.init()...\\r'), FloatProgress(value=0.017143928233417684, max=1.0…"
      ]
     },
     "metadata": {},
     "output_type": "display_data"
    },
    {
     "data": {
      "text/html": [
       "wandb version 0.15.8 is available!  To upgrade, please run:\n",
       " $ pip install wandb --upgrade"
      ],
      "text/plain": [
       "<IPython.core.display.HTML object>"
      ]
     },
     "metadata": {},
     "output_type": "display_data"
    },
    {
     "data": {
      "text/html": [
       "Tracking run with wandb version 0.15.4"
      ],
      "text/plain": [
       "<IPython.core.display.HTML object>"
      ]
     },
     "metadata": {},
     "output_type": "display_data"
    },
    {
     "data": {
      "text/html": [
       "Run data is saved locally in <code>/Users/janfaber/workspace/zindi/rmb_nowcast/zindi_rmb/wandb/run-20230811_092449-l7ax7dq3</code>"
      ],
      "text/plain": [
       "<IPython.core.display.HTML object>"
      ]
     },
     "metadata": {},
     "output_type": "display_data"
    },
    {
     "data": {
      "text/html": [
       "Syncing run <strong><a href='https://wandb.ai/pluto_is_a_planet/zindi-rmb/runs/l7ax7dq3' target=\"_blank\">easy-bird-6</a></strong> to <a href='https://wandb.ai/pluto_is_a_planet/zindi-rmb' target=\"_blank\">Weights & Biases</a> (<a href='https://wandb.me/run' target=\"_blank\">docs</a>)<br/>"
      ],
      "text/plain": [
       "<IPython.core.display.HTML object>"
      ]
     },
     "metadata": {},
     "output_type": "display_data"
    },
    {
     "data": {
      "text/html": [
       " View project at <a href='https://wandb.ai/pluto_is_a_planet/zindi-rmb' target=\"_blank\">https://wandb.ai/pluto_is_a_planet/zindi-rmb</a>"
      ],
      "text/plain": [
       "<IPython.core.display.HTML object>"
      ]
     },
     "metadata": {},
     "output_type": "display_data"
    },
    {
     "data": {
      "text/html": [
       " View run at <a href='https://wandb.ai/pluto_is_a_planet/zindi-rmb/runs/l7ax7dq3' target=\"_blank\">https://wandb.ai/pluto_is_a_planet/zindi-rmb/runs/l7ax7dq3</a>"
      ],
      "text/plain": [
       "<IPython.core.display.HTML object>"
      ]
     },
     "metadata": {},
     "output_type": "display_data"
    },
    {
     "data": {
      "text/html": [
       "Waiting for W&B process to finish... <strong style=\"color:green\">(success).</strong>"
      ],
      "text/plain": [
       "<IPython.core.display.HTML object>"
      ]
     },
     "metadata": {},
     "output_type": "display_data"
    },
    {
     "data": {
      "text/html": [
       " View run <strong style=\"color:#cdcd00\">easy-bird-6</strong> at: <a href='https://wandb.ai/pluto_is_a_planet/zindi-rmb/runs/l7ax7dq3' target=\"_blank\">https://wandb.ai/pluto_is_a_planet/zindi-rmb/runs/l7ax7dq3</a><br/>Synced 5 W&B file(s), 1 media file(s), 1 artifact file(s) and 0 other file(s)"
      ],
      "text/plain": [
       "<IPython.core.display.HTML object>"
      ]
     },
     "metadata": {},
     "output_type": "display_data"
    },
    {
     "data": {
      "text/html": [
       "Find logs at: <code>./wandb/run-20230811_092449-l7ax7dq3/logs</code>"
      ],
      "text/plain": [
       "<IPython.core.display.HTML object>"
      ]
     },
     "metadata": {},
     "output_type": "display_data"
    }
   ],
   "source": [
    "for row in results_table:\n",
    "    \n",
    "run.log({\"results_table\": results_table})\n",
    "wandb.finish()"
   ]
  },
  {
   "cell_type": "code",
   "execution_count": 1236,
   "metadata": {},
   "outputs": [
    {
     "data": {
      "text/plain": [
       "Food and non-alcoholic beverages         HoltWinters_mul_mul_3\n",
       "Alcoholic beverages and tobacco      Prophet_0.8_20_1_all_data\n",
       "Clothing and footwear                    HoltWinters_mul_mul_3\n",
       "Housing and utilities                    HoltWinters_mul_mul_3\n",
       "Household contents and services          HoltWinters_mul_mul_3\n",
       "Health                                   HoltWinters_mul_mul_3\n",
       "Transport                           Prophet_0.8_20_10_all_data\n",
       "Communication                            HoltWinters_mul_mul_3\n",
       "Recreation and culture                  HoltWinters_mul_mul_12\n",
       "Education                           Prophet_0.8_20_10_all_data\n",
       "Restaurants and hotels                  HoltWinters_mul_mul_12\n",
       "Miscellaneous goods and services         HoltWinters_mul_mul_3\n",
       "headline CPI                         Prophet_0.8_20_1_all_data\n",
       "dtype: object"
      ]
     },
     "execution_count": 1236,
     "metadata": {},
     "output_type": "execute_result"
    }
   ],
   "source": [
    "results_df.T.apply(lambda x: x.idxmin())"
   ]
  },
  {
   "cell_type": "code",
   "execution_count": 1237,
   "metadata": {},
   "outputs": [
    {
     "data": {
      "text/plain": [
       "{'Food and non-alcoholic beverages': 'HoltWinters_mul_mul_3',\n",
       " 'Alcoholic beverages and tobacco': 'Prophet_0.8_20_1_all_data',\n",
       " 'Clothing and footwear': 'HoltWinters_mul_mul_3',\n",
       " 'Housing and utilities': 'HoltWinters_mul_mul_3',\n",
       " 'Household contents and services': 'HoltWinters_mul_mul_3',\n",
       " 'Health': 'HoltWinters_mul_mul_3',\n",
       " 'Transport': 'Prophet_0.8_20_10_all_data',\n",
       " 'Communication': 'HoltWinters_mul_mul_3',\n",
       " 'Recreation and culture': 'HoltWinters_mul_mul_12',\n",
       " 'Education': 'Prophet_0.8_20_10_all_data',\n",
       " 'Restaurants and hotels': 'HoltWinters_mul_mul_12',\n",
       " 'Miscellaneous goods and services': 'HoltWinters_mul_mul_3',\n",
       " 'headline CPI': 'Prophet_0.8_20_1_all_data'}"
      ]
     },
     "execution_count": 1237,
     "metadata": {},
     "output_type": "execute_result"
    }
   ],
   "source": [
    "best_model_table = dict(results_df.T.apply(lambda x: x.idxmin()))\n",
    "best_model_table"
   ]
  },
  {
   "cell_type": "code",
   "execution_count": null,
   "metadata": {},
   "outputs": [],
   "source": []
  },
  {
   "cell_type": "code",
   "execution_count": 1238,
   "metadata": {},
   "outputs": [],
   "source": [
    "model_table  = {}\n",
    "for model in models:\n",
    "    model_table[model.getModelName()] = copy.deepcopy(model)"
   ]
  },
  {
   "cell_type": "code",
   "execution_count": 1239,
   "metadata": {},
   "outputs": [
    {
     "name": "stdout",
     "output_type": "stream",
     "text": [
      "Food and non-alcoholic beverages 118.81949013743544\n",
      "Alcoholic beverages and tobacco 110.22999016843492\n",
      "Clothing and footwear 104.21454535553313\n",
      "Housing and utilities 105.01532047698115\n",
      "Household contents and services 108.66879149450351\n",
      "Health 110.56711829642482\n",
      "Transport 113.32753879985505\n",
      "Communication 99.72713806788413\n",
      "Recreation and culture 105.03463768673795\n",
      "Education 109.85981825617479\n",
      "Restaurants and hotels 110.47162473665041\n",
      "Miscellaneous goods and services 109.8398989752175\n",
      "headline CPI 110.08727878587953\n"
     ]
    }
   ],
   "source": [
    "results_table = {}\n",
    "for entry in best_model_table:\n",
    "    model_table[best_model_table[entry]].fit(model.getExtraData(), cpi[['date',str(entry)]])\n",
    "    print(f\"{entry} {model_table[best_model_table[entry]].predict([1])[0]}\")\n",
    "    results_table[entry] = model_table[best_model_table[entry]].predict([1])[0]"
   ]
  },
  {
   "cell_type": "code",
   "execution_count": 1240,
   "metadata": {},
   "outputs": [
    {
     "data": {
      "text/plain": [
       "{'Food and non-alcoholic beverages': 118.81949013743544,\n",
       " 'Alcoholic beverages and tobacco': 110.22999016843492,\n",
       " 'Clothing and footwear': 104.21454535553313,\n",
       " 'Housing and utilities': 105.01532047698115,\n",
       " 'Household contents and services': 108.66879149450351,\n",
       " 'Health': 110.56711829642482,\n",
       " 'Transport': 113.32753879985505,\n",
       " 'Communication': 99.72713806788413,\n",
       " 'Recreation and culture': 105.03463768673795,\n",
       " 'Education': 109.85981825617479,\n",
       " 'Restaurants and hotels': 110.47162473665041,\n",
       " 'Miscellaneous goods and services': 109.8398989752175,\n",
       " 'headline CPI': 110.08727878587953}"
      ]
     },
     "execution_count": 1240,
     "metadata": {},
     "output_type": "execute_result"
    }
   ],
   "source": [
    "results_table"
   ]
  },
  {
   "cell_type": "code",
   "execution_count": 1241,
   "metadata": {},
   "outputs": [],
   "source": [
    "june_cpi = {'Food and non-alcoholic beverages': 118.3,\n",
    " 'Alcoholic beverages and tobacco': 110.9,\n",
    " 'Clothing and footwear': 104.3,\n",
    " 'Housing and utilities': 105.4,\n",
    " 'Household contents and services': 107.7,\n",
    " 'Health': 110.8,\n",
    " 'Transport': 112.3,\n",
    " 'Communication': 99.3,\n",
    " 'Recreation and culture': 105.3,\n",
    " 'Education': 110.4,\n",
    " 'Restaurants and hotels': 110.0,\n",
    " 'Miscellaneous goods and services': 109.6,\n",
    " 'headline CPI': 109.8}"
   ]
  },
  {
   "cell_type": "code",
   "execution_count": 1242,
   "metadata": {},
   "outputs": [
    {
     "data": {
      "text/plain": [
       "0.5427750459028214"
      ]
     },
     "execution_count": 1242,
     "metadata": {},
     "output_type": "execute_result"
    }
   ],
   "source": [
    "mean_squared_error(list(results_table.values()),list(june_cpi.values()),squared=False)"
   ]
  },
  {
   "cell_type": "code",
   "execution_count": 1243,
   "metadata": {},
   "outputs": [
    {
     "data": {
      "text/html": [
       "<div>\n",
       "<style scoped>\n",
       "    .dataframe tbody tr th:only-of-type {\n",
       "        vertical-align: middle;\n",
       "    }\n",
       "\n",
       "    .dataframe tbody tr th {\n",
       "        vertical-align: top;\n",
       "    }\n",
       "\n",
       "    .dataframe thead th {\n",
       "        text-align: right;\n",
       "    }\n",
       "</style>\n",
       "<table border=\"1\" class=\"dataframe\">\n",
       "  <thead>\n",
       "    <tr style=\"text-align: right;\">\n",
       "      <th></th>\n",
       "      <th>Unnamed: 0</th>\n",
       "      <th>index</th>\n",
       "      <th>Food and non-alcoholic beverages</th>\n",
       "      <th>Alcoholic beverages and tobacco</th>\n",
       "      <th>Clothing and footwear</th>\n",
       "      <th>Housing and utilities</th>\n",
       "      <th>Household contents and services</th>\n",
       "      <th>Health</th>\n",
       "      <th>Transport</th>\n",
       "      <th>Communication</th>\n",
       "      <th>Recreation and culture</th>\n",
       "      <th>Education</th>\n",
       "      <th>Restaurants and hotels</th>\n",
       "      <th>Miscellaneous goods and services</th>\n",
       "      <th>headline CPI</th>\n",
       "      <th>date</th>\n",
       "      <th>fuel_price</th>\n",
       "      <th>sabor</th>\n",
       "    </tr>\n",
       "  </thead>\n",
       "  <tbody>\n",
       "    <tr>\n",
       "      <th>78</th>\n",
       "      <td>76</td>\n",
       "      <td>cpi_M202305</td>\n",
       "      <td>117.7</td>\n",
       "      <td>110.6</td>\n",
       "      <td>104.1</td>\n",
       "      <td>104.6</td>\n",
       "      <td>107.5</td>\n",
       "      <td>110.3</td>\n",
       "      <td>113.3</td>\n",
       "      <td>99.7</td>\n",
       "      <td>104.8</td>\n",
       "      <td>110.4</td>\n",
       "      <td>110.5</td>\n",
       "      <td>109.4</td>\n",
       "      <td>109.6</td>\n",
       "      <td>2023-05</td>\n",
       "      <td>22.29</td>\n",
       "      <td>7.804391</td>\n",
       "    </tr>\n",
       "  </tbody>\n",
       "</table>\n",
       "</div>"
      ],
      "text/plain": [
       "    Unnamed: 0        index  Food and non-alcoholic beverages  \\\n",
       "78          76  cpi_M202305                             117.7   \n",
       "\n",
       "    Alcoholic beverages and tobacco  Clothing and footwear  \\\n",
       "78                            110.6                  104.1   \n",
       "\n",
       "    Housing and utilities  Household contents and services  Health  Transport  \\\n",
       "78                  104.6                            107.5   110.3      113.3   \n",
       "\n",
       "    Communication  Recreation and culture  Education  Restaurants and hotels  \\\n",
       "78           99.7                   104.8      110.4                   110.5   \n",
       "\n",
       "    Miscellaneous goods and services  headline CPI     date  fuel_price  \\\n",
       "78                             109.4         109.6  2023-05       22.29   \n",
       "\n",
       "       sabor  \n",
       "78  7.804391  "
      ]
     },
     "execution_count": 1243,
     "metadata": {},
     "output_type": "execute_result"
    }
   ],
   "source": [
    "cpi[cpi['date'] == '2023-05']"
   ]
  },
  {
   "cell_type": "code",
   "execution_count": 1136,
   "metadata": {},
   "outputs": [
    {
     "data": {
      "text/plain": [
       "['Food and non-alcoholic beverages',\n",
       " 'Alcoholic beverages and tobacco',\n",
       " 'Clothing and footwear',\n",
       " 'Housing and utilities',\n",
       " 'Household contents and services',\n",
       " 'Health',\n",
       " 'Transport',\n",
       " 'Communication',\n",
       " 'Recreation and culture',\n",
       " 'Education',\n",
       " 'Restaurants and hotels',\n",
       " 'Miscellaneous goods and services',\n",
       " 'headline CPI',\n",
       " 'date',\n",
       " 'fuel_price']"
      ]
     },
     "execution_count": 1136,
     "metadata": {},
     "output_type": "execute_result"
    }
   ],
   "source": [
    "list(cpi.columns[2:-1])"
   ]
  },
  {
   "cell_type": "code",
   "execution_count": 980,
   "metadata": {},
   "outputs": [
    {
     "data": {
      "text/plain": [
       "{'HoltWinters_mul_mul_6': HoltWintersWrapper(seasonal_periods=6),\n",
       " 'HoltWinters_mul_mul_3': HoltWintersWrapper(seasonal_periods=3),\n",
       " 'HoltWinters_mul_mul_12': HoltWintersWrapper(),\n",
       " 'HoltWinters_mul_mul_18': HoltWintersWrapper(seasonal_periods=18),\n",
       " 'HoltWinters_mul_mul_24': HoltWintersWrapper(seasonal_periods=24),\n",
       " 'Prophet_0.8_20_0.05_fuel': ProphetWrapper(extra_data=        date  fuel_price\n",
       " 0    2023-07       21.34\n",
       " 1    2023-06       21.58\n",
       " 2    2023-05       22.29\n",
       " 3    2023-04       21.92\n",
       " 4    2023-03       22.00\n",
       " ..       ...         ...\n",
       " 180  2008-05        9.29\n",
       " 181  2008-04        8.74\n",
       " 182  2008-03        8.07\n",
       " 183  2008-02        7.46\n",
       " 184  2008-01        7.29\n",
       " \n",
       " [185 rows x 2 columns],\n",
       "                name_postfix='_fuel'),\n",
       " 'Prophet_0.9_5_10_fuel': ProphetWrapper(changepoint_prior_scale=10, changepoint_range=0.9,\n",
       "                extra_data=        date  fuel_price\n",
       " 0    2023-07       21.34\n",
       " 1    2023-06       21.58\n",
       " 2    2023-05       22.29\n",
       " 3    2023-04       21.92\n",
       " 4    2023-03       22.00\n",
       " ..       ...         ...\n",
       " 180  2008-05        9.29\n",
       " 181  2008-04        8.74\n",
       " 182  2008-03        8.07\n",
       " 183  2008-02        7.46\n",
       " 184  2008-01        7.29\n",
       " \n",
       " [185 rows x 2 columns],\n",
       "                n_changepoints=5, name_postfix='_fuel'),\n",
       " 'Prophet_1_5_0.5_fuel': ProphetWrapper(changepoint_prior_scale=0.5, changepoint_range=1,\n",
       "                extra_data=        date  fuel_price\n",
       " 0    2023-07       21.34\n",
       " 1    2023-06       21.58\n",
       " 2    2023-05       22.29\n",
       " 3    2023-04       21.92\n",
       " 4    2023-03       22.00\n",
       " ..       ...         ...\n",
       " 180  2008-05        9.29\n",
       " 181  2008-04        8.74\n",
       " 182  2008-03        8.07\n",
       " 183  2008-02        7.46\n",
       " 184  2008-01        7.29\n",
       " \n",
       " [185 rows x 2 columns],\n",
       "                n_changepoints=5, name_postfix='_fuel'),\n",
       " 'Prophet_0.8_20_10_fuel': ProphetWrapper(changepoint_prior_scale=10,\n",
       "                extra_data=        date  fuel_price\n",
       " 0    2023-07       21.34\n",
       " 1    2023-06       21.58\n",
       " 2    2023-05       22.29\n",
       " 3    2023-04       21.92\n",
       " 4    2023-03       22.00\n",
       " ..       ...         ...\n",
       " 180  2008-05        9.29\n",
       " 181  2008-04        8.74\n",
       " 182  2008-03        8.07\n",
       " 183  2008-02        7.46\n",
       " 184  2008-01        7.29\n",
       " \n",
       " [185 rows x 2 columns],\n",
       "                name_postfix='_fuel'),\n",
       " 'Prophet_0.9_20_10_fuel': ProphetWrapper(changepoint_prior_scale=10, changepoint_range=0.9,\n",
       "                extra_data=        date  fuel_price\n",
       " 0    2023-07       21.34\n",
       " 1    2023-06       21.58\n",
       " 2    2023-05       22.29\n",
       " 3    2023-04       21.92\n",
       " 4    2023-03       22.00\n",
       " ..       ...         ...\n",
       " 180  2008-05        9.29\n",
       " 181  2008-04        8.74\n",
       " 182  2008-03        8.07\n",
       " 183  2008-02        7.46\n",
       " 184  2008-01        7.29\n",
       " \n",
       " [185 rows x 2 columns],\n",
       "                name_postfix='_fuel'),\n",
       " 'Prophet_0.9_20_10_fuel_offset': ProphetWrapper(changepoint_prior_scale=10, changepoint_range=0.9,\n",
       "                extra_data=        date  fuel_price\n",
       " 0    2023-08       21.34\n",
       " 1    2023-07       21.58\n",
       " 2    2023-06       22.29\n",
       " 3    2023-05       21.92\n",
       " 4    2023-04       22.00\n",
       " ..       ...         ...\n",
       " 180  2008-06        9.29\n",
       " 181  2008-05        8.74\n",
       " 182  2008-04        8.07\n",
       " 183  2008-03        7.46\n",
       " 184  2008-02        7.29\n",
       " \n",
       " [185 rows x 2 columns],\n",
       "                name_postfix='_fuel_offset'),\n",
       " 'Prophet_0.9_20_10_fuel_offset_2': ProphetWrapper(changepoint_prior_scale=10, changepoint_range=0.9,\n",
       "                extra_data=        date  fuel_price\n",
       " 0    2023-09       21.34\n",
       " 1    2023-08       21.58\n",
       " 2    2023-07       22.29\n",
       " 3    2023-06       21.92\n",
       " 4    2023-05       22.00\n",
       " ..       ...         ...\n",
       " 180  2008-07        9.29\n",
       " 181  2008-06        8.74\n",
       " 182  2008-05        8.07\n",
       " 183  2008-04        7.46\n",
       " 184  2008-03        7.29\n",
       " \n",
       " [185 rows x 2 columns],\n",
       "                name_postfix='_fuel_offset_2'),\n",
       " 'Prophet_0.9_20_10_fuel_offset_3': ProphetWrapper(changepoint_prior_scale=10, changepoint_range=0.9,\n",
       "                extra_data=        date  fuel_price\n",
       " 0    2023-10       21.34\n",
       " 1    2023-09       21.58\n",
       " 2    2023-08       22.29\n",
       " 3    2023-07       21.92\n",
       " 4    2023-06       22.00\n",
       " ..       ...         ...\n",
       " 180  2008-08        9.29\n",
       " 181  2008-07        8.74\n",
       " 182  2008-06        8.07\n",
       " 183  2008-05        7.46\n",
       " 184  2008-04        7.29\n",
       " \n",
       " [185 rows x 2 columns],\n",
       "                name_postfix='_fuel_offset_3'),\n",
       " 'Prophet_0.8_20_0.05_sabor': ProphetWrapper(extra_data=        date      sabor\n",
       " 0    2007-08   9.358478\n",
       " 1    2007-09   9.596100\n",
       " 2    2007-10   9.914913\n",
       " 3    2007-11  10.120636\n",
       " 4    2007-12  10.508286\n",
       " ..       ...        ...\n",
       " 186  2023-02   7.211850\n",
       " 187  2023-03   7.223304\n",
       " 188  2023-04   7.713450\n",
       " 189  2023-05   7.804391\n",
       " 190  2023-06   8.218091\n",
       " \n",
       " [191 rows x 2 columns],\n",
       "                name_postfix='_sabor'),\n",
       " 'Prophet_0.8_20_0.05': ProphetWrapper()}"
      ]
     },
     "execution_count": 980,
     "metadata": {},
     "output_type": "execute_result"
    }
   ],
   "source": [
    "model_table"
   ]
  },
  {
   "cell_type": "code",
   "execution_count": null,
   "metadata": {},
   "outputs": [],
   "source": []
  },
  {
   "cell_type": "code",
   "execution_count": 981,
   "metadata": {},
   "outputs": [
    {
     "data": {
      "text/plain": [
       "True"
      ]
     },
     "execution_count": 981,
     "metadata": {},
     "output_type": "execute_result"
    }
   ],
   "source": [
    "type(pd.DataFrame({})) == pd.core.frame.DataFrame"
   ]
  },
  {
   "cell_type": "code",
   "execution_count": 982,
   "metadata": {},
   "outputs": [
    {
     "data": {
      "text/html": [
       "<div>\n",
       "<style scoped>\n",
       "    .dataframe tbody tr th:only-of-type {\n",
       "        vertical-align: middle;\n",
       "    }\n",
       "\n",
       "    .dataframe tbody tr th {\n",
       "        vertical-align: top;\n",
       "    }\n",
       "\n",
       "    .dataframe thead th {\n",
       "        text-align: right;\n",
       "    }\n",
       "</style>\n",
       "<table border=\"1\" class=\"dataframe\">\n",
       "  <thead>\n",
       "    <tr style=\"text-align: right;\">\n",
       "      <th></th>\n",
       "      <th>date</th>\n",
       "      <th>fuel_price</th>\n",
       "    </tr>\n",
       "  </thead>\n",
       "  <tbody>\n",
       "    <tr>\n",
       "      <th>0</th>\n",
       "      <td>2023-07</td>\n",
       "      <td>21.34</td>\n",
       "    </tr>\n",
       "    <tr>\n",
       "      <th>1</th>\n",
       "      <td>2023-06</td>\n",
       "      <td>21.58</td>\n",
       "    </tr>\n",
       "    <tr>\n",
       "      <th>2</th>\n",
       "      <td>2023-05</td>\n",
       "      <td>22.29</td>\n",
       "    </tr>\n",
       "    <tr>\n",
       "      <th>3</th>\n",
       "      <td>2023-04</td>\n",
       "      <td>21.92</td>\n",
       "    </tr>\n",
       "    <tr>\n",
       "      <th>4</th>\n",
       "      <td>2023-03</td>\n",
       "      <td>22.00</td>\n",
       "    </tr>\n",
       "    <tr>\n",
       "      <th>...</th>\n",
       "      <td>...</td>\n",
       "      <td>...</td>\n",
       "    </tr>\n",
       "    <tr>\n",
       "      <th>180</th>\n",
       "      <td>2008-05</td>\n",
       "      <td>9.29</td>\n",
       "    </tr>\n",
       "    <tr>\n",
       "      <th>181</th>\n",
       "      <td>2008-04</td>\n",
       "      <td>8.74</td>\n",
       "    </tr>\n",
       "    <tr>\n",
       "      <th>182</th>\n",
       "      <td>2008-03</td>\n",
       "      <td>8.07</td>\n",
       "    </tr>\n",
       "    <tr>\n",
       "      <th>183</th>\n",
       "      <td>2008-02</td>\n",
       "      <td>7.46</td>\n",
       "    </tr>\n",
       "    <tr>\n",
       "      <th>184</th>\n",
       "      <td>2008-01</td>\n",
       "      <td>7.29</td>\n",
       "    </tr>\n",
       "  </tbody>\n",
       "</table>\n",
       "<p>185 rows × 2 columns</p>\n",
       "</div>"
      ],
      "text/plain": [
       "        date  fuel_price\n",
       "0    2023-07       21.34\n",
       "1    2023-06       21.58\n",
       "2    2023-05       22.29\n",
       "3    2023-04       21.92\n",
       "4    2023-03       22.00\n",
       "..       ...         ...\n",
       "180  2008-05        9.29\n",
       "181  2008-04        8.74\n",
       "182  2008-03        8.07\n",
       "183  2008-02        7.46\n",
       "184  2008-01        7.29\n",
       "\n",
       "[185 rows x 2 columns]"
      ]
     },
     "execution_count": 982,
     "metadata": {},
     "output_type": "execute_result"
    }
   ],
   "source": [
    "fuel_df"
   ]
  },
  {
   "cell_type": "code",
   "execution_count": 983,
   "metadata": {},
   "outputs": [
    {
     "data": {
      "text/plain": [
       "<Axes: >"
      ]
     },
     "execution_count": 983,
     "metadata": {},
     "output_type": "execute_result"
    },
    {
     "data": {
      "image/png": "[encoded data removed]",
      "text/plain": [
       "<Figure size 640x480 with 1 Axes>"
      ]
     },
     "metadata": {},
     "output_type": "display_data"
    }
   ],
   "source": [
    "cpi[\"Transport\"].plot()"
   ]
  },
  {
   "cell_type": "code",
   "execution_count": 1244,
   "metadata": {},
   "outputs": [],
   "source": [
    "ph = model_table[best_model_table[\"Transport\"]].fit(model.getExtraData(), cpi[['date','Transport']])"
   ]
  },
  {
   "cell_type": "code",
   "execution_count": 1245,
   "metadata": {},
   "outputs": [
    {
     "data": {
      "text/plain": [
       "array([113.3275388])"
      ]
     },
     "execution_count": 1245,
     "metadata": {},
     "output_type": "execute_result"
    }
   ],
   "source": [
    "model_table[best_model_table[\"Transport\"]].predict([2])"
   ]
  },
  {
   "cell_type": "code",
   "execution_count": 1246,
   "metadata": {},
   "outputs": [],
   "source": [
    "ph = ph.model_"
   ]
  },
  {
   "cell_type": "code",
   "execution_count": 1262,
   "metadata": {},
   "outputs": [],
   "source": [
    "future = ph.make_future_dataframe(periods=2, freq='MS')"
   ]
  },
  {
   "cell_type": "code",
   "execution_count": 1263,
   "metadata": {},
   "outputs": [
    {
     "data": {
      "text/html": [
       "<div>\n",
       "<style scoped>\n",
       "    .dataframe tbody tr th:only-of-type {\n",
       "        vertical-align: middle;\n",
       "    }\n",
       "\n",
       "    .dataframe tbody tr th {\n",
       "        vertical-align: top;\n",
       "    }\n",
       "\n",
       "    .dataframe thead th {\n",
       "        text-align: right;\n",
       "    }\n",
       "</style>\n",
       "<table border=\"1\" class=\"dataframe\">\n",
       "  <thead>\n",
       "    <tr style=\"text-align: right;\">\n",
       "      <th></th>\n",
       "      <th>ds</th>\n",
       "    </tr>\n",
       "  </thead>\n",
       "  <tbody>\n",
       "    <tr>\n",
       "      <th>0</th>\n",
       "      <td>2018-01-01</td>\n",
       "    </tr>\n",
       "    <tr>\n",
       "      <th>1</th>\n",
       "      <td>2018-02-01</td>\n",
       "    </tr>\n",
       "    <tr>\n",
       "      <th>2</th>\n",
       "      <td>2018-03-01</td>\n",
       "    </tr>\n",
       "    <tr>\n",
       "      <th>3</th>\n",
       "      <td>2018-04-01</td>\n",
       "    </tr>\n",
       "    <tr>\n",
       "      <th>4</th>\n",
       "      <td>2018-05-01</td>\n",
       "    </tr>\n",
       "    <tr>\n",
       "      <th>...</th>\n",
       "      <td>...</td>\n",
       "    </tr>\n",
       "    <tr>\n",
       "      <th>62</th>\n",
       "      <td>2023-03-01</td>\n",
       "    </tr>\n",
       "    <tr>\n",
       "      <th>63</th>\n",
       "      <td>2023-04-01</td>\n",
       "    </tr>\n",
       "    <tr>\n",
       "      <th>64</th>\n",
       "      <td>2023-05-01</td>\n",
       "    </tr>\n",
       "    <tr>\n",
       "      <th>65</th>\n",
       "      <td>2023-06-01</td>\n",
       "    </tr>\n",
       "    <tr>\n",
       "      <th>66</th>\n",
       "      <td>2023-07-01</td>\n",
       "    </tr>\n",
       "  </tbody>\n",
       "</table>\n",
       "<p>67 rows × 1 columns</p>\n",
       "</div>"
      ],
      "text/plain": [
       "           ds\n",
       "0  2018-01-01\n",
       "1  2018-02-01\n",
       "2  2018-03-01\n",
       "3  2018-04-01\n",
       "4  2018-05-01\n",
       "..        ...\n",
       "62 2023-03-01\n",
       "63 2023-04-01\n",
       "64 2023-05-01\n",
       "65 2023-06-01\n",
       "66 2023-07-01\n",
       "\n",
       "[67 rows x 1 columns]"
      ]
     },
     "execution_count": 1263,
     "metadata": {},
     "output_type": "execute_result"
    }
   ],
   "source": [
    "future"
   ]
  },
  {
   "cell_type": "code",
   "execution_count": 1264,
   "metadata": {},
   "outputs": [],
   "source": [
    "\n",
    "data = model.getExtraData()\n",
    "\n",
    "data = data.rename(columns={'date':'ds'})\n",
    "data['ds'] = pd.DatetimeIndex(data['ds'])\n",
    "\n",
    "future = pd.merge(future,data,on='ds')"
   ]
  },
  {
   "cell_type": "code",
   "execution_count": 1265,
   "metadata": {},
   "outputs": [
    {
     "data": {
      "text/html": [
       "<div>\n",
       "<style scoped>\n",
       "    .dataframe tbody tr th:only-of-type {\n",
       "        vertical-align: middle;\n",
       "    }\n",
       "\n",
       "    .dataframe tbody tr th {\n",
       "        vertical-align: top;\n",
       "    }\n",
       "\n",
       "    .dataframe thead th {\n",
       "        text-align: right;\n",
       "    }\n",
       "</style>\n",
       "<table border=\"1\" class=\"dataframe\">\n",
       "  <thead>\n",
       "    <tr style=\"text-align: right;\">\n",
       "      <th></th>\n",
       "      <th>ds</th>\n",
       "      <th>fuel_price</th>\n",
       "      <th>sabor</th>\n",
       "      <th>fuel_offset_1</th>\n",
       "      <th>fuel_offset_3</th>\n",
       "      <th>USD/ZAR</th>\n",
       "      <th>GBP/ZAR</th>\n",
       "      <th>EUR/ZAR</th>\n",
       "    </tr>\n",
       "  </thead>\n",
       "  <tbody>\n",
       "    <tr>\n",
       "      <th>0</th>\n",
       "      <td>2018-01-01</td>\n",
       "      <td>13.93</td>\n",
       "      <td>6.737957</td>\n",
       "      <td>14.27</td>\n",
       "      <td>13.52</td>\n",
       "      <td>12.197131</td>\n",
       "      <td>16.812471</td>\n",
       "      <td>14.852223</td>\n",
       "    </tr>\n",
       "    <tr>\n",
       "      <th>1</th>\n",
       "      <td>2018-01-01</td>\n",
       "      <td>13.93</td>\n",
       "      <td>6.737957</td>\n",
       "      <td>14.27</td>\n",
       "      <td>13.52</td>\n",
       "      <td>12.197131</td>\n",
       "      <td>16.812471</td>\n",
       "      <td>14.852223</td>\n",
       "    </tr>\n",
       "    <tr>\n",
       "      <th>2</th>\n",
       "      <td>2018-02-01</td>\n",
       "      <td>13.63</td>\n",
       "      <td>6.748950</td>\n",
       "      <td>13.93</td>\n",
       "      <td>13.56</td>\n",
       "      <td>11.818639</td>\n",
       "      <td>16.556277</td>\n",
       "      <td>14.617775</td>\n",
       "    </tr>\n",
       "    <tr>\n",
       "      <th>3</th>\n",
       "      <td>2018-03-01</td>\n",
       "      <td>13.27</td>\n",
       "      <td>6.732000</td>\n",
       "      <td>13.63</td>\n",
       "      <td>14.27</td>\n",
       "      <td>11.843666</td>\n",
       "      <td>16.529828</td>\n",
       "      <td>14.597329</td>\n",
       "    </tr>\n",
       "    <tr>\n",
       "      <th>4</th>\n",
       "      <td>2018-04-01</td>\n",
       "      <td>13.89</td>\n",
       "      <td>6.504286</td>\n",
       "      <td>13.27</td>\n",
       "      <td>13.93</td>\n",
       "      <td>12.067608</td>\n",
       "      <td>16.989794</td>\n",
       "      <td>14.818127</td>\n",
       "    </tr>\n",
       "    <tr>\n",
       "      <th>...</th>\n",
       "      <td>...</td>\n",
       "      <td>...</td>\n",
       "      <td>...</td>\n",
       "      <td>...</td>\n",
       "      <td>...</td>\n",
       "      <td>...</td>\n",
       "      <td>...</td>\n",
       "      <td>...</td>\n",
       "    </tr>\n",
       "    <tr>\n",
       "      <th>65</th>\n",
       "      <td>2023-02-01</td>\n",
       "      <td>20.73</td>\n",
       "      <td>7.211850</td>\n",
       "      <td>20.45</td>\n",
       "      <td>21.92</td>\n",
       "      <td>17.916716</td>\n",
       "      <td>21.611035</td>\n",
       "      <td>19.168071</td>\n",
       "    </tr>\n",
       "    <tr>\n",
       "      <th>66</th>\n",
       "      <td>2023-03-01</td>\n",
       "      <td>22.00</td>\n",
       "      <td>7.223304</td>\n",
       "      <td>20.73</td>\n",
       "      <td>22.51</td>\n",
       "      <td>18.264031</td>\n",
       "      <td>22.163418</td>\n",
       "      <td>19.565940</td>\n",
       "    </tr>\n",
       "    <tr>\n",
       "      <th>67</th>\n",
       "      <td>2023-04-01</td>\n",
       "      <td>21.92</td>\n",
       "      <td>7.713450</td>\n",
       "      <td>22.00</td>\n",
       "      <td>20.45</td>\n",
       "      <td>18.156630</td>\n",
       "      <td>22.598746</td>\n",
       "      <td>19.953257</td>\n",
       "    </tr>\n",
       "    <tr>\n",
       "      <th>68</th>\n",
       "      <td>2023-05-01</td>\n",
       "      <td>22.29</td>\n",
       "      <td>7.804391</td>\n",
       "      <td>21.92</td>\n",
       "      <td>20.73</td>\n",
       "      <td>19.089853</td>\n",
       "      <td>23.817278</td>\n",
       "      <td>20.761558</td>\n",
       "    </tr>\n",
       "    <tr>\n",
       "      <th>69</th>\n",
       "      <td>2023-06-01</td>\n",
       "      <td>21.58</td>\n",
       "      <td>8.218091</td>\n",
       "      <td>22.29</td>\n",
       "      <td>22.00</td>\n",
       "      <td>18.799594</td>\n",
       "      <td>23.672070</td>\n",
       "      <td>20.292954</td>\n",
       "    </tr>\n",
       "  </tbody>\n",
       "</table>\n",
       "<p>70 rows × 8 columns</p>\n",
       "</div>"
      ],
      "text/plain": [
       "           ds  fuel_price     sabor  fuel_offset_1  fuel_offset_3    USD/ZAR  \\\n",
       "0  2018-01-01       13.93  6.737957          14.27          13.52  12.197131   \n",
       "1  2018-01-01       13.93  6.737957          14.27          13.52  12.197131   \n",
       "2  2018-02-01       13.63  6.748950          13.93          13.56  11.818639   \n",
       "3  2018-03-01       13.27  6.732000          13.63          14.27  11.843666   \n",
       "4  2018-04-01       13.89  6.504286          13.27          13.93  12.067608   \n",
       "..        ...         ...       ...            ...            ...        ...   \n",
       "65 2023-02-01       20.73  7.211850          20.45          21.92  17.916716   \n",
       "66 2023-03-01       22.00  7.223304          20.73          22.51  18.264031   \n",
       "67 2023-04-01       21.92  7.713450          22.00          20.45  18.156630   \n",
       "68 2023-05-01       22.29  7.804391          21.92          20.73  19.089853   \n",
       "69 2023-06-01       21.58  8.218091          22.29          22.00  18.799594   \n",
       "\n",
       "      GBP/ZAR    EUR/ZAR  \n",
       "0   16.812471  14.852223  \n",
       "1   16.812471  14.852223  \n",
       "2   16.556277  14.617775  \n",
       "3   16.529828  14.597329  \n",
       "4   16.989794  14.818127  \n",
       "..        ...        ...  \n",
       "65  21.611035  19.168071  \n",
       "66  22.163418  19.565940  \n",
       "67  22.598746  19.953257  \n",
       "68  23.817278  20.761558  \n",
       "69  23.672070  20.292954  \n",
       "\n",
       "[70 rows x 8 columns]"
      ]
     },
     "execution_count": 1265,
     "metadata": {},
     "output_type": "execute_result"
    }
   ],
   "source": [
    "future"
   ]
  },
  {
   "cell_type": "code",
   "execution_count": 1254,
   "metadata": {},
   "outputs": [],
   "source": [
    "forecast = ph.predict(future)"
   ]
  },
  {
   "cell_type": "code",
   "execution_count": 1255,
   "metadata": {},
   "outputs": [
    {
     "data": {
      "image/png": "[encoded data removed]",
      "text/plain": [
       "<Figure size 1000x600 with 1 Axes>"
      ]
     },
     "metadata": {},
     "output_type": "display_data"
    }
   ],
   "source": [
    "fig = ph.plot(forecast)"
   ]
  },
  {
   "cell_type": "code",
   "execution_count": 952,
   "metadata": {},
   "outputs": [
    {
     "data": {
      "text/plain": [
       "<Axes: xlabel='ds'>"
      ]
     },
     "execution_count": 952,
     "metadata": {},
     "output_type": "execute_result"
    },
    {
     "data": {
      "image/png": "[encoded data removed]",
      "text/plain": [
       "<Figure size 640x480 with 1 Axes>"
      ]
     },
     "metadata": {},
     "output_type": "display_data"
    }
   ],
   "source": [
    "fuel_df2.set_index('ds', drop=True).plot()"
   ]
  },
  {
   "cell_type": "code",
   "execution_count": 999,
   "metadata": {},
   "outputs": [],
   "source": [
    "fuel_df2['fuel_price']=(fuel_df2['fuel_price']-fuel_df2['fuel_price'].mean())/fuel_df2['fuel_price'].std()"
   ]
  },
  {
   "cell_type": "code",
   "execution_count": 1000,
   "metadata": {},
   "outputs": [
    {
     "data": {
      "text/plain": [
       "<Axes: xlabel='ds'>"
      ]
     },
     "execution_count": 1000,
     "metadata": {},
     "output_type": "execute_result"
    },
    {
     "data": {
      "image/png": "[encoded data removed]",
      "text/plain": [
       "<Figure size 640x480 with 1 Axes>"
      ]
     },
     "metadata": {},
     "output_type": "display_data"
    }
   ],
   "source": [
    "fuel_df2.set_index('ds', drop=True).plot()"
   ]
  },
  {
   "cell_type": "code",
   "execution_count": 1004,
   "metadata": {},
   "outputs": [],
   "source": [
    "fuel_df2['fuel_price'] = fuel_df2['fuel_price'].shift(1) - fuel_df2['fuel_price']"
   ]
  },
  {
   "cell_type": "code",
   "execution_count": 1006,
   "metadata": {},
   "outputs": [
    {
     "data": {
      "text/plain": [
       "<Axes: xlabel='ds'>"
      ]
     },
     "execution_count": 1006,
     "metadata": {},
     "output_type": "execute_result"
    },
    {
     "data": {
      "image/png": "[encoded data removed]",
      "text/plain": [
       "<Figure size 640x480 with 1 Axes>"
      ]
     },
     "metadata": {},
     "output_type": "display_data"
    }
   ],
   "source": [
    "fuel_df2.set_index('ds', drop=True).plot()"
   ]
  },
  {
   "cell_type": "code",
   "execution_count": 1251,
   "metadata": {},
   "outputs": [],
   "source": [
    "forecast=(forecast-forecast.mean())/forecast.std()"
   ]
  },
  {
   "cell_type": "code",
   "execution_count": 1256,
   "metadata": {},
   "outputs": [],
   "source": [
    "from prophet.plot import add_changepoints_to_plot\n",
    "a = add_changepoints_to_plot(fig.gca(), ph, forecast)"
   ]
  },
  {
   "cell_type": "code",
   "execution_count": 1257,
   "metadata": {},
   "outputs": [
    {
     "data": {
      "image/png": "[encoded data removed]",
      "text/plain": [
       "<Figure size 1000x600 with 1 Axes>"
      ]
     },
     "execution_count": 1257,
     "metadata": {},
     "output_type": "execute_result"
    }
   ],
   "source": [
    "fig"
   ]
  },
  {
   "cell_type": "code",
   "execution_count": 1258,
   "metadata": {},
   "outputs": [
    {
     "data": {
      "text/html": [
       "<div>\n",
       "<style scoped>\n",
       "    .dataframe tbody tr th:only-of-type {\n",
       "        vertical-align: middle;\n",
       "    }\n",
       "\n",
       "    .dataframe tbody tr th {\n",
       "        vertical-align: top;\n",
       "    }\n",
       "\n",
       "    .dataframe thead th {\n",
       "        text-align: right;\n",
       "    }\n",
       "</style>\n",
       "<table border=\"1\" class=\"dataframe\">\n",
       "  <thead>\n",
       "    <tr style=\"text-align: right;\">\n",
       "      <th></th>\n",
       "      <th>ds</th>\n",
       "      <th>trend</th>\n",
       "      <th>yhat_lower</th>\n",
       "      <th>yhat_upper</th>\n",
       "      <th>trend_lower</th>\n",
       "      <th>trend_upper</th>\n",
       "      <th>EUR/ZAR</th>\n",
       "      <th>EUR/ZAR_lower</th>\n",
       "      <th>EUR/ZAR_upper</th>\n",
       "      <th>GBP/ZAR</th>\n",
       "      <th>...</th>\n",
       "      <th>sabor</th>\n",
       "      <th>sabor_lower</th>\n",
       "      <th>sabor_upper</th>\n",
       "      <th>yearly</th>\n",
       "      <th>yearly_lower</th>\n",
       "      <th>yearly_upper</th>\n",
       "      <th>multiplicative_terms</th>\n",
       "      <th>multiplicative_terms_lower</th>\n",
       "      <th>multiplicative_terms_upper</th>\n",
       "      <th>yhat</th>\n",
       "    </tr>\n",
       "  </thead>\n",
       "  <tbody>\n",
       "    <tr>\n",
       "      <th>0</th>\n",
       "      <td>2018-01-01</td>\n",
       "      <td>84.519206</td>\n",
       "      <td>79.733816</td>\n",
       "      <td>80.146939</td>\n",
       "      <td>84.519206</td>\n",
       "      <td>84.519206</td>\n",
       "      <td>-0.317827</td>\n",
       "      <td>-0.317827</td>\n",
       "      <td>-0.317827</td>\n",
       "      <td>1.673685</td>\n",
       "      <td>...</td>\n",
       "      <td>0.625471</td>\n",
       "      <td>0.625471</td>\n",
       "      <td>0.625471</td>\n",
       "      <td>-0.228436</td>\n",
       "      <td>-0.228436</td>\n",
       "      <td>-0.228436</td>\n",
       "      <td>0.0</td>\n",
       "      <td>0.0</td>\n",
       "      <td>0.0</td>\n",
       "      <td>79.933663</td>\n",
       "    </tr>\n",
       "    <tr>\n",
       "      <th>1</th>\n",
       "      <td>2018-01-01</td>\n",
       "      <td>84.519206</td>\n",
       "      <td>79.732626</td>\n",
       "      <td>80.141016</td>\n",
       "      <td>84.519206</td>\n",
       "      <td>84.519206</td>\n",
       "      <td>-0.317827</td>\n",
       "      <td>-0.317827</td>\n",
       "      <td>-0.317827</td>\n",
       "      <td>1.673685</td>\n",
       "      <td>...</td>\n",
       "      <td>0.625471</td>\n",
       "      <td>0.625471</td>\n",
       "      <td>0.625471</td>\n",
       "      <td>-0.228436</td>\n",
       "      <td>-0.228436</td>\n",
       "      <td>-0.228436</td>\n",
       "      <td>0.0</td>\n",
       "      <td>0.0</td>\n",
       "      <td>0.0</td>\n",
       "      <td>79.933663</td>\n",
       "    </tr>\n",
       "    <tr>\n",
       "      <th>2</th>\n",
       "      <td>2018-02-01</td>\n",
       "      <td>85.311366</td>\n",
       "      <td>79.432916</td>\n",
       "      <td>79.866387</td>\n",
       "      <td>85.311366</td>\n",
       "      <td>85.311366</td>\n",
       "      <td>-0.350223</td>\n",
       "      <td>-0.350223</td>\n",
       "      <td>-0.350223</td>\n",
       "      <td>1.822806</td>\n",
       "      <td>...</td>\n",
       "      <td>0.630439</td>\n",
       "      <td>0.630439</td>\n",
       "      <td>0.630439</td>\n",
       "      <td>-0.781602</td>\n",
       "      <td>-0.781602</td>\n",
       "      <td>-0.781602</td>\n",
       "      <td>0.0</td>\n",
       "      <td>0.0</td>\n",
       "      <td>0.0</td>\n",
       "      <td>79.660097</td>\n",
       "    </tr>\n",
       "    <tr>\n",
       "      <th>3</th>\n",
       "      <td>2018-03-01</td>\n",
       "      <td>86.026865</td>\n",
       "      <td>79.435627</td>\n",
       "      <td>79.861140</td>\n",
       "      <td>86.026865</td>\n",
       "      <td>86.026865</td>\n",
       "      <td>-0.353049</td>\n",
       "      <td>-0.353049</td>\n",
       "      <td>-0.353049</td>\n",
       "      <td>1.838201</td>\n",
       "      <td>...</td>\n",
       "      <td>0.622779</td>\n",
       "      <td>0.622779</td>\n",
       "      <td>0.622779</td>\n",
       "      <td>-0.915184</td>\n",
       "      <td>-0.915184</td>\n",
       "      <td>-0.915184</td>\n",
       "      <td>0.0</td>\n",
       "      <td>0.0</td>\n",
       "      <td>0.0</td>\n",
       "      <td>79.643646</td>\n",
       "    </tr>\n",
       "    <tr>\n",
       "      <th>4</th>\n",
       "      <td>2018-04-01</td>\n",
       "      <td>86.060883</td>\n",
       "      <td>80.094502</td>\n",
       "      <td>80.515781</td>\n",
       "      <td>86.060883</td>\n",
       "      <td>86.060883</td>\n",
       "      <td>-0.322538</td>\n",
       "      <td>-0.322538</td>\n",
       "      <td>-0.322538</td>\n",
       "      <td>1.570473</td>\n",
       "      <td>...</td>\n",
       "      <td>0.519877</td>\n",
       "      <td>0.519877</td>\n",
       "      <td>0.519877</td>\n",
       "      <td>-1.062470</td>\n",
       "      <td>-1.062470</td>\n",
       "      <td>-1.062470</td>\n",
       "      <td>0.0</td>\n",
       "      <td>0.0</td>\n",
       "      <td>0.0</td>\n",
       "      <td>80.318584</td>\n",
       "    </tr>\n",
       "    <tr>\n",
       "      <th>...</th>\n",
       "      <td>...</td>\n",
       "      <td>...</td>\n",
       "      <td>...</td>\n",
       "      <td>...</td>\n",
       "      <td>...</td>\n",
       "      <td>...</td>\n",
       "      <td>...</td>\n",
       "      <td>...</td>\n",
       "      <td>...</td>\n",
       "      <td>...</td>\n",
       "      <td>...</td>\n",
       "      <td>...</td>\n",
       "      <td>...</td>\n",
       "      <td>...</td>\n",
       "      <td>...</td>\n",
       "      <td>...</td>\n",
       "      <td>...</td>\n",
       "      <td>...</td>\n",
       "      <td>...</td>\n",
       "      <td>...</td>\n",
       "      <td>...</td>\n",
       "    </tr>\n",
       "    <tr>\n",
       "      <th>65</th>\n",
       "      <td>2023-02-01</td>\n",
       "      <td>104.920690</td>\n",
       "      <td>110.453036</td>\n",
       "      <td>110.893749</td>\n",
       "      <td>104.920690</td>\n",
       "      <td>104.920690</td>\n",
       "      <td>0.278550</td>\n",
       "      <td>0.278550</td>\n",
       "      <td>0.278550</td>\n",
       "      <td>-1.119364</td>\n",
       "      <td>...</td>\n",
       "      <td>0.839619</td>\n",
       "      <td>0.839619</td>\n",
       "      <td>0.839619</td>\n",
       "      <td>-0.646441</td>\n",
       "      <td>-0.646441</td>\n",
       "      <td>-0.646441</td>\n",
       "      <td>0.0</td>\n",
       "      <td>0.0</td>\n",
       "      <td>0.0</td>\n",
       "      <td>110.667417</td>\n",
       "    </tr>\n",
       "    <tr>\n",
       "      <th>66</th>\n",
       "      <td>2023-03-01</td>\n",
       "      <td>105.303003</td>\n",
       "      <td>112.562025</td>\n",
       "      <td>112.994605</td>\n",
       "      <td>105.303003</td>\n",
       "      <td>105.303003</td>\n",
       "      <td>0.333529</td>\n",
       "      <td>0.333529</td>\n",
       "      <td>0.333529</td>\n",
       "      <td>-1.440884</td>\n",
       "      <td>...</td>\n",
       "      <td>0.844795</td>\n",
       "      <td>0.844795</td>\n",
       "      <td>0.844795</td>\n",
       "      <td>-0.808707</td>\n",
       "      <td>-0.808707</td>\n",
       "      <td>-0.808707</td>\n",
       "      <td>0.0</td>\n",
       "      <td>0.0</td>\n",
       "      <td>0.0</td>\n",
       "      <td>112.788335</td>\n",
       "    </tr>\n",
       "    <tr>\n",
       "      <th>67</th>\n",
       "      <td>2023-04-01</td>\n",
       "      <td>105.726277</td>\n",
       "      <td>112.642629</td>\n",
       "      <td>113.076975</td>\n",
       "      <td>105.726277</td>\n",
       "      <td>105.726277</td>\n",
       "      <td>0.387049</td>\n",
       "      <td>0.387049</td>\n",
       "      <td>0.387049</td>\n",
       "      <td>-1.694271</td>\n",
       "      <td>...</td>\n",
       "      <td>1.066288</td>\n",
       "      <td>1.066288</td>\n",
       "      <td>1.066288</td>\n",
       "      <td>-1.094640</td>\n",
       "      <td>-1.094640</td>\n",
       "      <td>-1.094640</td>\n",
       "      <td>0.0</td>\n",
       "      <td>0.0</td>\n",
       "      <td>0.0</td>\n",
       "      <td>112.846371</td>\n",
       "    </tr>\n",
       "    <tr>\n",
       "      <th>68</th>\n",
       "      <td>2023-05-01</td>\n",
       "      <td>106.135898</td>\n",
       "      <td>113.513361</td>\n",
       "      <td>113.942115</td>\n",
       "      <td>106.135898</td>\n",
       "      <td>106.135898</td>\n",
       "      <td>0.498742</td>\n",
       "      <td>0.498742</td>\n",
       "      <td>0.498742</td>\n",
       "      <td>-2.403529</td>\n",
       "      <td>...</td>\n",
       "      <td>1.107383</td>\n",
       "      <td>1.107383</td>\n",
       "      <td>1.107383</td>\n",
       "      <td>-1.028059</td>\n",
       "      <td>-1.028059</td>\n",
       "      <td>-1.028059</td>\n",
       "      <td>0.0</td>\n",
       "      <td>0.0</td>\n",
       "      <td>0.0</td>\n",
       "      <td>113.738441</td>\n",
       "    </tr>\n",
       "    <tr>\n",
       "      <th>69</th>\n",
       "      <td>2023-06-01</td>\n",
       "      <td>106.559173</td>\n",
       "      <td>113.090671</td>\n",
       "      <td>113.635767</td>\n",
       "      <td>106.513293</td>\n",
       "      <td>106.720182</td>\n",
       "      <td>0.433989</td>\n",
       "      <td>0.433989</td>\n",
       "      <td>0.433989</td>\n",
       "      <td>-2.319010</td>\n",
       "      <td>...</td>\n",
       "      <td>1.294330</td>\n",
       "      <td>1.294330</td>\n",
       "      <td>1.294330</td>\n",
       "      <td>-0.715752</td>\n",
       "      <td>-0.715752</td>\n",
       "      <td>-0.715752</td>\n",
       "      <td>0.0</td>\n",
       "      <td>0.0</td>\n",
       "      <td>0.0</td>\n",
       "      <td>113.327539</td>\n",
       "    </tr>\n",
       "  </tbody>\n",
       "</table>\n",
       "<p>70 rows × 40 columns</p>\n",
       "</div>"
      ],
      "text/plain": [
       "           ds       trend  yhat_lower  yhat_upper  trend_lower  trend_upper  \\\n",
       "0  2018-01-01   84.519206   79.733816   80.146939    84.519206    84.519206   \n",
       "1  2018-01-01   84.519206   79.732626   80.141016    84.519206    84.519206   \n",
       "2  2018-02-01   85.311366   79.432916   79.866387    85.311366    85.311366   \n",
       "3  2018-03-01   86.026865   79.435627   79.861140    86.026865    86.026865   \n",
       "4  2018-04-01   86.060883   80.094502   80.515781    86.060883    86.060883   \n",
       "..        ...         ...         ...         ...          ...          ...   \n",
       "65 2023-02-01  104.920690  110.453036  110.893749   104.920690   104.920690   \n",
       "66 2023-03-01  105.303003  112.562025  112.994605   105.303003   105.303003   \n",
       "67 2023-04-01  105.726277  112.642629  113.076975   105.726277   105.726277   \n",
       "68 2023-05-01  106.135898  113.513361  113.942115   106.135898   106.135898   \n",
       "69 2023-06-01  106.559173  113.090671  113.635767   106.513293   106.720182   \n",
       "\n",
       "     EUR/ZAR  EUR/ZAR_lower  EUR/ZAR_upper   GBP/ZAR  ...     sabor  \\\n",
       "0  -0.317827      -0.317827      -0.317827  1.673685  ...  0.625471   \n",
       "1  -0.317827      -0.317827      -0.317827  1.673685  ...  0.625471   \n",
       "2  -0.350223      -0.350223      -0.350223  1.822806  ...  0.630439   \n",
       "3  -0.353049      -0.353049      -0.353049  1.838201  ...  0.622779   \n",
       "4  -0.322538      -0.322538      -0.322538  1.570473  ...  0.519877   \n",
       "..       ...            ...            ...       ...  ...       ...   \n",
       "65  0.278550       0.278550       0.278550 -1.119364  ...  0.839619   \n",
       "66  0.333529       0.333529       0.333529 -1.440884  ...  0.844795   \n",
       "67  0.387049       0.387049       0.387049 -1.694271  ...  1.066288   \n",
       "68  0.498742       0.498742       0.498742 -2.403529  ...  1.107383   \n",
       "69  0.433989       0.433989       0.433989 -2.319010  ...  1.294330   \n",
       "\n",
       "    sabor_lower  sabor_upper    yearly  yearly_lower  yearly_upper  \\\n",
       "0      0.625471     0.625471 -0.228436     -0.228436     -0.228436   \n",
       "1      0.625471     0.625471 -0.228436     -0.228436     -0.228436   \n",
       "2      0.630439     0.630439 -0.781602     -0.781602     -0.781602   \n",
       "3      0.622779     0.622779 -0.915184     -0.915184     -0.915184   \n",
       "4      0.519877     0.519877 -1.062470     -1.062470     -1.062470   \n",
       "..          ...          ...       ...           ...           ...   \n",
       "65     0.839619     0.839619 -0.646441     -0.646441     -0.646441   \n",
       "66     0.844795     0.844795 -0.808707     -0.808707     -0.808707   \n",
       "67     1.066288     1.066288 -1.094640     -1.094640     -1.094640   \n",
       "68     1.107383     1.107383 -1.028059     -1.028059     -1.028059   \n",
       "69     1.294330     1.294330 -0.715752     -0.715752     -0.715752   \n",
       "\n",
       "    multiplicative_terms  multiplicative_terms_lower  \\\n",
       "0                    0.0                         0.0   \n",
       "1                    0.0                         0.0   \n",
       "2                    0.0                         0.0   \n",
       "3                    0.0                         0.0   \n",
       "4                    0.0                         0.0   \n",
       "..                   ...                         ...   \n",
       "65                   0.0                         0.0   \n",
       "66                   0.0                         0.0   \n",
       "67                   0.0                         0.0   \n",
       "68                   0.0                         0.0   \n",
       "69                   0.0                         0.0   \n",
       "\n",
       "    multiplicative_terms_upper        yhat  \n",
       "0                          0.0   79.933663  \n",
       "1                          0.0   79.933663  \n",
       "2                          0.0   79.660097  \n",
       "3                          0.0   79.643646  \n",
       "4                          0.0   80.318584  \n",
       "..                         ...         ...  \n",
       "65                         0.0  110.667417  \n",
       "66                         0.0  112.788335  \n",
       "67                         0.0  112.846371  \n",
       "68                         0.0  113.738441  \n",
       "69                         0.0  113.327539  \n",
       "\n",
       "[70 rows x 40 columns]"
      ]
     },
     "execution_count": 1258,
     "metadata": {},
     "output_type": "execute_result"
    }
   ],
   "source": [
    "forecast"
   ]
  },
  {
   "cell_type": "code",
   "execution_count": 994,
   "metadata": {},
   "outputs": [],
   "source": [
    "fuel_df2 = fuel_df.rename(columns={'date': 'ds'})\n",
    "fuel_df2['ds'] = pd.DatetimeIndex(fuel_df2['ds'])"
   ]
  },
  {
   "cell_type": "code",
   "execution_count": 995,
   "metadata": {},
   "outputs": [
    {
     "ename": "ValueError",
     "evalue": "You are trying to merge on object and datetime64[ns] columns. If you wish to proceed you should use pd.concat",
     "output_type": "error",
     "traceback": [
      "\u001b[0;31m---------------------------------------------------------------------------\u001b[0m",
      "\u001b[0;31mValueError\u001b[0m                                Traceback (most recent call last)",
      "Cell \u001b[0;32mIn[995], line 1\u001b[0m\n\u001b[0;32m----> 1\u001b[0m output \u001b[39m=\u001b[39m pd\u001b[39m.\u001b[39;49mmerge(forecast,fuel_df2, on\u001b[39m=\u001b[39;49m\u001b[39m\"\u001b[39;49m\u001b[39mds\u001b[39;49m\u001b[39m\"\u001b[39;49m)\n",
      "File \u001b[0;32m~/opt/anaconda3/envs/zindo_rmb/lib/python3.10/site-packages/pandas/core/reshape/merge.py:148\u001b[0m, in \u001b[0;36mmerge\u001b[0;34m(left, right, how, on, left_on, right_on, left_index, right_index, sort, suffixes, copy, indicator, validate)\u001b[0m\n\u001b[1;32m    131\u001b[0m \u001b[39m@Substitution\u001b[39m(\u001b[39m\"\u001b[39m\u001b[39m\\n\u001b[39;00m\u001b[39mleft : DataFrame or named Series\u001b[39m\u001b[39m\"\u001b[39m)\n\u001b[1;32m    132\u001b[0m \u001b[39m@Appender\u001b[39m(_merge_doc, indents\u001b[39m=\u001b[39m\u001b[39m0\u001b[39m)\n\u001b[1;32m    133\u001b[0m \u001b[39mdef\u001b[39;00m \u001b[39mmerge\u001b[39m(\n\u001b[0;32m   (...)\u001b[0m\n\u001b[1;32m    146\u001b[0m     validate: \u001b[39mstr\u001b[39m \u001b[39m|\u001b[39m \u001b[39mNone\u001b[39;00m \u001b[39m=\u001b[39m \u001b[39mNone\u001b[39;00m,\n\u001b[1;32m    147\u001b[0m ) \u001b[39m-\u001b[39m\u001b[39m>\u001b[39m DataFrame:\n\u001b[0;32m--> 148\u001b[0m     op \u001b[39m=\u001b[39m _MergeOperation(\n\u001b[1;32m    149\u001b[0m         left,\n\u001b[1;32m    150\u001b[0m         right,\n\u001b[1;32m    151\u001b[0m         how\u001b[39m=\u001b[39;49mhow,\n\u001b[1;32m    152\u001b[0m         on\u001b[39m=\u001b[39;49mon,\n\u001b[1;32m    153\u001b[0m         left_on\u001b[39m=\u001b[39;49mleft_on,\n\u001b[1;32m    154\u001b[0m         right_on\u001b[39m=\u001b[39;49mright_on,\n\u001b[1;32m    155\u001b[0m         left_index\u001b[39m=\u001b[39;49mleft_index,\n\u001b[1;32m    156\u001b[0m         right_index\u001b[39m=\u001b[39;49mright_index,\n\u001b[1;32m    157\u001b[0m         sort\u001b[39m=\u001b[39;49msort,\n\u001b[1;32m    158\u001b[0m         suffixes\u001b[39m=\u001b[39;49msuffixes,\n\u001b[1;32m    159\u001b[0m         indicator\u001b[39m=\u001b[39;49mindicator,\n\u001b[1;32m    160\u001b[0m         validate\u001b[39m=\u001b[39;49mvalidate,\n\u001b[1;32m    161\u001b[0m     )\n\u001b[1;32m    162\u001b[0m     \u001b[39mreturn\u001b[39;00m op\u001b[39m.\u001b[39mget_result(copy\u001b[39m=\u001b[39mcopy)\n",
      "File \u001b[0;32m~/opt/anaconda3/envs/zindo_rmb/lib/python3.10/site-packages/pandas/core/reshape/merge.py:741\u001b[0m, in \u001b[0;36m_MergeOperation.__init__\u001b[0;34m(self, left, right, how, on, left_on, right_on, axis, left_index, right_index, sort, suffixes, indicator, validate)\u001b[0m\n\u001b[1;32m    733\u001b[0m (\n\u001b[1;32m    734\u001b[0m     \u001b[39mself\u001b[39m\u001b[39m.\u001b[39mleft_join_keys,\n\u001b[1;32m    735\u001b[0m     \u001b[39mself\u001b[39m\u001b[39m.\u001b[39mright_join_keys,\n\u001b[1;32m    736\u001b[0m     \u001b[39mself\u001b[39m\u001b[39m.\u001b[39mjoin_names,\n\u001b[1;32m    737\u001b[0m ) \u001b[39m=\u001b[39m \u001b[39mself\u001b[39m\u001b[39m.\u001b[39m_get_merge_keys()\n\u001b[1;32m    739\u001b[0m \u001b[39m# validate the merge keys dtypes. We may need to coerce\u001b[39;00m\n\u001b[1;32m    740\u001b[0m \u001b[39m# to avoid incompatible dtypes\u001b[39;00m\n\u001b[0;32m--> 741\u001b[0m \u001b[39mself\u001b[39;49m\u001b[39m.\u001b[39;49m_maybe_coerce_merge_keys()\n\u001b[1;32m    743\u001b[0m \u001b[39m# If argument passed to validate,\u001b[39;00m\n\u001b[1;32m    744\u001b[0m \u001b[39m# check if columns specified as unique\u001b[39;00m\n\u001b[1;32m    745\u001b[0m \u001b[39m# are in fact unique.\u001b[39;00m\n\u001b[1;32m    746\u001b[0m \u001b[39mif\u001b[39;00m validate \u001b[39mis\u001b[39;00m \u001b[39mnot\u001b[39;00m \u001b[39mNone\u001b[39;00m:\n",
      "File \u001b[0;32m~/opt/anaconda3/envs/zindo_rmb/lib/python3.10/site-packages/pandas/core/reshape/merge.py:1407\u001b[0m, in \u001b[0;36m_MergeOperation._maybe_coerce_merge_keys\u001b[0;34m(self)\u001b[0m\n\u001b[1;32m   1405\u001b[0m     \u001b[39mraise\u001b[39;00m \u001b[39mValueError\u001b[39;00m(msg)\n\u001b[1;32m   1406\u001b[0m \u001b[39melif\u001b[39;00m \u001b[39mnot\u001b[39;00m needs_i8_conversion(lk\u001b[39m.\u001b[39mdtype) \u001b[39mand\u001b[39;00m needs_i8_conversion(rk\u001b[39m.\u001b[39mdtype):\n\u001b[0;32m-> 1407\u001b[0m     \u001b[39mraise\u001b[39;00m \u001b[39mValueError\u001b[39;00m(msg)\n\u001b[1;32m   1408\u001b[0m \u001b[39melif\u001b[39;00m \u001b[39misinstance\u001b[39m(lk\u001b[39m.\u001b[39mdtype, DatetimeTZDtype) \u001b[39mand\u001b[39;00m \u001b[39mnot\u001b[39;00m \u001b[39misinstance\u001b[39m(\n\u001b[1;32m   1409\u001b[0m     rk\u001b[39m.\u001b[39mdtype, DatetimeTZDtype\n\u001b[1;32m   1410\u001b[0m ):\n\u001b[1;32m   1411\u001b[0m     \u001b[39mraise\u001b[39;00m \u001b[39mValueError\u001b[39;00m(msg)\n",
      "\u001b[0;31mValueError\u001b[0m: You are trying to merge on object and datetime64[ns] columns. If you wish to proceed you should use pd.concat"
     ]
    }
   ],
   "source": [
    "output = pd.merge(forecast,fuel_df2, on=\"ds\")"
   ]
  },
  {
   "cell_type": "code",
   "execution_count": 996,
   "metadata": {},
   "outputs": [
    {
     "data": {
      "text/plain": [
       "<Axes: >"
      ]
     },
     "execution_count": 996,
     "metadata": {},
     "output_type": "execute_result"
    },
    {
     "data": {
      "image/png": "[encoded data removed]",
      "text/plain": [
       "<Figure size 640x480 with 1 Axes>"
      ]
     },
     "metadata": {},
     "output_type": "display_data"
    }
   ],
   "source": [
    "output[['fuel_price','yhat']].plot()"
   ]
  },
  {
   "cell_type": "code",
   "execution_count": 958,
   "metadata": {},
   "outputs": [
    {
     "data": {
      "image/png": "[encoded data removed]",
      "text/plain": [
       "<Figure size 900x600 with 2 Axes>"
      ]
     },
     "metadata": {},
     "output_type": "display_data"
    }
   ],
   "source": [
    "fig1 = ph.plot_components(forecast)"
   ]
  },
  {
   "cell_type": "code",
   "execution_count": 959,
   "metadata": {},
   "outputs": [
    {
     "data": {
      "text/html": [
       "<div>\n",
       "<style scoped>\n",
       "    .dataframe tbody tr th:only-of-type {\n",
       "        vertical-align: middle;\n",
       "    }\n",
       "\n",
       "    .dataframe tbody tr th {\n",
       "        vertical-align: top;\n",
       "    }\n",
       "\n",
       "    .dataframe thead th {\n",
       "        text-align: right;\n",
       "    }\n",
       "</style>\n",
       "<table border=\"1\" class=\"dataframe\">\n",
       "  <thead>\n",
       "    <tr style=\"text-align: right;\">\n",
       "      <th></th>\n",
       "      <th>date</th>\n",
       "      <th>fuel_price</th>\n",
       "    </tr>\n",
       "  </thead>\n",
       "  <tbody>\n",
       "    <tr>\n",
       "      <th>0</th>\n",
       "      <td>2023-07</td>\n",
       "      <td>21.34</td>\n",
       "    </tr>\n",
       "    <tr>\n",
       "      <th>1</th>\n",
       "      <td>2023-06</td>\n",
       "      <td>21.58</td>\n",
       "    </tr>\n",
       "    <tr>\n",
       "      <th>2</th>\n",
       "      <td>2023-05</td>\n",
       "      <td>22.29</td>\n",
       "    </tr>\n",
       "    <tr>\n",
       "      <th>3</th>\n",
       "      <td>2023-04</td>\n",
       "      <td>21.92</td>\n",
       "    </tr>\n",
       "    <tr>\n",
       "      <th>4</th>\n",
       "      <td>2023-03</td>\n",
       "      <td>22.00</td>\n",
       "    </tr>\n",
       "    <tr>\n",
       "      <th>...</th>\n",
       "      <td>...</td>\n",
       "      <td>...</td>\n",
       "    </tr>\n",
       "    <tr>\n",
       "      <th>180</th>\n",
       "      <td>2008-05</td>\n",
       "      <td>9.29</td>\n",
       "    </tr>\n",
       "    <tr>\n",
       "      <th>181</th>\n",
       "      <td>2008-04</td>\n",
       "      <td>8.74</td>\n",
       "    </tr>\n",
       "    <tr>\n",
       "      <th>182</th>\n",
       "      <td>2008-03</td>\n",
       "      <td>8.07</td>\n",
       "    </tr>\n",
       "    <tr>\n",
       "      <th>183</th>\n",
       "      <td>2008-02</td>\n",
       "      <td>7.46</td>\n",
       "    </tr>\n",
       "    <tr>\n",
       "      <th>184</th>\n",
       "      <td>2008-01</td>\n",
       "      <td>7.29</td>\n",
       "    </tr>\n",
       "  </tbody>\n",
       "</table>\n",
       "<p>185 rows × 2 columns</p>\n",
       "</div>"
      ],
      "text/plain": [
       "        date  fuel_price\n",
       "0    2023-07       21.34\n",
       "1    2023-06       21.58\n",
       "2    2023-05       22.29\n",
       "3    2023-04       21.92\n",
       "4    2023-03       22.00\n",
       "..       ...         ...\n",
       "180  2008-05        9.29\n",
       "181  2008-04        8.74\n",
       "182  2008-03        8.07\n",
       "183  2008-02        7.46\n",
       "184  2008-01        7.29\n",
       "\n",
       "[185 rows x 2 columns]"
      ]
     },
     "execution_count": 959,
     "metadata": {},
     "output_type": "execute_result"
    }
   ],
   "source": [
    "fuel_df"
   ]
  },
  {
   "cell_type": "code",
   "execution_count": 960,
   "metadata": {},
   "outputs": [
    {
     "data": {
      "text/html": [
       "<div>\n",
       "<style scoped>\n",
       "    .dataframe tbody tr th:only-of-type {\n",
       "        vertical-align: middle;\n",
       "    }\n",
       "\n",
       "    .dataframe tbody tr th {\n",
       "        vertical-align: top;\n",
       "    }\n",
       "\n",
       "    .dataframe thead th {\n",
       "        text-align: right;\n",
       "    }\n",
       "</style>\n",
       "<table border=\"1\" class=\"dataframe\">\n",
       "  <thead>\n",
       "    <tr style=\"text-align: right;\">\n",
       "      <th></th>\n",
       "      <th>ds</th>\n",
       "      <th>trend</th>\n",
       "      <th>yhat_lower</th>\n",
       "      <th>yhat_upper</th>\n",
       "      <th>trend_lower</th>\n",
       "      <th>trend_upper</th>\n",
       "      <th>additive_terms</th>\n",
       "      <th>additive_terms_lower</th>\n",
       "      <th>additive_terms_upper</th>\n",
       "      <th>yearly</th>\n",
       "      <th>yearly_lower</th>\n",
       "      <th>yearly_upper</th>\n",
       "      <th>multiplicative_terms</th>\n",
       "      <th>multiplicative_terms_lower</th>\n",
       "      <th>multiplicative_terms_upper</th>\n",
       "      <th>yhat</th>\n",
       "    </tr>\n",
       "  </thead>\n",
       "  <tbody>\n",
       "    <tr>\n",
       "      <th>0</th>\n",
       "      <td>2017-01-01</td>\n",
       "      <td>78.211492</td>\n",
       "      <td>75.987345</td>\n",
       "      <td>77.981846</td>\n",
       "      <td>78.211492</td>\n",
       "      <td>78.211492</td>\n",
       "      <td>-1.273631</td>\n",
       "      <td>-1.273631</td>\n",
       "      <td>-1.273631</td>\n",
       "      <td>-1.273631</td>\n",
       "      <td>-1.273631</td>\n",
       "      <td>-1.273631</td>\n",
       "      <td>0.0</td>\n",
       "      <td>0.0</td>\n",
       "      <td>0.0</td>\n",
       "      <td>76.937861</td>\n",
       "    </tr>\n",
       "    <tr>\n",
       "      <th>1</th>\n",
       "      <td>2017-02-01</td>\n",
       "      <td>78.389791</td>\n",
       "      <td>76.201811</td>\n",
       "      <td>78.135297</td>\n",
       "      <td>78.389791</td>\n",
       "      <td>78.389791</td>\n",
       "      <td>-1.227313</td>\n",
       "      <td>-1.227313</td>\n",
       "      <td>-1.227313</td>\n",
       "      <td>-1.227313</td>\n",
       "      <td>-1.227313</td>\n",
       "      <td>-1.227313</td>\n",
       "      <td>0.0</td>\n",
       "      <td>0.0</td>\n",
       "      <td>0.0</td>\n",
       "      <td>77.162478</td>\n",
       "    </tr>\n",
       "    <tr>\n",
       "      <th>2</th>\n",
       "      <td>2017-03-01</td>\n",
       "      <td>78.550836</td>\n",
       "      <td>75.925818</td>\n",
       "      <td>77.938551</td>\n",
       "      <td>78.550836</td>\n",
       "      <td>78.550836</td>\n",
       "      <td>-1.572053</td>\n",
       "      <td>-1.572053</td>\n",
       "      <td>-1.572053</td>\n",
       "      <td>-1.572053</td>\n",
       "      <td>-1.572053</td>\n",
       "      <td>-1.572053</td>\n",
       "      <td>0.0</td>\n",
       "      <td>0.0</td>\n",
       "      <td>0.0</td>\n",
       "      <td>76.978783</td>\n",
       "    </tr>\n",
       "    <tr>\n",
       "      <th>3</th>\n",
       "      <td>2017-04-01</td>\n",
       "      <td>78.729135</td>\n",
       "      <td>75.950200</td>\n",
       "      <td>77.888551</td>\n",
       "      <td>78.729135</td>\n",
       "      <td>78.729135</td>\n",
       "      <td>-1.782799</td>\n",
       "      <td>-1.782799</td>\n",
       "      <td>-1.782799</td>\n",
       "      <td>-1.782799</td>\n",
       "      <td>-1.782799</td>\n",
       "      <td>-1.782799</td>\n",
       "      <td>0.0</td>\n",
       "      <td>0.0</td>\n",
       "      <td>0.0</td>\n",
       "      <td>76.946336</td>\n",
       "    </tr>\n",
       "    <tr>\n",
       "      <th>4</th>\n",
       "      <td>2017-05-01</td>\n",
       "      <td>78.901683</td>\n",
       "      <td>76.250715</td>\n",
       "      <td>78.228890</td>\n",
       "      <td>78.901683</td>\n",
       "      <td>78.901683</td>\n",
       "      <td>-1.628937</td>\n",
       "      <td>-1.628937</td>\n",
       "      <td>-1.628937</td>\n",
       "      <td>-1.628937</td>\n",
       "      <td>-1.628937</td>\n",
       "      <td>-1.628937</td>\n",
       "      <td>0.0</td>\n",
       "      <td>0.0</td>\n",
       "      <td>0.0</td>\n",
       "      <td>77.272745</td>\n",
       "    </tr>\n",
       "    <tr>\n",
       "      <th>...</th>\n",
       "      <td>...</td>\n",
       "      <td>...</td>\n",
       "      <td>...</td>\n",
       "      <td>...</td>\n",
       "      <td>...</td>\n",
       "      <td>...</td>\n",
       "      <td>...</td>\n",
       "      <td>...</td>\n",
       "      <td>...</td>\n",
       "      <td>...</td>\n",
       "      <td>...</td>\n",
       "      <td>...</td>\n",
       "      <td>...</td>\n",
       "      <td>...</td>\n",
       "      <td>...</td>\n",
       "      <td>...</td>\n",
       "    </tr>\n",
       "    <tr>\n",
       "      <th>73</th>\n",
       "      <td>2023-02-01</td>\n",
       "      <td>113.077759</td>\n",
       "      <td>109.174613</td>\n",
       "      <td>111.097170</td>\n",
       "      <td>113.077759</td>\n",
       "      <td>113.077759</td>\n",
       "      <td>-2.945627</td>\n",
       "      <td>-2.945627</td>\n",
       "      <td>-2.945627</td>\n",
       "      <td>-2.945627</td>\n",
       "      <td>-2.945627</td>\n",
       "      <td>-2.945627</td>\n",
       "      <td>0.0</td>\n",
       "      <td>0.0</td>\n",
       "      <td>0.0</td>\n",
       "      <td>110.132131</td>\n",
       "    </tr>\n",
       "    <tr>\n",
       "      <th>74</th>\n",
       "      <td>2023-03-01</td>\n",
       "      <td>113.481684</td>\n",
       "      <td>110.806644</td>\n",
       "      <td>112.853114</td>\n",
       "      <td>113.481684</td>\n",
       "      <td>113.481684</td>\n",
       "      <td>-1.604209</td>\n",
       "      <td>-1.604209</td>\n",
       "      <td>-1.604209</td>\n",
       "      <td>-1.604209</td>\n",
       "      <td>-1.604209</td>\n",
       "      <td>-1.604209</td>\n",
       "      <td>0.0</td>\n",
       "      <td>0.0</td>\n",
       "      <td>0.0</td>\n",
       "      <td>111.877475</td>\n",
       "    </tr>\n",
       "    <tr>\n",
       "      <th>75</th>\n",
       "      <td>2023-04-01</td>\n",
       "      <td>113.928887</td>\n",
       "      <td>111.984956</td>\n",
       "      <td>114.026545</td>\n",
       "      <td>113.928887</td>\n",
       "      <td>113.928887</td>\n",
       "      <td>-0.886551</td>\n",
       "      <td>-0.886551</td>\n",
       "      <td>-0.886551</td>\n",
       "      <td>-0.886551</td>\n",
       "      <td>-0.886551</td>\n",
       "      <td>-0.886551</td>\n",
       "      <td>0.0</td>\n",
       "      <td>0.0</td>\n",
       "      <td>0.0</td>\n",
       "      <td>113.042335</td>\n",
       "    </tr>\n",
       "    <tr>\n",
       "      <th>76</th>\n",
       "      <td>2023-05-01</td>\n",
       "      <td>114.361664</td>\n",
       "      <td>113.134246</td>\n",
       "      <td>114.983966</td>\n",
       "      <td>114.361664</td>\n",
       "      <td>114.361664</td>\n",
       "      <td>-0.273152</td>\n",
       "      <td>-0.273152</td>\n",
       "      <td>-0.273152</td>\n",
       "      <td>-0.273152</td>\n",
       "      <td>-0.273152</td>\n",
       "      <td>-0.273152</td>\n",
       "      <td>0.0</td>\n",
       "      <td>0.0</td>\n",
       "      <td>0.0</td>\n",
       "      <td>114.088512</td>\n",
       "    </tr>\n",
       "    <tr>\n",
       "      <th>77</th>\n",
       "      <td>2023-06-01</td>\n",
       "      <td>114.808867</td>\n",
       "      <td>115.146649</td>\n",
       "      <td>117.383950</td>\n",
       "      <td>114.689937</td>\n",
       "      <td>115.000272</td>\n",
       "      <td>1.435438</td>\n",
       "      <td>1.435438</td>\n",
       "      <td>1.435438</td>\n",
       "      <td>1.435438</td>\n",
       "      <td>1.435438</td>\n",
       "      <td>1.435438</td>\n",
       "      <td>0.0</td>\n",
       "      <td>0.0</td>\n",
       "      <td>0.0</td>\n",
       "      <td>116.244305</td>\n",
       "    </tr>\n",
       "  </tbody>\n",
       "</table>\n",
       "<p>78 rows × 16 columns</p>\n",
       "</div>"
      ],
      "text/plain": [
       "           ds       trend  yhat_lower  yhat_upper  trend_lower  trend_upper  \\\n",
       "0  2017-01-01   78.211492   75.987345   77.981846    78.211492    78.211492   \n",
       "1  2017-02-01   78.389791   76.201811   78.135297    78.389791    78.389791   \n",
       "2  2017-03-01   78.550836   75.925818   77.938551    78.550836    78.550836   \n",
       "3  2017-04-01   78.729135   75.950200   77.888551    78.729135    78.729135   \n",
       "4  2017-05-01   78.901683   76.250715   78.228890    78.901683    78.901683   \n",
       "..        ...         ...         ...         ...          ...          ...   \n",
       "73 2023-02-01  113.077759  109.174613  111.097170   113.077759   113.077759   \n",
       "74 2023-03-01  113.481684  110.806644  112.853114   113.481684   113.481684   \n",
       "75 2023-04-01  113.928887  111.984956  114.026545   113.928887   113.928887   \n",
       "76 2023-05-01  114.361664  113.134246  114.983966   114.361664   114.361664   \n",
       "77 2023-06-01  114.808867  115.146649  117.383950   114.689937   115.000272   \n",
       "\n",
       "    additive_terms  additive_terms_lower  additive_terms_upper    yearly  \\\n",
       "0        -1.273631             -1.273631             -1.273631 -1.273631   \n",
       "1        -1.227313             -1.227313             -1.227313 -1.227313   \n",
       "2        -1.572053             -1.572053             -1.572053 -1.572053   \n",
       "3        -1.782799             -1.782799             -1.782799 -1.782799   \n",
       "4        -1.628937             -1.628937             -1.628937 -1.628937   \n",
       "..             ...                   ...                   ...       ...   \n",
       "73       -2.945627             -2.945627             -2.945627 -2.945627   \n",
       "74       -1.604209             -1.604209             -1.604209 -1.604209   \n",
       "75       -0.886551             -0.886551             -0.886551 -0.886551   \n",
       "76       -0.273152             -0.273152             -0.273152 -0.273152   \n",
       "77        1.435438              1.435438              1.435438  1.435438   \n",
       "\n",
       "    yearly_lower  yearly_upper  multiplicative_terms  \\\n",
       "0      -1.273631     -1.273631                   0.0   \n",
       "1      -1.227313     -1.227313                   0.0   \n",
       "2      -1.572053     -1.572053                   0.0   \n",
       "3      -1.782799     -1.782799                   0.0   \n",
       "4      -1.628937     -1.628937                   0.0   \n",
       "..           ...           ...                   ...   \n",
       "73     -2.945627     -2.945627                   0.0   \n",
       "74     -1.604209     -1.604209                   0.0   \n",
       "75     -0.886551     -0.886551                   0.0   \n",
       "76     -0.273152     -0.273152                   0.0   \n",
       "77      1.435438      1.435438                   0.0   \n",
       "\n",
       "    multiplicative_terms_lower  multiplicative_terms_upper        yhat  \n",
       "0                          0.0                         0.0   76.937861  \n",
       "1                          0.0                         0.0   77.162478  \n",
       "2                          0.0                         0.0   76.978783  \n",
       "3                          0.0                         0.0   76.946336  \n",
       "4                          0.0                         0.0   77.272745  \n",
       "..                         ...                         ...         ...  \n",
       "73                         0.0                         0.0  110.132131  \n",
       "74                         0.0                         0.0  111.877475  \n",
       "75                         0.0                         0.0  113.042335  \n",
       "76                         0.0                         0.0  114.088512  \n",
       "77                         0.0                         0.0  116.244305  \n",
       "\n",
       "[78 rows x 16 columns]"
      ]
     },
     "execution_count": 960,
     "metadata": {},
     "output_type": "execute_result"
    }
   ],
   "source": [
    "forecast"
   ]
  },
  {
   "cell_type": "code",
   "execution_count": 961,
   "metadata": {},
   "outputs": [
    {
     "name": "stdout",
     "output_type": "stream",
     "text": [
      "10.0\n"
     ]
    }
   ],
   "source": [
    "print(str(ph.changepoint_prior_scale))"
   ]
  },
  {
   "cell_type": "code",
   "execution_count": null,
   "metadata": {},
   "outputs": [],
   "source": []
  },
  {
   "cell_type": "code",
   "execution_count": null,
   "metadata": {},
   "outputs": [],
   "source": []
  }
 ],
 "metadata": {
  "kernelspec": {
   "display_name": "Python 3 (ipykernel)",
   "language": "python",
   "name": "python3"
  },
  "language_info": {
   "codemirror_mode": {
    "name": "ipython",
    "version": 3
   },
   "file_extension": ".py",
   "mimetype": "text/x-python",
   "name": "python",
   "nbconvert_exporter": "python",
   "pygments_lexer": "ipython3",
   "version": "3.10.11"
  }
 },
 "nbformat": 4,
 "nbformat_minor": 4
}
