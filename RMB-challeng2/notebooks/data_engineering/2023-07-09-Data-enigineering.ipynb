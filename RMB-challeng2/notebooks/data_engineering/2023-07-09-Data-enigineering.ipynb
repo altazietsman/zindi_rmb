{
 "cells": [
  {
   "cell_type": "code",
   "execution_count": 1,
   "metadata": {},
   "outputs": [],
   "source": [
    "import wandb\n",
    "import pandas as pd\n",
    "import numpy as np\n",
    "import pathlib"
   ]
  },
  {
   "cell_type": "code",
   "execution_count": 10,
   "metadata": {},
   "outputs": [
    {
     "name": "stdout",
     "output_type": "stream",
     "text": [
      "--2023-08-28 08:14:23--  https://www.statssa.gov.za/timeseriesdata/Excel/P0141%20-%20CPI(5%20and%208%20digit)%20from%20Jan%202017%20(202307).zip\n",
      "Resolving www.statssa.gov.za (www.statssa.gov.za)... 45.60.125.5, 45.60.123.5\n",
      "Connecting to www.statssa.gov.za (www.statssa.gov.za)|45.60.125.5|:443... connected.\n",
      "HTTP request sent, awaiting response... 200 OK\n",
      "Length: 212 [text/html]\n",
      "Saving to: ‘P0141 - CPI(5 and 8 digit) from Jan 2017 (202307).zip’\n",
      "\n",
      "P0141 - CPI(5 and 8 100%[===================>]     212  --.-KB/s    in 0s      \n",
      "\n",
      "2023-08-28 08:14:23 (67.4 MB/s) - ‘P0141 - CPI(5 and 8 digit) from Jan 2017 (202307).zip’ saved [212/212]\n",
      "\n"
     ]
    }
   ],
   "source": [
    "!wget 'https://www.statssa.gov.za/timeseriesdata/Excel/P0141%20-%20CPI(5%20and%208%20digit)%20from%20Jan%202017%20(202307).zip'"
   ]
  },
  {
   "cell_type": "code",
   "execution_count": 12,
   "metadata": {},
   "outputs": [
    {
     "name": "stdout",
     "output_type": "stream",
     "text": [
      "Archive:  P0141 - CPI(5 and 8 digit) from Jan 2017 (202307).zip\n",
      "  inflating: EXCEL - CPI(5 and 8 digit) from Jan 2017 (202307).xlsx  \n"
     ]
    }
   ],
   "source": [
    "!unzip 'P0141 - CPI(5 and 8 digit) from Jan 2017 (202307).zip'"
   ]
  },
  {
   "cell_type": "code",
   "execution_count": 13,
   "metadata": {},
   "outputs": [
    {
     "data": {
      "text/html": [
       "Finishing last run (ID:7zdoudon) before initializing another..."
      ],
      "text/plain": [
       "<IPython.core.display.HTML object>"
      ]
     },
     "metadata": {},
     "output_type": "display_data"
    },
    {
     "data": {
      "text/html": [
       "Waiting for W&B process to finish... <strong style=\"color:green\">(success).</strong>"
      ],
      "text/plain": [
       "<IPython.core.display.HTML object>"
      ]
     },
     "metadata": {},
     "output_type": "display_data"
    },
    {
     "data": {
      "application/vnd.jupyter.widget-view+json": {
       "model_id": "a2fe8f96234544eda4079b8c8c3d9cfb",
       "version_major": 2,
       "version_minor": 0
      },
      "text/plain": [
       "VBox(children=(Label(value='0.001 MB of 0.001 MB uploaded (0.000 MB deduped)\\r'), FloatProgress(value=1.0, max…"
      ]
     },
     "metadata": {},
     "output_type": "display_data"
    },
    {
     "data": {
      "text/html": [
       " View run <strong style=\"color:#cdcd00\">woven-surf-23</strong> at: <a href='https://wandb.ai/pluto_is_a_planet/zindi-rmb/runs/7zdoudon' target=\"_blank\">https://wandb.ai/pluto_is_a_planet/zindi-rmb/runs/7zdoudon</a><br/>Synced 6 W&B file(s), 0 media file(s), 0 artifact file(s) and 0 other file(s)"
      ],
      "text/plain": [
       "<IPython.core.display.HTML object>"
      ]
     },
     "metadata": {},
     "output_type": "display_data"
    },
    {
     "data": {
      "text/html": [
       "Find logs at: <code>./wandb/run-20230828_080915-7zdoudon/logs</code>"
      ],
      "text/plain": [
       "<IPython.core.display.HTML object>"
      ]
     },
     "metadata": {},
     "output_type": "display_data"
    },
    {
     "data": {
      "text/html": [
       "Successfully finished last run (ID:7zdoudon). Initializing new run:<br/>"
      ],
      "text/plain": [
       "<IPython.core.display.HTML object>"
      ]
     },
     "metadata": {},
     "output_type": "display_data"
    },
    {
     "data": {
      "application/vnd.jupyter.widget-view+json": {
       "model_id": "3e3cc90519f043178c0116ff7f075835",
       "version_major": 2,
       "version_minor": 0
      },
      "text/plain": [
       "VBox(children=(Label(value='Waiting for wandb.init()...\\r'), FloatProgress(value=0.01673264101749131, max=1.0)…"
      ]
     },
     "metadata": {},
     "output_type": "display_data"
    },
    {
     "data": {
      "text/html": [
       "wandb version 0.15.8 is available!  To upgrade, please run:\n",
       " $ pip install wandb --upgrade"
      ],
      "text/plain": [
       "<IPython.core.display.HTML object>"
      ]
     },
     "metadata": {},
     "output_type": "display_data"
    },
    {
     "data": {
      "text/html": [
       "Tracking run with wandb version 0.15.4"
      ],
      "text/plain": [
       "<IPython.core.display.HTML object>"
      ]
     },
     "metadata": {},
     "output_type": "display_data"
    },
    {
     "data": {
      "text/html": [
       "Run data is saved locally in <code>/Users/janfaber/workspace/zindi/rmb_nowcast/zindi_rmb/wandb/run-20230828_081622-hn1ckzxe</code>"
      ],
      "text/plain": [
       "<IPython.core.display.HTML object>"
      ]
     },
     "metadata": {},
     "output_type": "display_data"
    },
    {
     "data": {
      "text/html": [
       "Syncing run <strong><a href='https://wandb.ai/pluto_is_a_planet/zindi-rmb/runs/hn1ckzxe' target=\"_blank\">efficient-glade-24</a></strong> to <a href='https://wandb.ai/pluto_is_a_planet/zindi-rmb' target=\"_blank\">Weights & Biases</a> (<a href='https://wandb.me/run' target=\"_blank\">docs</a>)<br/>"
      ],
      "text/plain": [
       "<IPython.core.display.HTML object>"
      ]
     },
     "metadata": {},
     "output_type": "display_data"
    },
    {
     "data": {
      "text/html": [
       " View project at <a href='https://wandb.ai/pluto_is_a_planet/zindi-rmb' target=\"_blank\">https://wandb.ai/pluto_is_a_planet/zindi-rmb</a>"
      ],
      "text/plain": [
       "<IPython.core.display.HTML object>"
      ]
     },
     "metadata": {},
     "output_type": "display_data"
    },
    {
     "data": {
      "text/html": [
       " View run at <a href='https://wandb.ai/pluto_is_a_planet/zindi-rmb/runs/hn1ckzxe' target=\"_blank\">https://wandb.ai/pluto_is_a_planet/zindi-rmb/runs/hn1ckzxe</a>"
      ],
      "text/plain": [
       "<IPython.core.display.HTML object>"
      ]
     },
     "metadata": {},
     "output_type": "display_data"
    }
   ],
   "source": [
    "run = wandb.init(\n",
    "    project=\"zindi-rmb\", \n",
    "    job_type='upload-dataset'\n",
    "    )"
   ]
  },
  {
   "cell_type": "code",
   "execution_count": 14,
   "metadata": {},
   "outputs": [],
   "source": [
    "artifact = wandb.Artifact(\n",
    "    name='cpi.csv', \n",
    "    type='dataset'\n",
    "    )  "
   ]
  },
  {
   "cell_type": "code",
   "execution_count": 15,
   "metadata": {},
   "outputs": [],
   "source": [
    "# get directory path\n",
    "path = str(pathlib.Path().cwd().parent.parent.resolve())"
   ]
  },
  {
   "cell_type": "code",
   "execution_count": 16,
   "metadata": {},
   "outputs": [],
   "source": [
    "# load raw data from stastsa\n",
    "raw_df = pd.read_excel(\n",
    "    \"EXCEL - CPI(5 and 8 digit) from Jan 2017 (202307).xlsx\",\n",
    "    dtype=\"object\",\n",
    ")"
   ]
  },
  {
   "attachments": {},
   "cell_type": "markdown",
   "metadata": {},
   "source": [
    "There are 12 main categories that are used to calculate the Headline CPI. Each category has a number of sub categories. This data set contains the CPI on sub-category level.\n",
    "\n",
    "Create a dataset where the CPI is calculated on the category level. These values will then be used in the models to predict the CPI for the different categories as well as the Headline CPI.\n",
    "\n",
    "In terms of cleaning the data, I will do the following:\n",
    "\n",
    "Remove unnecessary columns.\n",
    "Change column headers to make them more explanatory.\n",
    "Replace all .. entries with a 0. There are products which were included in the CPI calculations at a later stage and some products that were removed from the CPI calculation. Categories with no value at the time has a .., I will replace them with a 0. The type of the column can then be updated to float.\n",
    "Combine the Super maize and Special maize categories into a single Maize meal category, to correspond with the current use of maize meal.\n",
    "Create a function to calculate the CPI values for each month using the weights provided in the file"
   ]
  },
  {
   "cell_type": "code",
   "execution_count": 17,
   "metadata": {},
   "outputs": [],
   "source": [
    "def get_montly_cpi(raw_df):\n",
    "    \"\"\"Function that takes the raw cpi data for each product from statssa and calculates the cpi value per category\n",
    "\n",
    "    Arguments:\n",
    "    ----------\n",
    "    raw_df: pandas dataframe\n",
    "            dataframe containing raw data from statsa\n",
    "\n",
    "    Return:\n",
    "    -------\n",
    "    df_cpi: pandas dataframe\n",
    "            dataframe containing the monthly cpi per category\n",
    "    \"\"\"\n",
    "\n",
    "    # 1. remove unecessary columns and rename\n",
    "    list_cols_to_drop = [\"H01\", \"H02\", \"H05\", \"H06\", \"H07\"]\n",
    "    cat_cpi_df = raw_df.copy().drop(list_cols_to_drop, axis=1).copy()\n",
    "\n",
    "    cat_cpi_df.rename(\n",
    "        columns={\n",
    "            \"H03\": \"category_codes\",\n",
    "            \"H04\": \"category_descr\",\n",
    "            \"Weight (All urban)\": \"weights_urban\",\n",
    "        },\n",
    "        inplace=True,\n",
    "    )\n",
    "\n",
    "    # 2. replace .. with zeros\n",
    "    cat_cpi_df.replace(\"..\", 0, inplace=True)\n",
    "\n",
    "    # 3. combine maize meal categories\n",
    "    cat_cpi_df.iloc[17:19] = (\n",
    "        cat_cpi_df.iloc[17:19].copy().apply(pd.to_numeric, errors=\"coerce\")\n",
    "    )\n",
    "    divided_row = (cat_cpi_df.iloc[17].copy() + cat_cpi_df.iloc[18].copy()) / 2\n",
    "    cat_cpi_df.iloc[15] = [\n",
    "        divided_row[i] if value == 0 else value\n",
    "        for i, value in enumerate(cat_cpi_df.iloc[15].copy())\n",
    "    ]\n",
    "    cat_cpi_df.drop([cat_cpi_df.index[17], cat_cpi_df.index[18]], inplace=True)\n",
    "\n",
    "    # Convert the 'weights_urban' column to float\n",
    "    cat_cpi_df[\"weights_urban\"] = cat_cpi_df[\"weights_urban\"].astype(\"float\")\n",
    "\n",
    "    # 4. calculate cpi\n",
    "    # Assign a main category code to each raw data row.\n",
    "    main_category = []\n",
    "    for index, row in cat_cpi_df.iterrows():\n",
    "        if (len(row[\"category_codes\"]) == 8) & (\n",
    "            row[\"category_codes\"][:2] in [\"01\", \"02\"]\n",
    "        ):\n",
    "            main_category.append(row[\"category_codes\"][:2])\n",
    "        elif (\n",
    "            len(row[\"category_codes\"]) == 5\n",
    "        ):  # & (row['category_codes'][:2] not in [\"04\",\"07\"]):\n",
    "            main_category.append(row[\"category_codes\"][:2])\n",
    "        else:\n",
    "            main_category.append(\"no\")\n",
    "\n",
    "    cat_cpi_df[\"main_category_code\"] = main_category\n",
    "\n",
    "    # Drop the rows where the main_category_code is \"no\". That is to prevent double counting.\n",
    "    # Some categories have a sub category included in the data.\n",
    "    cat_cpi_df.drop(\n",
    "        cat_cpi_df[cat_cpi_df[\"main_category_code\"] == \"no\"].index, inplace=True\n",
    "    )\n",
    "\n",
    "    # Sum the weights for each category\n",
    "    sum_weights = cat_cpi_df.groupby(\"main_category_code\")[\"weights_urban\"].sum()\n",
    "\n",
    "    # create new cpi dataframe\n",
    "    cpi_df = pd.DataFrame()\n",
    "\n",
    "    # For each month create the headline CPI value and the CPI value per category.\n",
    "    for col in range(3, cat_cpi_df.shape[1] - 1):\n",
    "        cat_cpi_df = cat_cpi_df.copy()\n",
    "        column_name = cat_cpi_df.columns[col]\n",
    "        cat_cpi_df[\"weighted_index_\" + column_name] = (\n",
    "            cat_cpi_df[\"weights_urban\"] * cat_cpi_df[column_name]\n",
    "        )\n",
    "\n",
    "        sum_weighted_index = cat_cpi_df.groupby(\"main_category_code\")[\n",
    "            \"weighted_index_\" + column_name\n",
    "        ].sum()\n",
    "\n",
    "        # Concatenate the DataFrames horizontally\n",
    "        concat_df = pd.concat([sum_weights, sum_weighted_index], axis=1)\n",
    "\n",
    "        # Add a row that sums the values in the columns\n",
    "        sums_df = pd.DataFrame(\n",
    "            concat_df.sum().values.reshape(1, -1), columns=concat_df.columns\n",
    "        )\n",
    "        sums_df = sums_df.set_index(pd.Index([\"headline\"]))\n",
    "\n",
    "        # Concatenate the headline dataframe to the categories\n",
    "        month_cpi_df = pd.concat([concat_df, sums_df], axis=0)\n",
    "\n",
    "        # Calculate the CPI value\n",
    "        month_cpi_df[\"cpi_\" + column_name] = (\n",
    "            month_cpi_df[\"weighted_index_\" + column_name]\n",
    "            / month_cpi_df[\"weights_urban\"]\n",
    "        ).round(1)\n",
    "\n",
    "        cpi_df = pd.concat(\n",
    "            [cpi_df, month_cpi_df[[\"weights_urban\", \"cpi_\" + column_name]]], axis=1\n",
    "        )\n",
    "\n",
    "    # Remove duplicate weights columns and reset the index\n",
    "    cpi_df = cpi_df.loc[:, ~cpi_df.columns.duplicated()]\n",
    "    cpi_df = cpi_df.reset_index().rename(columns={\"index\": \"category\"})\n",
    "\n",
    "    # Dataframe with just the CPI values:\n",
    "    cpi_df = cpi_df.drop(\"weights_urban\", axis=1).copy()\n",
    "    transposed_cpi_df = cpi_df.set_index(\"category\").transpose().reset_index()\n",
    "    transposed_cpi_df[\"date\"] = transposed_cpi_df[\"index\"].apply(\n",
    "        lambda x: x.split(\"M\")[-1]\n",
    "    )\n",
    "    transposed_cpi_df[\"date\"] = transposed_cpi_df[\"date\"].apply(\n",
    "        lambda x: x[:4] + \"-\" + x[-2:]\n",
    "    )\n",
    "    # change month to datetime format\n",
    "    transposed_cpi_df[\"date\"] = pd.to_datetime(transposed_cpi_df[\"date\"]).dt.strftime(\n",
    "        \"%Y-%m\"\n",
    "    )\n",
    "\n",
    "    return transposed_cpi_df"
   ]
  },
  {
   "cell_type": "code",
   "execution_count": 18,
   "metadata": {},
   "outputs": [],
   "source": [
    "cpi = get_montly_cpi(raw_df=raw_df)"
   ]
  },
  {
   "cell_type": "code",
   "execution_count": 19,
   "metadata": {},
   "outputs": [],
   "source": [
    "# Create a category dictionary with the category code and description\n",
    "category_dict = {\n",
    "    \"01\": \"Food and non-alcoholic beverages\",\n",
    "    \"02\": \"Alcoholic beverages and tobacco\",\n",
    "    \"03\": \"Clothing and footwear\",\n",
    "    \"04\": \"Housing and utilities\",\n",
    "    \"05\": \"Household contents and services\",\n",
    "    \"06\": \"Health\",\n",
    "    \"07\": \"Transport\",\n",
    "    \"08\": \"Communication\",\n",
    "    \"09\": \"Recreation and culture\",\n",
    "    \"10\": \"Education\",\n",
    "    \"11\": \"Restaurants and hotels\",\n",
    "    \"12\": \"Miscellaneous goods and services\",\n",
    "    \"headline\": \"headline CPI\",\n",
    "}"
   ]
  },
  {
   "cell_type": "code",
   "execution_count": 20,
   "metadata": {},
   "outputs": [],
   "source": [
    "cpi = cpi.rename(columns=category_dict)"
   ]
  },
  {
   "cell_type": "code",
   "execution_count": 21,
   "metadata": {},
   "outputs": [
    {
     "data": {
      "text/html": [
       "<div>\n",
       "<style scoped>\n",
       "    .dataframe tbody tr th:only-of-type {\n",
       "        vertical-align: middle;\n",
       "    }\n",
       "\n",
       "    .dataframe tbody tr th {\n",
       "        vertical-align: top;\n",
       "    }\n",
       "\n",
       "    .dataframe thead th {\n",
       "        text-align: right;\n",
       "    }\n",
       "</style>\n",
       "<table border=\"1\" class=\"dataframe\">\n",
       "  <thead>\n",
       "    <tr style=\"text-align: right;\">\n",
       "      <th>category</th>\n",
       "      <th>index</th>\n",
       "      <th>Food and non-alcoholic beverages</th>\n",
       "      <th>Alcoholic beverages and tobacco</th>\n",
       "      <th>Clothing and footwear</th>\n",
       "      <th>Housing and utilities</th>\n",
       "      <th>Household contents and services</th>\n",
       "      <th>Health</th>\n",
       "      <th>Transport</th>\n",
       "      <th>Communication</th>\n",
       "      <th>Recreation and culture</th>\n",
       "      <th>Education</th>\n",
       "      <th>Restaurants and hotels</th>\n",
       "      <th>Miscellaneous goods and services</th>\n",
       "      <th>headline CPI</th>\n",
       "      <th>date</th>\n",
       "    </tr>\n",
       "  </thead>\n",
       "  <tbody>\n",
       "    <tr>\n",
       "      <th>0</th>\n",
       "      <td>cpi_M201701</td>\n",
       "      <td>81.6</td>\n",
       "      <td>78.5</td>\n",
       "      <td>92.7</td>\n",
       "      <td>82.1</td>\n",
       "      <td>90.5</td>\n",
       "      <td>79.3</td>\n",
       "      <td>76.7</td>\n",
       "      <td>103.7</td>\n",
       "      <td>95.9</td>\n",
       "      <td>74.2</td>\n",
       "      <td>88.2</td>\n",
       "      <td>78.4</td>\n",
       "      <td>82.4</td>\n",
       "      <td>2017-01</td>\n",
       "    </tr>\n",
       "    <tr>\n",
       "      <th>1</th>\n",
       "      <td>cpi_M201702</td>\n",
       "      <td>82.2</td>\n",
       "      <td>78.3</td>\n",
       "      <td>93.0</td>\n",
       "      <td>82.1</td>\n",
       "      <td>90.2</td>\n",
       "      <td>82.3</td>\n",
       "      <td>77.3</td>\n",
       "      <td>103.6</td>\n",
       "      <td>96.1</td>\n",
       "      <td>74.2</td>\n",
       "      <td>89.3</td>\n",
       "      <td>81.6</td>\n",
       "      <td>83.1</td>\n",
       "      <td>2017-02</td>\n",
       "    </tr>\n",
       "    <tr>\n",
       "      <th>2</th>\n",
       "      <td>cpi_M201703</td>\n",
       "      <td>82.4</td>\n",
       "      <td>79.5</td>\n",
       "      <td>93.3</td>\n",
       "      <td>82.8</td>\n",
       "      <td>90.7</td>\n",
       "      <td>83.0</td>\n",
       "      <td>77.2</td>\n",
       "      <td>102.9</td>\n",
       "      <td>96.2</td>\n",
       "      <td>79.4</td>\n",
       "      <td>89.4</td>\n",
       "      <td>81.7</td>\n",
       "      <td>83.6</td>\n",
       "      <td>2017-03</td>\n",
       "    </tr>\n",
       "    <tr>\n",
       "      <th>3</th>\n",
       "      <td>cpi_M201704</td>\n",
       "      <td>82.3</td>\n",
       "      <td>80.1</td>\n",
       "      <td>93.3</td>\n",
       "      <td>82.8</td>\n",
       "      <td>90.5</td>\n",
       "      <td>83.4</td>\n",
       "      <td>77.0</td>\n",
       "      <td>102.9</td>\n",
       "      <td>96.4</td>\n",
       "      <td>79.4</td>\n",
       "      <td>89.2</td>\n",
       "      <td>82.0</td>\n",
       "      <td>83.6</td>\n",
       "      <td>2017-04</td>\n",
       "    </tr>\n",
       "    <tr>\n",
       "      <th>4</th>\n",
       "      <td>cpi_M201705</td>\n",
       "      <td>82.7</td>\n",
       "      <td>80.3</td>\n",
       "      <td>93.5</td>\n",
       "      <td>82.8</td>\n",
       "      <td>90.6</td>\n",
       "      <td>83.6</td>\n",
       "      <td>77.8</td>\n",
       "      <td>102.7</td>\n",
       "      <td>96.3</td>\n",
       "      <td>79.4</td>\n",
       "      <td>88.5</td>\n",
       "      <td>82.0</td>\n",
       "      <td>83.8</td>\n",
       "      <td>2017-05</td>\n",
       "    </tr>\n",
       "  </tbody>\n",
       "</table>\n",
       "</div>"
      ],
      "text/plain": [
       "category        index  Food and non-alcoholic beverages  \\\n",
       "0         cpi_M201701                              81.6   \n",
       "1         cpi_M201702                              82.2   \n",
       "2         cpi_M201703                              82.4   \n",
       "3         cpi_M201704                              82.3   \n",
       "4         cpi_M201705                              82.7   \n",
       "\n",
       "category  Alcoholic beverages and tobacco  Clothing and footwear  \\\n",
       "0                                    78.5                   92.7   \n",
       "1                                    78.3                   93.0   \n",
       "2                                    79.5                   93.3   \n",
       "3                                    80.1                   93.3   \n",
       "4                                    80.3                   93.5   \n",
       "\n",
       "category  Housing and utilities  Household contents and services  Health  \\\n",
       "0                          82.1                             90.5    79.3   \n",
       "1                          82.1                             90.2    82.3   \n",
       "2                          82.8                             90.7    83.0   \n",
       "3                          82.8                             90.5    83.4   \n",
       "4                          82.8                             90.6    83.6   \n",
       "\n",
       "category  Transport  Communication  Recreation and culture  Education  \\\n",
       "0              76.7          103.7                    95.9       74.2   \n",
       "1              77.3          103.6                    96.1       74.2   \n",
       "2              77.2          102.9                    96.2       79.4   \n",
       "3              77.0          102.9                    96.4       79.4   \n",
       "4              77.8          102.7                    96.3       79.4   \n",
       "\n",
       "category  Restaurants and hotels  Miscellaneous goods and services  \\\n",
       "0                           88.2                              78.4   \n",
       "1                           89.3                              81.6   \n",
       "2                           89.4                              81.7   \n",
       "3                           89.2                              82.0   \n",
       "4                           88.5                              82.0   \n",
       "\n",
       "category  headline CPI     date  \n",
       "0                 82.4  2017-01  \n",
       "1                 83.1  2017-02  \n",
       "2                 83.6  2017-03  \n",
       "3                 83.6  2017-04  \n",
       "4                 83.8  2017-05  "
      ]
     },
     "execution_count": 21,
     "metadata": {},
     "output_type": "execute_result"
    }
   ],
   "source": [
    "cpi.head()"
   ]
  },
  {
   "cell_type": "code",
   "execution_count": 22,
   "metadata": {},
   "outputs": [],
   "source": [
    "cpi.to_csv(\"cpi.csv\")"
   ]
  },
  {
   "cell_type": "code",
   "execution_count": 23,
   "metadata": {},
   "outputs": [
    {
     "data": {
      "text/plain": [
       "<wandb.sdk.artifacts.local_artifact.Artifact at 0x7fe3f38e7100>"
      ]
     },
     "execution_count": 23,
     "metadata": {},
     "output_type": "execute_result"
    }
   ],
   "source": [
    "artifact.add_file(local_path='cpi.csv')\n",
    "run.log_artifact(artifact)"
   ]
  },
  {
   "cell_type": "code",
   "execution_count": 24,
   "metadata": {},
   "outputs": [
    {
     "data": {
      "text/html": [
       "Waiting for W&B process to finish... <strong style=\"color:green\">(success).</strong>"
      ],
      "text/plain": [
       "<IPython.core.display.HTML object>"
      ]
     },
     "metadata": {},
     "output_type": "display_data"
    },
    {
     "data": {
      "application/vnd.jupyter.widget-view+json": {
       "model_id": "0b26ab3a0ee6450696f17354630f8a61",
       "version_major": 2,
       "version_minor": 0
      },
      "text/plain": [
       "VBox(children=(Label(value='0.008 MB of 0.011 MB uploaded (0.000 MB deduped)\\r'), FloatProgress(value=0.748373…"
      ]
     },
     "metadata": {},
     "output_type": "display_data"
    },
    {
     "data": {
      "text/html": [
       " View run <strong style=\"color:#cdcd00\">efficient-glade-24</strong> at: <a href='https://wandb.ai/pluto_is_a_planet/zindi-rmb/runs/hn1ckzxe' target=\"_blank\">https://wandb.ai/pluto_is_a_planet/zindi-rmb/runs/hn1ckzxe</a><br/>Synced 5 W&B file(s), 0 media file(s), 1 artifact file(s) and 0 other file(s)"
      ],
      "text/plain": [
       "<IPython.core.display.HTML object>"
      ]
     },
     "metadata": {},
     "output_type": "display_data"
    },
    {
     "data": {
      "text/html": [
       "Find logs at: <code>./wandb/run-20230828_081622-hn1ckzxe/logs</code>"
      ],
      "text/plain": [
       "<IPython.core.display.HTML object>"
      ]
     },
     "metadata": {},
     "output_type": "display_data"
    }
   ],
   "source": [
    "run.finish()"
   ]
  },
  {
   "cell_type": "code",
   "execution_count": null,
   "metadata": {},
   "outputs": [],
   "source": []
  },
  {
   "cell_type": "code",
   "execution_count": null,
   "metadata": {},
   "outputs": [],
   "source": []
  }
 ],
 "metadata": {
  "kernelspec": {
   "display_name": "zindo_rmb",
   "language": "python",
   "name": "python3"
  },
  "language_info": {
   "codemirror_mode": {
    "name": "ipython",
    "version": 3
   },
   "file_extension": ".py",
   "mimetype": "text/x-python",
   "name": "python",
   "nbconvert_exporter": "python",
   "pygments_lexer": "ipython3",
   "version": "3.10.11"
  },
  "orig_nbformat": 4
 },
 "nbformat": 4,
 "nbformat_minor": 2
}
