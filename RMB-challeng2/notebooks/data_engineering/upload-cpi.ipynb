{
 "cells": [
  {
   "cell_type": "code",
   "execution_count": 7,
   "metadata": {},
   "outputs": [],
   "source": [
    "import wandb\n",
    "import pandas as pd"
   ]
  },
  {
   "cell_type": "code",
   "execution_count": 3,
   "metadata": {},
   "outputs": [
    {
     "name": "stdout",
     "output_type": "stream",
     "text": [
      "--2023-08-22 08:10:38--  https://www.statssa.gov.za/timeseriesdata/Excel/P0141%20-%20CPI(5%20and%208%20digit)%20from%20Jan%202017%20(202306).zip\n",
      "Resolving www.statssa.gov.za (www.statssa.gov.za)... 45.60.125.5, 45.60.123.5\n",
      "Connecting to www.statssa.gov.za (www.statssa.gov.za)|45.60.125.5|:443... connected.\n",
      "HTTP request sent, awaiting response... 200 OK\n",
      "Length: 109859 (107K) [application/zip]\n",
      "Saving to: ‘P0141 - CPI(5 and 8 digit) from Jan 2017 (202306).zip’\n",
      "\n",
      "P0141 - CPI(5 and 8 100%[===================>] 107.28K   193KB/s    in 0.6s    \n",
      "\n",
      "2023-08-22 08:10:39 (193 KB/s) - ‘P0141 - CPI(5 and 8 digit) from Jan 2017 (202306).zip’ saved [109859/109859]\n",
      "\n"
     ]
    }
   ],
   "source": [
    "!wget 'https://www.statssa.gov.za/timeseriesdata/Excel/P0141%20-%20CPI(5%20and%208%20digit)%20from%20Jan%202017%20(202306).zip'"
   ]
  },
  {
   "cell_type": "code",
   "execution_count": 9,
   "metadata": {},
   "outputs": [
    {
     "name": "stdout",
     "output_type": "stream",
     "text": [
      "Archive:  P0141 - CPI(5 and 8 digit) from Jan 2017 (202306).zip\n",
      "  inflating: EXCEL - CPI(5 and 8 digit) from Jan 2017 (202306).xlsx  \n"
     ]
    }
   ],
   "source": [
    "!unzip 'P0141 - CPI(5 and 8 digit) from Jan 2017 (202306).zip'"
   ]
  },
  {
   "cell_type": "code",
   "execution_count": 17,
   "metadata": {},
   "outputs": [],
   "source": [
    "upload_df = pd.read_excel('EXCEL - CPI(5 and 8 digit) from Jan 2017 (202306).xlsx')\n",
    "upload_df.to_csv('cpi.csv')"
   ]
  },
  {
   "cell_type": "code",
   "execution_count": 22,
   "metadata": {},
   "outputs": [
    {
     "data": {
      "text/html": [
       "wandb version 0.15.8 is available!  To upgrade, please run:\n",
       " $ pip install wandb --upgrade"
      ],
      "text/plain": [
       "<IPython.core.display.HTML object>"
      ]
     },
     "metadata": {},
     "output_type": "display_data"
    },
    {
     "data": {
      "text/html": [
       "Tracking run with wandb version 0.15.4"
      ],
      "text/plain": [
       "<IPython.core.display.HTML object>"
      ]
     },
     "metadata": {},
     "output_type": "display_data"
    },
    {
     "data": {
      "text/html": [
       "Run data is saved locally in <code>/Users/janfaber/workspace/zindi/rmb_nowcast/zindi_rmb/wandb/run-20230822_082116-rtxpdubj</code>"
      ],
      "text/plain": [
       "<IPython.core.display.HTML object>"
      ]
     },
     "metadata": {},
     "output_type": "display_data"
    },
    {
     "data": {
      "text/html": [
       "Syncing run <strong><a href='https://wandb.ai/pluto_is_a_planet/zindi-rmb/runs/rtxpdubj' target=\"_blank\">serene-pyramid-22</a></strong> to <a href='https://wandb.ai/pluto_is_a_planet/zindi-rmb' target=\"_blank\">Weights & Biases</a> (<a href='https://wandb.me/run' target=\"_blank\">docs</a>)<br/>"
      ],
      "text/plain": [
       "<IPython.core.display.HTML object>"
      ]
     },
     "metadata": {},
     "output_type": "display_data"
    },
    {
     "data": {
      "text/html": [
       " View project at <a href='https://wandb.ai/pluto_is_a_planet/zindi-rmb' target=\"_blank\">https://wandb.ai/pluto_is_a_planet/zindi-rmb</a>"
      ],
      "text/plain": [
       "<IPython.core.display.HTML object>"
      ]
     },
     "metadata": {},
     "output_type": "display_data"
    },
    {
     "data": {
      "text/html": [
       " View run at <a href='https://wandb.ai/pluto_is_a_planet/zindi-rmb/runs/rtxpdubj' target=\"_blank\">https://wandb.ai/pluto_is_a_planet/zindi-rmb/runs/rtxpdubj</a>"
      ],
      "text/plain": [
       "<IPython.core.display.HTML object>"
      ]
     },
     "metadata": {},
     "output_type": "display_data"
    }
   ],
   "source": [
    "run = wandb.init(\n",
    "    project=\"zindi-rmb\", \n",
    "    job_type='upload-dataset'\n",
    "    )"
   ]
  },
  {
   "cell_type": "code",
   "execution_count": 23,
   "metadata": {},
   "outputs": [],
   "source": [
    "artifact = wandb.Artifact(\n",
    "    name='cpi.csv', \n",
    "    type='dataset'\n",
    "    )    "
   ]
  },
  {
   "cell_type": "code",
   "execution_count": 24,
   "metadata": {},
   "outputs": [
    {
     "data": {
      "text/plain": [
       "<wandb.sdk.artifacts.artifact_manifest_entry.ArtifactManifestEntry at 0x7fe9b72abe50>"
      ]
     },
     "execution_count": 24,
     "metadata": {},
     "output_type": "execute_result"
    }
   ],
   "source": [
    "artifact.add_file(local_path='cpi.csv')"
   ]
  },
  {
   "cell_type": "code",
   "execution_count": 25,
   "metadata": {},
   "outputs": [
    {
     "data": {
      "text/plain": [
       "<wandb.sdk.artifacts.local_artifact.Artifact at 0x7fe9b868da50>"
      ]
     },
     "execution_count": 25,
     "metadata": {},
     "output_type": "execute_result"
    }
   ],
   "source": [
    "run.log_artifact(artifact)"
   ]
  },
  {
   "cell_type": "code",
   "execution_count": 26,
   "metadata": {},
   "outputs": [
    {
     "data": {
      "text/html": [
       "Waiting for W&B process to finish... <strong style=\"color:green\">(success).</strong>"
      ],
      "text/plain": [
       "<IPython.core.display.HTML object>"
      ]
     },
     "metadata": {},
     "output_type": "display_data"
    },
    {
     "data": {
      "text/html": [
       " View run <strong style=\"color:#cdcd00\">serene-pyramid-22</strong> at: <a href='https://wandb.ai/pluto_is_a_planet/zindi-rmb/runs/rtxpdubj' target=\"_blank\">https://wandb.ai/pluto_is_a_planet/zindi-rmb/runs/rtxpdubj</a><br/>Synced 5 W&B file(s), 0 media file(s), 1 artifact file(s) and 0 other file(s)"
      ],
      "text/plain": [
       "<IPython.core.display.HTML object>"
      ]
     },
     "metadata": {},
     "output_type": "display_data"
    },
    {
     "data": {
      "text/html": [
       "Find logs at: <code>./wandb/run-20230822_082116-rtxpdubj/logs</code>"
      ],
      "text/plain": [
       "<IPython.core.display.HTML object>"
      ]
     },
     "metadata": {},
     "output_type": "display_data"
    }
   ],
   "source": [
    "run.finish()"
   ]
  },
  {
   "cell_type": "code",
   "execution_count": null,
   "metadata": {},
   "outputs": [],
   "source": []
  },
  {
   "cell_type": "code",
   "execution_count": null,
   "metadata": {},
   "outputs": [],
   "source": []
  }
 ],
 "metadata": {
  "kernelspec": {
   "display_name": "zindo_rmb",
   "language": "python",
   "name": "python3"
  },
  "language_info": {
   "codemirror_mode": {
    "name": "ipython",
    "version": 3
   },
   "file_extension": ".py",
   "mimetype": "text/x-python",
   "name": "python",
   "nbconvert_exporter": "python",
   "pygments_lexer": "ipython3",
   "version": "3.10.11"
  },
  "orig_nbformat": 4
 },
 "nbformat": 4,
 "nbformat_minor": 2
}
